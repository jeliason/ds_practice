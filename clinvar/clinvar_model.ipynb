{
 "cells": [
  {
   "cell_type": "code",
   "execution_count": 10,
   "metadata": {},
   "outputs": [],
   "source": [
    "import numpy as np\n",
    "import pandas as pd\n",
    "import matplotlib.pyplot as plt\n",
    "import seaborn as sns\n",
    "%matplotlib inline"
   ]
  },
  {
   "cell_type": "code",
   "execution_count": 23,
   "metadata": {},
   "outputs": [],
   "source": [
    "import warnings\n",
    "warnings.simplefilter(\"ignore\")"
   ]
  },
  {
   "cell_type": "code",
   "execution_count": 6,
   "metadata": {},
   "outputs": [],
   "source": [
    "pd.set_option('max_columns',None)"
   ]
  },
  {
   "cell_type": "code",
   "execution_count": 35,
   "metadata": {},
   "outputs": [],
   "source": [
    "df=pd.read_csv('clinvar_conflicting.csv',dtype={0: object, 38: str, 40: object})"
   ]
  },
  {
   "cell_type": "code",
   "execution_count": 36,
   "metadata": {
    "scrolled": true
   },
   "outputs": [
    {
     "name": "stdout",
     "output_type": "stream",
     "text": [
      "<class 'pandas.core.frame.DataFrame'>\n",
      "RangeIndex: 65188 entries, 0 to 65187\n",
      "Data columns (total 46 columns):\n",
      "CHROM                 65188 non-null object\n",
      "POS                   65188 non-null int64\n",
      "REF                   65188 non-null object\n",
      "ALT                   65188 non-null object\n",
      "AF_ESP                65188 non-null float64\n",
      "AF_EXAC               65188 non-null float64\n",
      "AF_TGP                65188 non-null float64\n",
      "CLNDISDB              65188 non-null object\n",
      "CLNDISDBINCL          76 non-null object\n",
      "CLNDN                 65188 non-null object\n",
      "CLNDNINCL             76 non-null object\n",
      "CLNHGVS               65188 non-null object\n",
      "CLNSIGINCL            76 non-null object\n",
      "CLNVC                 65188 non-null object\n",
      "CLNVI                 27659 non-null object\n",
      "MC                    58219 non-null object\n",
      "ORIGIN                59065 non-null float64\n",
      "SSR                   104 non-null float64\n",
      "CLASS                 65188 non-null int64\n",
      "Allele                65188 non-null object\n",
      "Consequence           65188 non-null object\n",
      "IMPACT                65188 non-null object\n",
      "SYMBOL                65172 non-null object\n",
      "Feature_type          65174 non-null object\n",
      "Feature               65174 non-null object\n",
      "BIOTYPE               65172 non-null object\n",
      "EXON                  56295 non-null object\n",
      "INTRON                8803 non-null object\n",
      "cDNA_position         56304 non-null object\n",
      "CDS_position          55233 non-null object\n",
      "Protein_position      55233 non-null object\n",
      "Amino_acids           55184 non-null object\n",
      "Codons                55184 non-null object\n",
      "DISTANCE              108 non-null float64\n",
      "STRAND                65174 non-null float64\n",
      "BAM_EDIT              31969 non-null object\n",
      "SIFT                  24836 non-null object\n",
      "PolyPhen              24796 non-null object\n",
      "MOTIF_NAME            2 non-null object\n",
      "MOTIF_POS             2 non-null float64\n",
      "HIGH_INF_POS          2 non-null object\n",
      "MOTIF_SCORE_CHANGE    2 non-null float64\n",
      "LoFtool               60975 non-null float64\n",
      "CADD_PHRED            64096 non-null float64\n",
      "CADD_RAW              64096 non-null float64\n",
      "BLOSUM62              25593 non-null float64\n",
      "dtypes: float64(13), int64(2), object(31)\n",
      "memory usage: 22.9+ MB\n"
     ]
    }
   ],
   "source": [
    "df.info()"
   ]
  },
  {
   "cell_type": "code",
   "execution_count": 8,
   "metadata": {},
   "outputs": [
    {
     "data": {
      "text/html": [
       "<div>\n",
       "<style scoped>\n",
       "    .dataframe tbody tr th:only-of-type {\n",
       "        vertical-align: middle;\n",
       "    }\n",
       "\n",
       "    .dataframe tbody tr th {\n",
       "        vertical-align: top;\n",
       "    }\n",
       "\n",
       "    .dataframe thead th {\n",
       "        text-align: right;\n",
       "    }\n",
       "</style>\n",
       "<table border=\"1\" class=\"dataframe\">\n",
       "  <thead>\n",
       "    <tr style=\"text-align: right;\">\n",
       "      <th></th>\n",
       "      <th>CHROM</th>\n",
       "      <th>POS</th>\n",
       "      <th>REF</th>\n",
       "      <th>ALT</th>\n",
       "      <th>AF_ESP</th>\n",
       "      <th>AF_EXAC</th>\n",
       "      <th>AF_TGP</th>\n",
       "      <th>CLNDISDB</th>\n",
       "      <th>CLNDISDBINCL</th>\n",
       "      <th>CLNDN</th>\n",
       "      <th>CLNDNINCL</th>\n",
       "      <th>CLNHGVS</th>\n",
       "      <th>CLNSIGINCL</th>\n",
       "      <th>CLNVC</th>\n",
       "      <th>CLNVI</th>\n",
       "      <th>MC</th>\n",
       "      <th>ORIGIN</th>\n",
       "      <th>SSR</th>\n",
       "      <th>CLASS</th>\n",
       "      <th>Allele</th>\n",
       "      <th>Consequence</th>\n",
       "      <th>IMPACT</th>\n",
       "      <th>SYMBOL</th>\n",
       "      <th>Feature_type</th>\n",
       "      <th>Feature</th>\n",
       "      <th>BIOTYPE</th>\n",
       "      <th>EXON</th>\n",
       "      <th>INTRON</th>\n",
       "      <th>cDNA_position</th>\n",
       "      <th>CDS_position</th>\n",
       "      <th>Protein_position</th>\n",
       "      <th>Amino_acids</th>\n",
       "      <th>Codons</th>\n",
       "      <th>DISTANCE</th>\n",
       "      <th>STRAND</th>\n",
       "      <th>BAM_EDIT</th>\n",
       "      <th>SIFT</th>\n",
       "      <th>PolyPhen</th>\n",
       "      <th>MOTIF_NAME</th>\n",
       "      <th>MOTIF_POS</th>\n",
       "      <th>HIGH_INF_POS</th>\n",
       "      <th>MOTIF_SCORE_CHANGE</th>\n",
       "      <th>LoFtool</th>\n",
       "      <th>CADD_PHRED</th>\n",
       "      <th>CADD_RAW</th>\n",
       "      <th>BLOSUM62</th>\n",
       "    </tr>\n",
       "  </thead>\n",
       "  <tbody>\n",
       "    <tr>\n",
       "      <th>0</th>\n",
       "      <td>1</td>\n",
       "      <td>955563</td>\n",
       "      <td>G</td>\n",
       "      <td>C</td>\n",
       "      <td>0.0000</td>\n",
       "      <td>0.00000</td>\n",
       "      <td>0.0000</td>\n",
       "      <td>MedGen:C3808739,OMIM:615120|MedGen:CN169374</td>\n",
       "      <td>NaN</td>\n",
       "      <td>Myasthenic_syndrome,_congenital,_8|not_specified</td>\n",
       "      <td>NaN</td>\n",
       "      <td>NC_000001.10:g.955563G&gt;C</td>\n",
       "      <td>NaN</td>\n",
       "      <td>single_nucleotide_variant</td>\n",
       "      <td>NaN</td>\n",
       "      <td>SO:0001583|missense_variant</td>\n",
       "      <td>1.0</td>\n",
       "      <td>NaN</td>\n",
       "      <td>0</td>\n",
       "      <td>C</td>\n",
       "      <td>missense_variant</td>\n",
       "      <td>MODERATE</td>\n",
       "      <td>AGRN</td>\n",
       "      <td>Transcript</td>\n",
       "      <td>NM_001305275.1</td>\n",
       "      <td>protein_coding</td>\n",
       "      <td>1/39</td>\n",
       "      <td>NaN</td>\n",
       "      <td>61</td>\n",
       "      <td>11</td>\n",
       "      <td>4</td>\n",
       "      <td>R/P</td>\n",
       "      <td>cGg/cCg</td>\n",
       "      <td>NaN</td>\n",
       "      <td>1.0</td>\n",
       "      <td>NaN</td>\n",
       "      <td>NaN</td>\n",
       "      <td>NaN</td>\n",
       "      <td>NaN</td>\n",
       "      <td>NaN</td>\n",
       "      <td>NaN</td>\n",
       "      <td>NaN</td>\n",
       "      <td>0.421</td>\n",
       "      <td>11.390</td>\n",
       "      <td>1.133255</td>\n",
       "      <td>-2.0</td>\n",
       "    </tr>\n",
       "    <tr>\n",
       "      <th>1</th>\n",
       "      <td>1</td>\n",
       "      <td>955597</td>\n",
       "      <td>G</td>\n",
       "      <td>T</td>\n",
       "      <td>0.0000</td>\n",
       "      <td>0.42418</td>\n",
       "      <td>0.2826</td>\n",
       "      <td>MedGen:CN169374</td>\n",
       "      <td>NaN</td>\n",
       "      <td>not_specified</td>\n",
       "      <td>NaN</td>\n",
       "      <td>NC_000001.10:g.955597G&gt;T</td>\n",
       "      <td>NaN</td>\n",
       "      <td>single_nucleotide_variant</td>\n",
       "      <td>NaN</td>\n",
       "      <td>SO:0001819|synonymous_variant</td>\n",
       "      <td>1.0</td>\n",
       "      <td>NaN</td>\n",
       "      <td>0</td>\n",
       "      <td>T</td>\n",
       "      <td>synonymous_variant</td>\n",
       "      <td>LOW</td>\n",
       "      <td>AGRN</td>\n",
       "      <td>Transcript</td>\n",
       "      <td>NM_001305275.1</td>\n",
       "      <td>protein_coding</td>\n",
       "      <td>1/39</td>\n",
       "      <td>NaN</td>\n",
       "      <td>95</td>\n",
       "      <td>45</td>\n",
       "      <td>15</td>\n",
       "      <td>P</td>\n",
       "      <td>ccG/ccT</td>\n",
       "      <td>NaN</td>\n",
       "      <td>1.0</td>\n",
       "      <td>NaN</td>\n",
       "      <td>NaN</td>\n",
       "      <td>NaN</td>\n",
       "      <td>NaN</td>\n",
       "      <td>NaN</td>\n",
       "      <td>NaN</td>\n",
       "      <td>NaN</td>\n",
       "      <td>0.421</td>\n",
       "      <td>8.150</td>\n",
       "      <td>0.599088</td>\n",
       "      <td>NaN</td>\n",
       "    </tr>\n",
       "    <tr>\n",
       "      <th>2</th>\n",
       "      <td>1</td>\n",
       "      <td>955619</td>\n",
       "      <td>G</td>\n",
       "      <td>C</td>\n",
       "      <td>0.0000</td>\n",
       "      <td>0.03475</td>\n",
       "      <td>0.0088</td>\n",
       "      <td>MedGen:C3808739,OMIM:615120|MedGen:CN169374</td>\n",
       "      <td>NaN</td>\n",
       "      <td>Myasthenic_syndrome,_congenital,_8|not_specified</td>\n",
       "      <td>NaN</td>\n",
       "      <td>NC_000001.10:g.955619G&gt;C</td>\n",
       "      <td>NaN</td>\n",
       "      <td>single_nucleotide_variant</td>\n",
       "      <td>NaN</td>\n",
       "      <td>SO:0001583|missense_variant</td>\n",
       "      <td>1.0</td>\n",
       "      <td>NaN</td>\n",
       "      <td>1</td>\n",
       "      <td>C</td>\n",
       "      <td>missense_variant</td>\n",
       "      <td>MODERATE</td>\n",
       "      <td>AGRN</td>\n",
       "      <td>Transcript</td>\n",
       "      <td>NM_001305275.1</td>\n",
       "      <td>protein_coding</td>\n",
       "      <td>1/39</td>\n",
       "      <td>NaN</td>\n",
       "      <td>117</td>\n",
       "      <td>67</td>\n",
       "      <td>23</td>\n",
       "      <td>V/L</td>\n",
       "      <td>Gtc/Ctc</td>\n",
       "      <td>NaN</td>\n",
       "      <td>1.0</td>\n",
       "      <td>NaN</td>\n",
       "      <td>NaN</td>\n",
       "      <td>NaN</td>\n",
       "      <td>NaN</td>\n",
       "      <td>NaN</td>\n",
       "      <td>NaN</td>\n",
       "      <td>NaN</td>\n",
       "      <td>0.421</td>\n",
       "      <td>3.288</td>\n",
       "      <td>0.069819</td>\n",
       "      <td>1.0</td>\n",
       "    </tr>\n",
       "    <tr>\n",
       "      <th>3</th>\n",
       "      <td>1</td>\n",
       "      <td>957640</td>\n",
       "      <td>C</td>\n",
       "      <td>T</td>\n",
       "      <td>0.0318</td>\n",
       "      <td>0.02016</td>\n",
       "      <td>0.0328</td>\n",
       "      <td>MedGen:C3808739,OMIM:615120|MedGen:CN169374</td>\n",
       "      <td>NaN</td>\n",
       "      <td>Myasthenic_syndrome,_congenital,_8|not_specified</td>\n",
       "      <td>NaN</td>\n",
       "      <td>NC_000001.10:g.957640C&gt;T</td>\n",
       "      <td>NaN</td>\n",
       "      <td>single_nucleotide_variant</td>\n",
       "      <td>NaN</td>\n",
       "      <td>SO:0001819|synonymous_variant</td>\n",
       "      <td>1.0</td>\n",
       "      <td>NaN</td>\n",
       "      <td>0</td>\n",
       "      <td>T</td>\n",
       "      <td>synonymous_variant</td>\n",
       "      <td>LOW</td>\n",
       "      <td>AGRN</td>\n",
       "      <td>Transcript</td>\n",
       "      <td>NM_001305275.1</td>\n",
       "      <td>protein_coding</td>\n",
       "      <td>2/39</td>\n",
       "      <td>NaN</td>\n",
       "      <td>311</td>\n",
       "      <td>261</td>\n",
       "      <td>87</td>\n",
       "      <td>D</td>\n",
       "      <td>gaC/gaT</td>\n",
       "      <td>NaN</td>\n",
       "      <td>1.0</td>\n",
       "      <td>NaN</td>\n",
       "      <td>NaN</td>\n",
       "      <td>NaN</td>\n",
       "      <td>NaN</td>\n",
       "      <td>NaN</td>\n",
       "      <td>NaN</td>\n",
       "      <td>NaN</td>\n",
       "      <td>0.421</td>\n",
       "      <td>12.560</td>\n",
       "      <td>1.356499</td>\n",
       "      <td>NaN</td>\n",
       "    </tr>\n",
       "    <tr>\n",
       "      <th>4</th>\n",
       "      <td>1</td>\n",
       "      <td>976059</td>\n",
       "      <td>C</td>\n",
       "      <td>T</td>\n",
       "      <td>0.0000</td>\n",
       "      <td>0.00022</td>\n",
       "      <td>0.0010</td>\n",
       "      <td>MedGen:CN169374</td>\n",
       "      <td>NaN</td>\n",
       "      <td>not_specified</td>\n",
       "      <td>NaN</td>\n",
       "      <td>NC_000001.10:g.976059C&gt;T</td>\n",
       "      <td>NaN</td>\n",
       "      <td>single_nucleotide_variant</td>\n",
       "      <td>NaN</td>\n",
       "      <td>SO:0001819|synonymous_variant</td>\n",
       "      <td>1.0</td>\n",
       "      <td>NaN</td>\n",
       "      <td>1</td>\n",
       "      <td>T</td>\n",
       "      <td>synonymous_variant</td>\n",
       "      <td>LOW</td>\n",
       "      <td>AGRN</td>\n",
       "      <td>Transcript</td>\n",
       "      <td>NM_001305275.1</td>\n",
       "      <td>protein_coding</td>\n",
       "      <td>4/39</td>\n",
       "      <td>NaN</td>\n",
       "      <td>576</td>\n",
       "      <td>526</td>\n",
       "      <td>176</td>\n",
       "      <td>L</td>\n",
       "      <td>Ctg/Ttg</td>\n",
       "      <td>NaN</td>\n",
       "      <td>1.0</td>\n",
       "      <td>NaN</td>\n",
       "      <td>NaN</td>\n",
       "      <td>NaN</td>\n",
       "      <td>NaN</td>\n",
       "      <td>NaN</td>\n",
       "      <td>NaN</td>\n",
       "      <td>NaN</td>\n",
       "      <td>0.421</td>\n",
       "      <td>17.740</td>\n",
       "      <td>2.234711</td>\n",
       "      <td>NaN</td>\n",
       "    </tr>\n",
       "    <tr>\n",
       "      <th>5</th>\n",
       "      <td>1</td>\n",
       "      <td>976554</td>\n",
       "      <td>C</td>\n",
       "      <td>G</td>\n",
       "      <td>0.0000</td>\n",
       "      <td>0.01494</td>\n",
       "      <td>0.0256</td>\n",
       "      <td>MedGen:C3808739,OMIM:615120|MedGen:CN169374</td>\n",
       "      <td>NaN</td>\n",
       "      <td>Myasthenic_syndrome,_congenital,_8|not_specified</td>\n",
       "      <td>NaN</td>\n",
       "      <td>NC_000001.10:g.976554C&gt;G</td>\n",
       "      <td>NaN</td>\n",
       "      <td>single_nucleotide_variant</td>\n",
       "      <td>NaN</td>\n",
       "      <td>SO:0001819|synonymous_variant</td>\n",
       "      <td>1.0</td>\n",
       "      <td>NaN</td>\n",
       "      <td>0</td>\n",
       "      <td>G</td>\n",
       "      <td>splice_region_variant&amp;synonymous_variant</td>\n",
       "      <td>LOW</td>\n",
       "      <td>AGRN</td>\n",
       "      <td>Transcript</td>\n",
       "      <td>NM_001305275.1</td>\n",
       "      <td>protein_coding</td>\n",
       "      <td>5/39</td>\n",
       "      <td>NaN</td>\n",
       "      <td>779</td>\n",
       "      <td>729</td>\n",
       "      <td>243</td>\n",
       "      <td>G</td>\n",
       "      <td>ggC/ggG</td>\n",
       "      <td>NaN</td>\n",
       "      <td>1.0</td>\n",
       "      <td>NaN</td>\n",
       "      <td>NaN</td>\n",
       "      <td>NaN</td>\n",
       "      <td>NaN</td>\n",
       "      <td>NaN</td>\n",
       "      <td>NaN</td>\n",
       "      <td>NaN</td>\n",
       "      <td>0.421</td>\n",
       "      <td>3.552</td>\n",
       "      <td>0.094740</td>\n",
       "      <td>NaN</td>\n",
       "    </tr>\n",
       "    <tr>\n",
       "      <th>6</th>\n",
       "      <td>1</td>\n",
       "      <td>976563</td>\n",
       "      <td>C</td>\n",
       "      <td>T</td>\n",
       "      <td>0.0000</td>\n",
       "      <td>0.00135</td>\n",
       "      <td>0.0098</td>\n",
       "      <td>MedGen:C3808739,OMIM:615120|MedGen:CN169374</td>\n",
       "      <td>NaN</td>\n",
       "      <td>Myasthenic_syndrome,_congenital,_8|not_specified</td>\n",
       "      <td>NaN</td>\n",
       "      <td>NC_000001.10:g.976563C&gt;T</td>\n",
       "      <td>NaN</td>\n",
       "      <td>single_nucleotide_variant</td>\n",
       "      <td>NaN</td>\n",
       "      <td>SO:0001819|synonymous_variant</td>\n",
       "      <td>1.0</td>\n",
       "      <td>NaN</td>\n",
       "      <td>0</td>\n",
       "      <td>T</td>\n",
       "      <td>synonymous_variant</td>\n",
       "      <td>LOW</td>\n",
       "      <td>AGRN</td>\n",
       "      <td>Transcript</td>\n",
       "      <td>NM_001305275.1</td>\n",
       "      <td>protein_coding</td>\n",
       "      <td>5/39</td>\n",
       "      <td>NaN</td>\n",
       "      <td>788</td>\n",
       "      <td>738</td>\n",
       "      <td>246</td>\n",
       "      <td>D</td>\n",
       "      <td>gaC/gaT</td>\n",
       "      <td>NaN</td>\n",
       "      <td>1.0</td>\n",
       "      <td>NaN</td>\n",
       "      <td>NaN</td>\n",
       "      <td>NaN</td>\n",
       "      <td>NaN</td>\n",
       "      <td>NaN</td>\n",
       "      <td>NaN</td>\n",
       "      <td>NaN</td>\n",
       "      <td>0.421</td>\n",
       "      <td>9.846</td>\n",
       "      <td>0.862789</td>\n",
       "      <td>NaN</td>\n",
       "    </tr>\n",
       "    <tr>\n",
       "      <th>7</th>\n",
       "      <td>1</td>\n",
       "      <td>976598</td>\n",
       "      <td>C</td>\n",
       "      <td>T</td>\n",
       "      <td>0.0000</td>\n",
       "      <td>0.00626</td>\n",
       "      <td>0.0056</td>\n",
       "      <td>MedGen:C3808739,OMIM:615120|MedGen:CN169374</td>\n",
       "      <td>NaN</td>\n",
       "      <td>Myasthenic_syndrome,_congenital,_8|not_specified</td>\n",
       "      <td>NaN</td>\n",
       "      <td>NC_000001.10:g.976598C&gt;T</td>\n",
       "      <td>NaN</td>\n",
       "      <td>single_nucleotide_variant</td>\n",
       "      <td>NaN</td>\n",
       "      <td>SO:0001583|missense_variant</td>\n",
       "      <td>1.0</td>\n",
       "      <td>NaN</td>\n",
       "      <td>0</td>\n",
       "      <td>T</td>\n",
       "      <td>missense_variant</td>\n",
       "      <td>MODERATE</td>\n",
       "      <td>AGRN</td>\n",
       "      <td>Transcript</td>\n",
       "      <td>NM_001305275.1</td>\n",
       "      <td>protein_coding</td>\n",
       "      <td>5/39</td>\n",
       "      <td>NaN</td>\n",
       "      <td>823</td>\n",
       "      <td>773</td>\n",
       "      <td>258</td>\n",
       "      <td>T/I</td>\n",
       "      <td>aCc/aTc</td>\n",
       "      <td>NaN</td>\n",
       "      <td>1.0</td>\n",
       "      <td>NaN</td>\n",
       "      <td>NaN</td>\n",
       "      <td>NaN</td>\n",
       "      <td>NaN</td>\n",
       "      <td>NaN</td>\n",
       "      <td>NaN</td>\n",
       "      <td>NaN</td>\n",
       "      <td>0.421</td>\n",
       "      <td>24.000</td>\n",
       "      <td>4.293015</td>\n",
       "      <td>-1.0</td>\n",
       "    </tr>\n",
       "    <tr>\n",
       "      <th>8</th>\n",
       "      <td>1</td>\n",
       "      <td>976629</td>\n",
       "      <td>C</td>\n",
       "      <td>T</td>\n",
       "      <td>0.0000</td>\n",
       "      <td>0.01004</td>\n",
       "      <td>0.0411</td>\n",
       "      <td>MedGen:C3808739,OMIM:615120|MedGen:CN169374</td>\n",
       "      <td>NaN</td>\n",
       "      <td>Myasthenic_syndrome,_congenital,_8|not_specified</td>\n",
       "      <td>NaN</td>\n",
       "      <td>NC_000001.10:g.976629C&gt;T</td>\n",
       "      <td>NaN</td>\n",
       "      <td>single_nucleotide_variant</td>\n",
       "      <td>NaN</td>\n",
       "      <td>SO:0001819|synonymous_variant</td>\n",
       "      <td>1.0</td>\n",
       "      <td>NaN</td>\n",
       "      <td>0</td>\n",
       "      <td>T</td>\n",
       "      <td>synonymous_variant</td>\n",
       "      <td>LOW</td>\n",
       "      <td>AGRN</td>\n",
       "      <td>Transcript</td>\n",
       "      <td>NM_001305275.1</td>\n",
       "      <td>protein_coding</td>\n",
       "      <td>5/39</td>\n",
       "      <td>NaN</td>\n",
       "      <td>854</td>\n",
       "      <td>804</td>\n",
       "      <td>268</td>\n",
       "      <td>A</td>\n",
       "      <td>gcC/gcT</td>\n",
       "      <td>NaN</td>\n",
       "      <td>1.0</td>\n",
       "      <td>NaN</td>\n",
       "      <td>NaN</td>\n",
       "      <td>NaN</td>\n",
       "      <td>NaN</td>\n",
       "      <td>NaN</td>\n",
       "      <td>NaN</td>\n",
       "      <td>NaN</td>\n",
       "      <td>0.421</td>\n",
       "      <td>13.510</td>\n",
       "      <td>1.537558</td>\n",
       "      <td>NaN</td>\n",
       "    </tr>\n",
       "    <tr>\n",
       "      <th>9</th>\n",
       "      <td>1</td>\n",
       "      <td>976963</td>\n",
       "      <td>A</td>\n",
       "      <td>G</td>\n",
       "      <td>0.0141</td>\n",
       "      <td>0.00461</td>\n",
       "      <td>0.0126</td>\n",
       "      <td>MedGen:C3808739,OMIM:615120|MedGen:CN169374</td>\n",
       "      <td>NaN</td>\n",
       "      <td>Myasthenic_syndrome,_congenital,_8|not_specified</td>\n",
       "      <td>NaN</td>\n",
       "      <td>NC_000001.10:g.976963A&gt;G</td>\n",
       "      <td>NaN</td>\n",
       "      <td>single_nucleotide_variant</td>\n",
       "      <td>NaN</td>\n",
       "      <td>SO:0001583|missense_variant</td>\n",
       "      <td>1.0</td>\n",
       "      <td>NaN</td>\n",
       "      <td>0</td>\n",
       "      <td>G</td>\n",
       "      <td>missense_variant</td>\n",
       "      <td>MODERATE</td>\n",
       "      <td>AGRN</td>\n",
       "      <td>Transcript</td>\n",
       "      <td>NM_001305275.1</td>\n",
       "      <td>protein_coding</td>\n",
       "      <td>6/39</td>\n",
       "      <td>NaN</td>\n",
       "      <td>1108</td>\n",
       "      <td>1058</td>\n",
       "      <td>353</td>\n",
       "      <td>Q/R</td>\n",
       "      <td>cAg/cGg</td>\n",
       "      <td>NaN</td>\n",
       "      <td>1.0</td>\n",
       "      <td>NaN</td>\n",
       "      <td>NaN</td>\n",
       "      <td>NaN</td>\n",
       "      <td>NaN</td>\n",
       "      <td>NaN</td>\n",
       "      <td>NaN</td>\n",
       "      <td>NaN</td>\n",
       "      <td>0.421</td>\n",
       "      <td>0.001</td>\n",
       "      <td>-2.588522</td>\n",
       "      <td>1.0</td>\n",
       "    </tr>\n",
       "  </tbody>\n",
       "</table>\n",
       "</div>"
      ],
      "text/plain": [
       "  CHROM     POS REF ALT  AF_ESP  AF_EXAC  AF_TGP  \\\n",
       "0     1  955563   G   C  0.0000  0.00000  0.0000   \n",
       "1     1  955597   G   T  0.0000  0.42418  0.2826   \n",
       "2     1  955619   G   C  0.0000  0.03475  0.0088   \n",
       "3     1  957640   C   T  0.0318  0.02016  0.0328   \n",
       "4     1  976059   C   T  0.0000  0.00022  0.0010   \n",
       "5     1  976554   C   G  0.0000  0.01494  0.0256   \n",
       "6     1  976563   C   T  0.0000  0.00135  0.0098   \n",
       "7     1  976598   C   T  0.0000  0.00626  0.0056   \n",
       "8     1  976629   C   T  0.0000  0.01004  0.0411   \n",
       "9     1  976963   A   G  0.0141  0.00461  0.0126   \n",
       "\n",
       "                                      CLNDISDB CLNDISDBINCL  \\\n",
       "0  MedGen:C3808739,OMIM:615120|MedGen:CN169374          NaN   \n",
       "1                              MedGen:CN169374          NaN   \n",
       "2  MedGen:C3808739,OMIM:615120|MedGen:CN169374          NaN   \n",
       "3  MedGen:C3808739,OMIM:615120|MedGen:CN169374          NaN   \n",
       "4                              MedGen:CN169374          NaN   \n",
       "5  MedGen:C3808739,OMIM:615120|MedGen:CN169374          NaN   \n",
       "6  MedGen:C3808739,OMIM:615120|MedGen:CN169374          NaN   \n",
       "7  MedGen:C3808739,OMIM:615120|MedGen:CN169374          NaN   \n",
       "8  MedGen:C3808739,OMIM:615120|MedGen:CN169374          NaN   \n",
       "9  MedGen:C3808739,OMIM:615120|MedGen:CN169374          NaN   \n",
       "\n",
       "                                              CLNDN CLNDNINCL  \\\n",
       "0  Myasthenic_syndrome,_congenital,_8|not_specified       NaN   \n",
       "1                                     not_specified       NaN   \n",
       "2  Myasthenic_syndrome,_congenital,_8|not_specified       NaN   \n",
       "3  Myasthenic_syndrome,_congenital,_8|not_specified       NaN   \n",
       "4                                     not_specified       NaN   \n",
       "5  Myasthenic_syndrome,_congenital,_8|not_specified       NaN   \n",
       "6  Myasthenic_syndrome,_congenital,_8|not_specified       NaN   \n",
       "7  Myasthenic_syndrome,_congenital,_8|not_specified       NaN   \n",
       "8  Myasthenic_syndrome,_congenital,_8|not_specified       NaN   \n",
       "9  Myasthenic_syndrome,_congenital,_8|not_specified       NaN   \n",
       "\n",
       "                    CLNHGVS CLNSIGINCL                      CLNVC CLNVI  \\\n",
       "0  NC_000001.10:g.955563G>C        NaN  single_nucleotide_variant   NaN   \n",
       "1  NC_000001.10:g.955597G>T        NaN  single_nucleotide_variant   NaN   \n",
       "2  NC_000001.10:g.955619G>C        NaN  single_nucleotide_variant   NaN   \n",
       "3  NC_000001.10:g.957640C>T        NaN  single_nucleotide_variant   NaN   \n",
       "4  NC_000001.10:g.976059C>T        NaN  single_nucleotide_variant   NaN   \n",
       "5  NC_000001.10:g.976554C>G        NaN  single_nucleotide_variant   NaN   \n",
       "6  NC_000001.10:g.976563C>T        NaN  single_nucleotide_variant   NaN   \n",
       "7  NC_000001.10:g.976598C>T        NaN  single_nucleotide_variant   NaN   \n",
       "8  NC_000001.10:g.976629C>T        NaN  single_nucleotide_variant   NaN   \n",
       "9  NC_000001.10:g.976963A>G        NaN  single_nucleotide_variant   NaN   \n",
       "\n",
       "                              MC  ORIGIN  SSR  CLASS Allele  \\\n",
       "0    SO:0001583|missense_variant     1.0  NaN      0      C   \n",
       "1  SO:0001819|synonymous_variant     1.0  NaN      0      T   \n",
       "2    SO:0001583|missense_variant     1.0  NaN      1      C   \n",
       "3  SO:0001819|synonymous_variant     1.0  NaN      0      T   \n",
       "4  SO:0001819|synonymous_variant     1.0  NaN      1      T   \n",
       "5  SO:0001819|synonymous_variant     1.0  NaN      0      G   \n",
       "6  SO:0001819|synonymous_variant     1.0  NaN      0      T   \n",
       "7    SO:0001583|missense_variant     1.0  NaN      0      T   \n",
       "8  SO:0001819|synonymous_variant     1.0  NaN      0      T   \n",
       "9    SO:0001583|missense_variant     1.0  NaN      0      G   \n",
       "\n",
       "                                Consequence    IMPACT SYMBOL Feature_type  \\\n",
       "0                          missense_variant  MODERATE   AGRN   Transcript   \n",
       "1                        synonymous_variant       LOW   AGRN   Transcript   \n",
       "2                          missense_variant  MODERATE   AGRN   Transcript   \n",
       "3                        synonymous_variant       LOW   AGRN   Transcript   \n",
       "4                        synonymous_variant       LOW   AGRN   Transcript   \n",
       "5  splice_region_variant&synonymous_variant       LOW   AGRN   Transcript   \n",
       "6                        synonymous_variant       LOW   AGRN   Transcript   \n",
       "7                          missense_variant  MODERATE   AGRN   Transcript   \n",
       "8                        synonymous_variant       LOW   AGRN   Transcript   \n",
       "9                          missense_variant  MODERATE   AGRN   Transcript   \n",
       "\n",
       "          Feature         BIOTYPE  EXON INTRON cDNA_position CDS_position  \\\n",
       "0  NM_001305275.1  protein_coding  1/39    NaN            61           11   \n",
       "1  NM_001305275.1  protein_coding  1/39    NaN            95           45   \n",
       "2  NM_001305275.1  protein_coding  1/39    NaN           117           67   \n",
       "3  NM_001305275.1  protein_coding  2/39    NaN           311          261   \n",
       "4  NM_001305275.1  protein_coding  4/39    NaN           576          526   \n",
       "5  NM_001305275.1  protein_coding  5/39    NaN           779          729   \n",
       "6  NM_001305275.1  protein_coding  5/39    NaN           788          738   \n",
       "7  NM_001305275.1  protein_coding  5/39    NaN           823          773   \n",
       "8  NM_001305275.1  protein_coding  5/39    NaN           854          804   \n",
       "9  NM_001305275.1  protein_coding  6/39    NaN          1108         1058   \n",
       "\n",
       "  Protein_position Amino_acids   Codons  DISTANCE  STRAND BAM_EDIT SIFT  \\\n",
       "0                4         R/P  cGg/cCg       NaN     1.0      NaN  NaN   \n",
       "1               15           P  ccG/ccT       NaN     1.0      NaN  NaN   \n",
       "2               23         V/L  Gtc/Ctc       NaN     1.0      NaN  NaN   \n",
       "3               87           D  gaC/gaT       NaN     1.0      NaN  NaN   \n",
       "4              176           L  Ctg/Ttg       NaN     1.0      NaN  NaN   \n",
       "5              243           G  ggC/ggG       NaN     1.0      NaN  NaN   \n",
       "6              246           D  gaC/gaT       NaN     1.0      NaN  NaN   \n",
       "7              258         T/I  aCc/aTc       NaN     1.0      NaN  NaN   \n",
       "8              268           A  gcC/gcT       NaN     1.0      NaN  NaN   \n",
       "9              353         Q/R  cAg/cGg       NaN     1.0      NaN  NaN   \n",
       "\n",
       "  PolyPhen MOTIF_NAME  MOTIF_POS HIGH_INF_POS  MOTIF_SCORE_CHANGE  LoFtool  \\\n",
       "0      NaN        NaN        NaN          NaN                 NaN    0.421   \n",
       "1      NaN        NaN        NaN          NaN                 NaN    0.421   \n",
       "2      NaN        NaN        NaN          NaN                 NaN    0.421   \n",
       "3      NaN        NaN        NaN          NaN                 NaN    0.421   \n",
       "4      NaN        NaN        NaN          NaN                 NaN    0.421   \n",
       "5      NaN        NaN        NaN          NaN                 NaN    0.421   \n",
       "6      NaN        NaN        NaN          NaN                 NaN    0.421   \n",
       "7      NaN        NaN        NaN          NaN                 NaN    0.421   \n",
       "8      NaN        NaN        NaN          NaN                 NaN    0.421   \n",
       "9      NaN        NaN        NaN          NaN                 NaN    0.421   \n",
       "\n",
       "   CADD_PHRED  CADD_RAW  BLOSUM62  \n",
       "0      11.390  1.133255      -2.0  \n",
       "1       8.150  0.599088       NaN  \n",
       "2       3.288  0.069819       1.0  \n",
       "3      12.560  1.356499       NaN  \n",
       "4      17.740  2.234711       NaN  \n",
       "5       3.552  0.094740       NaN  \n",
       "6       9.846  0.862789       NaN  \n",
       "7      24.000  4.293015      -1.0  \n",
       "8      13.510  1.537558       NaN  \n",
       "9       0.001 -2.588522       1.0  "
      ]
     },
     "execution_count": 8,
     "metadata": {},
     "output_type": "execute_result"
    }
   ],
   "source": [
    "df.head(10)"
   ]
  },
  {
   "cell_type": "code",
   "execution_count": 9,
   "metadata": {
    "scrolled": true
   },
   "outputs": [
    {
     "data": {
      "text/plain": [
       "CHROM                    25\n",
       "POS                   63115\n",
       "REF                     866\n",
       "ALT                     458\n",
       "AF_ESP                 2842\n",
       "AF_EXAC                6667\n",
       "AF_TGP                 2087\n",
       "CLNDISDB               9234\n",
       "CLNDISDBINCL             48\n",
       "CLNDN                  9260\n",
       "CLNDNINCL                54\n",
       "CLNHGVS               65188\n",
       "CLNSIGINCL               68\n",
       "CLNVC                     7\n",
       "CLNVI                 26289\n",
       "MC                       89\n",
       "ORIGIN                   27\n",
       "SSR                       2\n",
       "CLASS                     2\n",
       "Allele                  374\n",
       "Consequence              48\n",
       "IMPACT                    4\n",
       "SYMBOL                 2328\n",
       "Feature_type              2\n",
       "Feature                2369\n",
       "BIOTYPE                   2\n",
       "EXON                   3264\n",
       "INTRON                 1929\n",
       "cDNA_position         13970\n",
       "CDS_position          13663\n",
       "Protein_position       7339\n",
       "Amino_acids            1262\n",
       "Codons                 2220\n",
       "DISTANCE                 96\n",
       "STRAND                    2\n",
       "BAM_EDIT                  2\n",
       "SIFT                      4\n",
       "PolyPhen                  4\n",
       "MOTIF_NAME                2\n",
       "MOTIF_POS                 1\n",
       "HIGH_INF_POS              1\n",
       "MOTIF_SCORE_CHANGE        2\n",
       "LoFtool                1195\n",
       "CADD_PHRED             9324\n",
       "CADD_RAW              63803\n",
       "BLOSUM62                  6\n",
       "dtype: int64"
      ]
     },
     "execution_count": 9,
     "metadata": {},
     "output_type": "execute_result"
    }
   ],
   "source": [
    "df.nunique()"
   ]
  },
  {
   "cell_type": "markdown",
   "metadata": {},
   "source": [
    "##### Univariate distributions"
   ]
  },
  {
   "cell_type": "code",
   "execution_count": 11,
   "metadata": {},
   "outputs": [
    {
     "data": {
      "text/plain": [
       "<matplotlib.axes._subplots.AxesSubplot at 0x7f64ed1e18d0>"
      ]
     },
     "execution_count": 11,
     "metadata": {},
     "output_type": "execute_result"
    },
    {
     "data": {
      "image/png": "[encoded data removed]",
      "text/plain": [
       "<Figure size 432x288 with 1 Axes>"
      ]
     },
     "metadata": {
      "needs_background": "light"
     },
     "output_type": "display_data"
    }
   ],
   "source": [
    "sns.countplot(x='CHROM',data=df)"
   ]
  },
  {
   "cell_type": "code",
   "execution_count": 27,
   "metadata": {},
   "outputs": [
    {
     "data": {
      "text/plain": [
       "<matplotlib.axes._subplots.AxesSubplot at 0x7f64e6050128>"
      ]
     },
     "execution_count": 27,
     "metadata": {},
     "output_type": "execute_result"
    },
    {
     "data": {
      "image/png": "[encoded data removed]",
      "text/plain": [
       "<Figure size 432x288 with 1 Axes>"
      ]
     },
     "metadata": {
      "needs_background": "light"
     },
     "output_type": "display_data"
    }
   ],
   "source": [
    "sns.distplot(df['POS'])"
   ]
  },
  {
   "cell_type": "code",
   "execution_count": 103,
   "metadata": {
    "scrolled": true
   },
   "outputs": [
    {
     "data": {
      "text/plain": [
       "AAAG       14\n",
       "GG         13\n",
       "ATCT       12\n",
       "AAG        12\n",
       "TAA        12\n",
       "TGA        12\n",
       "TGAA       12\n",
       "TTC        10\n",
       "CAAG       10\n",
       "ACTT        9\n",
       "CTCT        9\n",
       "CC          9\n",
       "AAGG        9\n",
       "TCA         8\n",
       "TTG         8\n",
       "TGAG        8\n",
       "ATC         8\n",
       "CAAAG       7\n",
       "AGAG        7\n",
       "GGA         7\n",
       "TAGA        7\n",
       "GTTC        7\n",
       "CAGG        7\n",
       "AAT         7\n",
       "TAC         6\n",
       "GTT         6\n",
       "GAC         6\n",
       "TGGA        6\n",
       "GCT         6\n",
       "TAGG        6\n",
       "           ..\n",
       "GCTGA       2\n",
       "GTAAAA      2\n",
       "TGGC        2\n",
       "TTGAC       2\n",
       "GGTAA       2\n",
       "AAGTT       2\n",
       "TCG         2\n",
       "ACCT        2\n",
       "GGT         2\n",
       "TCAG        2\n",
       "GAAATA      2\n",
       "ATTGT       2\n",
       "TCCTC       2\n",
       "AA          2\n",
       "AGCC        2\n",
       "ACCG        2\n",
       "ACTGT       2\n",
       "CAGTA       2\n",
       "TACTG       2\n",
       "ATCC        2\n",
       "CTTTGT      2\n",
       "GAAAC       2\n",
       "CCAT        2\n",
       "TGCCGCC     2\n",
       "GTTTC       2\n",
       "TACA        2\n",
       "CTAG        2\n",
       "CGAA        2\n",
       "TTGG        2\n",
       "AAAAAC      2\n",
       "Name: REF, Length: 183, dtype: int64"
      ]
     },
     "execution_count": 103,
     "metadata": {},
     "output_type": "execute_result"
    }
   ],
   "source": [
    "df['REF'].value_counts()[np.logical_and(df['REF'].value_counts().values>1,df['REF'].value_counts().values<15)]"
   ]
  },
  {
   "cell_type": "code",
   "execution_count": 18,
   "metadata": {
    "scrolled": true
   },
   "outputs": [
    {
     "data": {
      "text/plain": [
       "T                               20409\n",
       "A                               20205\n",
       "G                               11782\n",
       "C                               11429\n",
       "TA                                118\n",
       "CT                                 93\n",
       "CA                                 77\n",
       "AT                                 75\n",
       "GA                                 67\n",
       "GT                                 64\n",
       "TG                                 51\n",
       "GC                                 42\n",
       "AG                                 40\n",
       "AC                                 37\n",
       "TC                                 33\n",
       "CG                                 30\n",
       "AA                                 30\n",
       "TT                                 27\n",
       "GAA                                 8\n",
       "TGCC                                8\n",
       "CTT                                 7\n",
       "TAA                                 6\n",
       "CC                                  5\n",
       "TTA                                 5\n",
       "CCAG                                5\n",
       "TTC                                 4\n",
       "CCT                                 4\n",
       "GTT                                 4\n",
       "CGCT                                4\n",
       "ATC                                 4\n",
       "                                ...  \n",
       "CCCCTGGCCCCG                        1\n",
       "TCTC                                1\n",
       "CTCCTCAGGTTCTTGG                    1\n",
       "GGCCGCGGCGGCCGCGGCCGCGGCT           1\n",
       "GTGCC                               1\n",
       "TGGGCCTCCCCTGCTGG                   1\n",
       "TAACTA                              1\n",
       "TCATTAAC                            1\n",
       "AGTGAAGGCAGGCTGGGCATCGGTGAT         1\n",
       "TACAAAACAAAACAAA                    1\n",
       "AGCGAAGAT                           1\n",
       "AACT                                1\n",
       "TTCAGGTAGAACTTCCTCTTCC              1\n",
       "CGCG                                1\n",
       "CGAGTCA                             1\n",
       "TGCAGCAGCAGCAGCAGCAGCAGCAGCA        1\n",
       "CGCAGCA                             1\n",
       "TAAGA                               1\n",
       "ATT                                 1\n",
       "GGTCA                               1\n",
       "CAGAGAGAGAGAGAG                     1\n",
       "ACTGT                               1\n",
       "TGAGTGTCAGGATCCCGAC                 1\n",
       "TTGCTGC                             1\n",
       "TTCTC                               1\n",
       "GCCT                                1\n",
       "TGAGATAA                            1\n",
       "CGCAGCAGCAGCA                       1\n",
       "TGAGTGA                             1\n",
       "GCAT                                1\n",
       "Name: ALT, Length: 458, dtype: int64"
      ]
     },
     "execution_count": 18,
     "metadata": {},
     "output_type": "execute_result"
    }
   ],
   "source": [
    "df['ALT'].value_counts()"
   ]
  },
  {
   "cell_type": "markdown",
   "metadata": {},
   "source": [
    "Could bin allele sequences that are longer than 4 bp into one"
   ]
  },
  {
   "cell_type": "code",
   "execution_count": 24,
   "metadata": {},
   "outputs": [
    {
     "data": {
      "text/plain": [
       "<matplotlib.axes._subplots.AxesSubplot at 0x7f64eb8c29e8>"
      ]
     },
     "execution_count": 24,
     "metadata": {},
     "output_type": "execute_result"
    },
    {
     "data": {
      "image/png": "[encoded data removed]",
      "text/plain": [
       "<Figure size 432x288 with 1 Axes>"
      ]
     },
     "metadata": {
      "needs_background": "light"
     },
     "output_type": "display_data"
    }
   ],
   "source": [
    "sns.distplot(df['AF_ESP'])"
   ]
  },
  {
   "cell_type": "code",
   "execution_count": 25,
   "metadata": {},
   "outputs": [
    {
     "data": {
      "text/plain": [
       "<matplotlib.axes._subplots.AxesSubplot at 0x7f64eb9824e0>"
      ]
     },
     "execution_count": 25,
     "metadata": {},
     "output_type": "execute_result"
    },
    {
     "data": {
      "image/png": "[encoded data removed]",
      "text/plain": [
       "<Figure size 432x288 with 1 Axes>"
      ]
     },
     "metadata": {
      "needs_background": "light"
     },
     "output_type": "display_data"
    }
   ],
   "source": [
    "sns.distplot(df['AF_EXAC'])"
   ]
  },
  {
   "cell_type": "code",
   "execution_count": 26,
   "metadata": {},
   "outputs": [
    {
     "data": {
      "text/plain": [
       "<matplotlib.axes._subplots.AxesSubplot at 0x7f64e9c51208>"
      ]
     },
     "execution_count": 26,
     "metadata": {},
     "output_type": "execute_result"
    },
    {
     "data": {
      "image/png": "[encoded data removed]",
      "text/plain": [
       "<Figure size 432x288 with 1 Axes>"
      ]
     },
     "metadata": {
      "needs_background": "light"
     },
     "output_type": "display_data"
    }
   ],
   "source": [
    "sns.distplot(df['AF_TGP'])"
   ]
  },
  {
   "cell_type": "markdown",
   "metadata": {},
   "source": [
    "Should log transform these if using a linear method"
   ]
  },
  {
   "cell_type": "code",
   "execution_count": 29,
   "metadata": {
    "scrolled": true
   },
   "outputs": [
    {
     "data": {
      "text/plain": [
       "CHROM                    25\n",
       "POS                   63115\n",
       "REF                     866\n",
       "ALT                     458\n",
       "AF_ESP                 2842\n",
       "AF_EXAC                6667\n",
       "AF_TGP                 2087\n",
       "CLNDISDB               9234\n",
       "CLNDISDBINCL             48\n",
       "CLNDN                  9260\n",
       "CLNDNINCL                54\n",
       "CLNHGVS               65188\n",
       "CLNSIGINCL               68\n",
       "CLNVC                     7\n",
       "CLNVI                 26289\n",
       "MC                       89\n",
       "ORIGIN                   27\n",
       "SSR                       2\n",
       "CLASS                     2\n",
       "Allele                  374\n",
       "Consequence              48\n",
       "IMPACT                    4\n",
       "SYMBOL                 2328\n",
       "Feature_type              2\n",
       "Feature                2369\n",
       "BIOTYPE                   2\n",
       "EXON                   3264\n",
       "INTRON                 1929\n",
       "cDNA_position         13970\n",
       "CDS_position          13663\n",
       "Protein_position       7339\n",
       "Amino_acids            1262\n",
       "Codons                 2220\n",
       "DISTANCE                 96\n",
       "STRAND                    2\n",
       "BAM_EDIT                  2\n",
       "SIFT                      4\n",
       "PolyPhen                  4\n",
       "MOTIF_NAME                2\n",
       "MOTIF_POS                 1\n",
       "HIGH_INF_POS              1\n",
       "MOTIF_SCORE_CHANGE        2\n",
       "LoFtool                1195\n",
       "CADD_PHRED             9324\n",
       "CADD_RAW              63803\n",
       "BLOSUM62                  6\n",
       "dtype: int64"
      ]
     },
     "execution_count": 29,
     "metadata": {},
     "output_type": "execute_result"
    }
   ],
   "source": [
    "df.nunique()"
   ]
  },
  {
   "cell_type": "code",
   "execution_count": 30,
   "metadata": {},
   "outputs": [
    {
     "data": {
      "text/plain": [
       "MedGen:CN169374                                                                                                                                                                                                                                                                                                                                                                                                                                                                            5344\n",
       "MedGen:C0027672,SNOMED_CT:699346009|MedGen:CN169374                                                                                                                                                                                                                                                                                                                                                                                                                                        1724\n",
       "MedGen:CN169374|MedGen:CN517202                                                                                                                                                                                                                                                                                                                                                                                                                                                            1398\n",
       "MedGen:C0027672,SNOMED_CT:699346009                                                                                                                                                                                                                                                                                                                                                                                                                                                        1139\n",
       "MedGen:C1837342,OMIM:608807,Orphanet:ORPHA140922|MedGen:C1858763,OMIM:604145|MedGen:CN169374                                                                                                                                                                                                                                                                                                                                                                                                913\n",
       "MedGen:C0020445,OMIM:143890,SNOMED_CT:397915002,SNOMED_CT:398036000                                                                                                                                                                                                                                                                                                                                                                                                                         732\n",
       "MedGen:C0004135,OMIM:208900,Orphanet:ORPHA100,SNOMED_CT:68504005|MedGen:C0027672,SNOMED_CT:699346009                                                                                                                                                                                                                                                                                                                                                                                        608\n",
       "MedGen:C0027672,SNOMED_CT:699346009|MedGen:C0346153,OMIM:114480,Orphanet:ORPHA227535,SNOMED_CT:254843006                                                                                                                                                                                                                                                                                                                                                                                    561\n",
       "Human_Phenotype_Ontology:HP:0012265,MedGen:C0008780,Orphanet:ORPHA244|MedGen:CN169374                                                                                                                                                                                                                                                                                                                                                                                                       526\n",
       "MedGen:C0027672,SNOMED_CT:699346009|MedGen:C0027831,OMIM:162200,Orphanet:ORPHA636,SNOMED_CT:92824003                                                                                                                                                                                                                                                                                                                                                                                        513\n",
       "MedGen:C0004135,OMIM:208900,Orphanet:ORPHA100,SNOMED_CT:68504005|MedGen:C0027672,SNOMED_CT:699346009|MedGen:CN169374                                                                                                                                                                                                                                                                                                                                                                        469\n",
       "MedGen:C0027672,SNOMED_CT:699346009|MedGen:CN517202                                                                                                                                                                                                                                                                                                                                                                                                                                         456\n",
       "MedGen:C0027672,SNOMED_CT:699346009|MedGen:C0346153,OMIM:114480,Orphanet:ORPHA227535,SNOMED_CT:254843006|MedGen:CN169374                                                                                                                                                                                                                                                                                                                                                                    450\n",
       "MedGen:C0009405,Orphanet:ORPHA443090|MedGen:C0027672,SNOMED_CT:699346009                                                                                                                                                                                                                                                                                                                                                                                                                    435\n",
       "MedGen:C0009405,Orphanet:ORPHA443090|MedGen:C0027672,SNOMED_CT:699346009|MedGen:CN169374                                                                                                                                                                                                                                                                                                                                                                                                    397\n",
       "MedGen:C0027672,SNOMED_CT:699346009|MedGen:C0677776,Orphanet:ORPHA145                                                                                                                                                                                                                                                                                                                                                                                                                       384\n",
       "MedGen:C0027672,SNOMED_CT:699346009|MedGen:C2713442,OMIM:175100                                                                                                                                                                                                                                                                                                                                                                                                                             368\n",
       "MedGen:C0027672,SNOMED_CT:699346009|MedGen:C1333990,Orphanet:ORPHA144,SNOMED_CT:315058005                                                                                                                                                                                                                                                                                                                                                                                                   360\n",
       "MedGen:C0027672,SNOMED_CT:699346009|MedGen:C2750074,OMIM:613325                                                                                                                                                                                                                                                                                                                                                                                                                             338\n",
       "MedGen:C0027672,SNOMED_CT:699346009|MedGen:C2713442,OMIM:175100|MedGen:CN169374                                                                                                                                                                                                                                                                                                                                                                                                             271\n",
       "MedGen:C0027672,SNOMED_CT:699346009|MedGen:C0677776,Orphanet:ORPHA145|MedGen:C2675520,OMIM:612555|MedGen:CN169374                                                                                                                                                                                                                                                                                                                                                                           256\n",
       "MedGen:C0015625,Orphanet:ORPHA84,SNOMED_CT:30575002|MedGen:CN169374                                                                                                                                                                                                                                                                                                                                                                                                                         255\n",
       "MedGen:C0432317,OMIM:131950,Orphanet:ORPHA79401,SNOMED_CT:398071000|MedGen:C2677349,OMIM:612138,Orphanet:ORPHA158684|MedGen:C2931072,OMIM:226670,Orphanet:ORPHA257|MedGen:C3150989,OMIM:613723,Orphanet:ORPHA254361|MedGen:C4225309,OMIM:616487|MedGen:CN169374                                                                                                                                                                                                                             244\n",
       "MedGen:C0027672,SNOMED_CT:699346009|MedGen:CN072455,OMIM:601200                                                                                                                                                                                                                                                                                                                                                                                                                             241\n",
       "MedGen:CN169374|MedGen:CN239439                                                                                                                                                                                                                                                                                                                                                                                                                                                             239\n",
       "Human_Phenotype_Ontology:HP:0001639,MedGen:C0007194,Orphanet:ORPHA217569|MedGen:CN169374                                                                                                                                                                                                                                                                                                                                                                                                    237\n",
       "MedGen:C0027672,SNOMED_CT:699346009|MedGen:C1708349,OMIM:137215,Orphanet:ORPHA26106|MedGen:CN169374                                                                                                                                                                                                                                                                                                                                                                                         196\n",
       "MedGen:CN169374|MedGen:CN230736                                                                                                                                                                                                                                                                                                                                                                                                                                                             189\n",
       "MedGen:C0027672,SNOMED_CT:699346009|MedGen:C0677776,Orphanet:ORPHA145|MedGen:C2675520,OMIM:612555|MedGen:CN169374|MedGen:CN517202                                                                                                                                                                                                                                                                                                                                                           184\n",
       "MedGen:C0027672,SNOMED_CT:699346009|MedGen:C0677776,Orphanet:ORPHA145|MedGen:CN169374                                                                                                                                                                                                                                                                                                                                                                                                       184\n",
       "                                                                                                                                                                                                                                                                                                                                                                                                                                                                                           ... \n",
       "MedGen:C2700425,OMIM:225410,Orphanet:ORPHA1901,SNOMED_CT:55711009|MedGen:CN517202                                                                                                                                                                                                                                                                                                                                                                                                             1\n",
       "Human_Phenotype_Ontology:HP:0100723,MeSH:D046152,MedGen:C0238198,OMIM:606764,Orphanet:ORPHA44890|MedGen:C2674636|MedGen:CN517202                                                                                                                                                                                                                                                                                                                                                              1\n",
       "MeSH:D030342,MedGen:C0950123|MedGen:C1969029,OMIM:611603,Orphanet:ORPHA102011|MedGen:CN517202                                                                                                                                                                                                                                                                                                                                                                                                 1\n",
       "MedGen:C4017346|MedGen:CN517202                                                                                                                                                                                                                                                                                                                                                                                                                                                               1\n",
       "MedGen:C0016788,OMIM:230000,Orphanet:ORPHA349,SNOMED_CT:64716005|MedGen:CN517202                                                                                                                                                                                                                                                                                                                                                                                                              1\n",
       "MedGen:C1864040,OMIM:603285|MedGen:CN517202                                                                                                                                                                                                                                                                                                                                                                                                                                                   1\n",
       "MedGen:C1960539,OMIM:613546|MedGen:CN169374                                                                                                                                                                                                                                                                                                                                                                                                                                                   1\n",
       "MedGen:C2676244,OMIM:612438,Orphanet:ORPHA139441|MedGen:CN517202                                                                                                                                                                                                                                                                                                                                                                                                                              1\n",
       "MedGen:C1568249,OMIM:611383|MedGen:C1846839,OMIM:607084|MedGen:CN033130,OMIM:500004,SNOMED_CT:57838006|MedGen:CN169374|MedGen:CN239439|MedGen:CN517202                                                                                                                                                                                                                                                                                                                                        1\n",
       "MedGen:C1849792,OMIM:262300|MedGen:CN517202                                                                                                                                                                                                                                                                                                                                                                                                                                                   1\n",
       "MedGen:C0027672,SNOMED_CT:699346009|MedGen:C0342770,OMIM:606812,Orphanet:ORPHA24,SNOMED_CT:237983002|MedGen:CN169374|MedGen:CN517202                                                                                                                                                                                                                                                                                                                                                          1\n",
       "Human_Phenotype_Ontology:HP:0030078,MeSH:C538231,MedGen:C0152013|MeSH:D009369,MedGen:C0027651,SNOMED_CT:108369006|MeSH:D010580,MedGen:C0031269,OMIM:175200,Orphanet:ORPHA2869,SNOMED_CT:54411001|MedGen:C0027672,SNOMED_CT:699346009                                                                                                                                                                                                                                                          1\n",
       "MedGen:C0027672,SNOMED_CT:699346009|MedGen:C1838547,OMIM:606719,Orphanet:ORPHA404560|MedGen:CN169374|MedGen:CN517202                                                                                                                                                                                                                                                                                                                                                                          1\n",
       "MedGen:C0032339,OMIM:268400,Orphanet:ORPHA2909,SNOMED_CT:69093006|MedGen:C0265308,OMIM:218600,Orphanet:ORPHA1225,SNOMED_CT:77608001|MedGen:C1849453,OMIM:266280,Orphanet:ORPHA3021                                                                                                                                                                                                                                                                                                            1\n",
       "MedGen:C0574083,OMIM:302060,Orphanet:ORPHA111,SNOMED_CT:297231002|MedGen:CN517202                                                                                                                                                                                                                                                                                                                                                                                                             1\n",
       "MedGen:C1832827,OMIM:601072,OMIM:605316|MedGen:CN043648,Orphanet:ORPHA87884|MedGen:CN517202                                                                                                                                                                                                                                                                                                                                                                                                   1\n",
       "MedGen:C1864720,OMIM:610093|MedGen:C3150757,OMIM:613517|MedGen:CN169374|MedGen:CN239429                                                                                                                                                                                                                                                                                                                                                                                                       1\n",
       "MedGen:C3553449,OMIM:614678                                                                                                                                                                                                                                                                                                                                                                                                                                                                   1\n",
       "MedGen:C3150667,OMIM:613402|MedGen:C3150988,OMIM:613722|MedGen:CN517202                                                                                                                                                                                                                                                                                                                                                                                                                       1\n",
       "MedGen:C0037773,Orphanet:ORPHA685,SNOMED_CT:39912006|MedGen:CN169374|MedGen:CN517202                                                                                                                                                                                                                                                                                                                                                                                                          1\n",
       "MedGen:CN029274,OMIM:158810|MedGen:CN033863,OMIM:254090|MedGen:CN169374|MedGen:CN517202                                                                                                                                                                                                                                                                                                                                                                                                       1\n",
       "MeSH:D009634,MedGen:C0028326,Orphanet:ORPHA648,SNOMED_CT:205824006|MedGen:C0041409,OMIM:163950|MedGen:CN074218,OMIM:151100|MedGen:CN166718,Orphanet:ORPHA98733|MedGen:CN517202                                                                                                                                                                                                                                                                                                                1\n",
       "MedGen:C3150899,OMIM:613643|MedGen:CN239359                                                                                                                                                                                                                                                                                                                                                                                                                                                   1\n",
       "MedGen:C1858479,OMIM:604360,Orphanet:ORPHA2822|MedGen:CN169374|MedGen:CN239433|MedGen:CN517202                                                                                                                                                                                                                                                                                                                                                                                                1\n",
       "MedGen:C3151219,OMIM:613852|MedGen:CN517202                                                                                                                                                                                                                                                                                                                                                                                                                                                   1\n",
       "MedGen:C1858854,OMIM:604004,Orphanet:ORPHA2478|MedGen:CN176898                                                                                                                                                                                                                                                                                                                                                                                                                                1\n",
       "MedGen:C0270960,OMIM:255300,Orphanet:ORPHA97245|MedGen:CN031421,OMIM:145600|MedGen:CN169374|MedGen:CN239331|MedGen:CN517202                                                                                                                                                                                                                                                                                                                                                                   1\n",
       "MedGen:C4313718|MedGen:CN169374|MedGen:CN517202                                                                                                                                                                                                                                                                                                                                                                                                                                               1\n",
       "Gene:80767,MedGen:C3276432,OMIM:605711|MedGen:CN169374|MedGen:CN234684                                                                                                                                                                                                                                                                                                                                                                                                                        1\n",
       "Human_Phenotype_Ontology:HP:0001528,MedGen:C1835632|Human_Phenotype_Ontology:HP:0002650,MedGen:C0037932|Human_Phenotype_Ontology:HP:0002803,MedGen:C0332878|Human_Phenotype_Ontology:HP:0002804,MedGen:C0003886|Human_Phenotype_Ontology:HP:0003199,MedGen:C1837108|Human_Phenotype_Ontology:HP:0006385,MedGen:C0426901|Human_Phenotype_Ontology:HP:0009824,MedGen:C1837406|MedGen:C1866636,OMIM:601596,Orphanet:ORPHA99949|MedGen:C3150596,OMIM:613353|MedGen:CN043578|MedGen:CN169374       1\n",
       "Name: CLNDISDB, Length: 9234, dtype: int64"
      ]
     },
     "execution_count": 30,
     "metadata": {},
     "output_type": "execute_result"
    }
   ],
   "source": [
    "df['CLNDISDB'].value_counts()"
   ]
  },
  {
   "cell_type": "code",
   "execution_count": 31,
   "metadata": {
    "scrolled": true
   },
   "outputs": [
    {
     "data": {
      "text/plain": [
       ".                                                                                                                                                                                                                                      7\n",
       "MedGen:CN169374                                                                                                                                                                                                                        7\n",
       "MedGen:C0220754,OMIM:253260,Orphanet:ORPHA79241,SNOMED_CT:8808004                                                                                                                                                                      5\n",
       "MedGen:C1263858,OMIM:607855,Orphanet:ORPHA258,SNOMED_CT:111503008                                                                                                                                                                      3\n",
       "MedGen:C0020445,OMIM:143890,SNOMED_CT:397915002,SNOMED_CT:398036000                                                                                                                                                                    3\n",
       "Human_Phenotype_Ontology:HP:0003789,MedGen:C1850674,OMIM:255320,Orphanet:ORPHA98905                                                                                                                                                    2\n",
       "MedGen:C0007959,Orphanet:ORPHA166,SNOMED_CT:50548001                                                                                                                                                                                   2\n",
       "MedGen:C1851504,OMIM:132900                                                                                                                                                                                                            2\n",
       "MedGen:C1969785,OMIM:611307,Orphanet:ORPHA206549|MedGen:C2750076,OMIM:613319,Orphanet:ORPHA399096                                                                                                                                      2\n",
       "MedGen:C1843851,OMIM:607459,Orphanet:ORPHA70595|MedGen:C1850303,OMIM:258450,Orphanet:ORPHA254886                                                                                                                                       2\n",
       "MedGen:C0852654,OMIM:201910                                                                                                                                                                                                            2\n",
       "MedGen:C0220744,OMIM:243150,Orphanet:ORPHA436252,SNOMED_CT:95472001                                                                                                                                                                    2\n",
       "MedGen:C3276709                                                                                                                                                                                                                        2\n",
       "MedGen:C3279627,OMIM:614018,Orphanet:ORPHA280620                                                                                                                                                                                       1\n",
       "MedGen:C2746083,OMIM:613079                                                                                                                                                                                                            1\n",
       "MedGen:C1852521,OMIM:122600                                                                                                                                                                                                            1\n",
       "MedGen:C1828210,OMIM:153870,Orphanet:ORPHA251287,SNOMED_CT:424169002|MedGen:C1848561,OMIM:277400,Orphanet:ORPHA26                                                                                                                      1\n",
       ".|.                                                                                                                                                                                                                                    1\n",
       "MedGen:C0268243,OMIM:607616,Orphanet:ORPHA77293,SNOMED_CT:39390005                                                                                                                                                                     1\n",
       "MedGen:C0268342,OMIM:225400,Orphanet:ORPHA1900,SNOMED_CT:25606004                                                                                                                                                                      1\n",
       "MedGen:C1858763,OMIM:604145|MedGen:C1861065,OMIM:613765                                                                                                                                                                                1\n",
       "MedGen:C1847532,OMIM:606768,Orphanet:ORPHA178400|MedGen:C1850808,OMIM:254130,Orphanet:ORPHA45448|MedGen:C1850889,OMIM:253601,Orphanet:ORPHA268                                                                                         1\n",
       "MedGen:C0751951,OMIM:117000,Orphanet:ORPHA597,SNOMED_CT:43152001                                                                                                                                                                       1\n",
       "MedGen:C0342790,Orphanet:ORPHA157,SNOMED_CT:238002005|MedGen:C1833508,OMIM:255110,Orphanet:ORPHA228302                                                                                                                                 1\n",
       "MedGen:C1868672,OMIM:600995,Orphanet:ORPHA656                                                                                                                                                                                          1\n",
       "MedGen:C1832978,OMIM:600974                                                                                                                                                                                                            1\n",
       "MedGen:CN029323,OMIM:601144                                                                                                                                                                                                            1\n",
       "MedGen:C0268297,OMIM:264600,Orphanet:ORPHA753,SNOMED_CT:57514000                                                                                                                                                                       1\n",
       "MedGen:C1850889,OMIM:253601,Orphanet:ORPHA268                                                                                                                                                                                          1\n",
       "MedGen:C1869123,OMIM:253600,Orphanet:ORPHA267                                                                                                                                                                                          1\n",
       "MedGen:C0025362,SNOMED_CT:228156007,SNOMED_CT:91138005                                                                                                                                                                                 1\n",
       "MedGen:C1842127,OMIM:608380                                                                                                                                                                                                            1\n",
       ".|MedGen:C0017758,Orphanet:ORPHA362                                                                                                                                                                                                    1\n",
       "MedGen:C1838979,OMIM:252010                                                                                                                                                                                                            1\n",
       "MedGen:C3554656,OMIM:615190                                                                                                                                                                                                            1\n",
       "MedGen:C0268250,OMIM:230900,Orphanet:ORPHA77260,SNOMED_CT:12246008|MedGen:C0268251,OMIM:231000,Orphanet:ORPHA77261,SNOMED_CT:5963005|MedGen:C1842704,OMIM:608013,Orphanet:ORPHA85212|MedGen:C1961835,OMIM:230800,SNOMED_CT:62201009    1\n",
       "Gene:1694,MedGen:C1858916,OMIM:603964                                                                                                                                                                                                  1\n",
       "MedGen:C0268151,OMIM:230400,Orphanet:ORPHA79239,SNOMED_CT:124354006                                                                                                                                                                    1\n",
       "MedGen:C2677589,OMIM:612016,Orphanet:ORPHA139485                                                                                                                                                                                       1\n",
       "MedGen:C2676676,OMIM:604370                                                                                                                                                                                                            1\n",
       "MedGen:C0020074,OMIM:256800,Orphanet:ORPHA642,SNOMED_CT:62985007                                                                                                                                                                       1\n",
       "MedGen:C0031485,OMIM:261600,Orphanet:ORPHA716,SNOMED_CT:154735006                                                                                                                                                                      1\n",
       "MeSH:D018813,MedGen:C0025268,OMIM:171400,Orphanet:ORPHA247698,SNOMED_CT:61808009                                                                                                                                                       1\n",
       "MeSH:C535804,MedGen:C1855465,OMIM:248200                                                                                                                                                                                               1\n",
       "MedGen:C0398791,OMIM:251260,Orphanet:ORPHA647,SNOMED_CT:234638009                                                                                                                                                                      1\n",
       "MedGen:C1835614,OMIM:149400,Orphanet:ORPHA3197                                                                                                                                                                                         1\n",
       "MedGen:C1832828,OMIM:601071                                                                                                                                                                                                            1\n",
       "MedGen:C1838263,OMIM:600316                                                                                                                                                                                                            1\n",
       "Name: CLNDISDBINCL, dtype: int64"
      ]
     },
     "execution_count": 31,
     "metadata": {},
     "output_type": "execute_result"
    }
   ],
   "source": [
    "df['CLNDISDBINCL'].value_counts()"
   ]
  },
  {
   "cell_type": "code",
   "execution_count": 32,
   "metadata": {},
   "outputs": [
    {
     "data": {
      "text/plain": [
       "not_specified                                                                                                                                                                                                                                                                                                                                                                                                                                                                                                             5344\n",
       "Hereditary_cancer-predisposing_syndrome|not_specified                                                                                                                                                                                                                                                                                                                                                                                                                                                                     1724\n",
       "not_specified|not_provided                                                                                                                                                                                                                                                                                                                                                                                                                                                                                                1398\n",
       "Hereditary_cancer-predisposing_syndrome                                                                                                                                                                                                                                                                                                                                                                                                                                                                                   1139\n",
       "Limb-girdle_muscular_dystrophy,_type_2J|Dilated_cardiomyopathy_1G|not_specified                                                                                                                                                                                                                                                                                                                                                                                                                                            913\n",
       "Familial_hypercholesterolemia                                                                                                                                                                                                                                                                                                                                                                                                                                                                                              732\n",
       "Ataxia-telangiectasia_syndrome|Hereditary_cancer-predisposing_syndrome                                                                                                                                                                                                                                                                                                                                                                                                                                                     608\n",
       "Hereditary_cancer-predisposing_syndrome|Familial_cancer_of_breast                                                                                                                                                                                                                                                                                                                                                                                                                                                          561\n",
       "Ciliary_dyskinesia|not_specified                                                                                                                                                                                                                                                                                                                                                                                                                                                                                           526\n",
       "Hereditary_cancer-predisposing_syndrome|Neurofibromatosis,_type_1                                                                                                                                                                                                                                                                                                                                                                                                                                                          513\n",
       "Ataxia-telangiectasia_syndrome|Hereditary_cancer-predisposing_syndrome|not_specified                                                                                                                                                                                                                                                                                                                                                                                                                                       469\n",
       "Hereditary_cancer-predisposing_syndrome|not_provided                                                                                                                                                                                                                                                                                                                                                                                                                                                                       456\n",
       "Hereditary_cancer-predisposing_syndrome|Familial_cancer_of_breast|not_specified                                                                                                                                                                                                                                                                                                                                                                                                                                            450\n",
       "Hereditary_nonpolyposis_colon_cancer|Hereditary_cancer-predisposing_syndrome                                                                                                                                                                                                                                                                                                                                                                                                                                               435\n",
       "Hereditary_nonpolyposis_colon_cancer|Hereditary_cancer-predisposing_syndrome|not_specified                                                                                                                                                                                                                                                                                                                                                                                                                                 397\n",
       "Hereditary_cancer-predisposing_syndrome|Hereditary_breast_and_ovarian_cancer_syndrome                                                                                                                                                                                                                                                                                                                                                                                                                                      384\n",
       "Hereditary_cancer-predisposing_syndrome|Familial_adenomatous_polyposis_1                                                                                                                                                                                                                                                                                                                                                                                                                                                   368\n",
       "Hereditary_cancer-predisposing_syndrome|Lynch_syndrome                                                                                                                                                                                                                                                                                                                                                                                                                                                                     360\n",
       "Hereditary_cancer-predisposing_syndrome|Rhabdoid_tumor_predisposition_syndrome_2                                                                                                                                                                                                                                                                                                                                                                                                                                           338\n",
       "Hereditary_cancer-predisposing_syndrome|Familial_adenomatous_polyposis_1|not_specified                                                                                                                                                                                                                                                                                                                                                                                                                                     271\n",
       "Hereditary_cancer-predisposing_syndrome|Hereditary_breast_and_ovarian_cancer_syndrome|Breast-ovarian_cancer,_familial_2|not_specified                                                                                                                                                                                                                                                                                                                                                                                      256\n",
       "Fanconi_anemia|not_specified                                                                                                                                                                                                                                                                                                                                                                                                                                                                                               255\n",
       "Epidermolysis_bullosa_simplex,_Ogna_type|Epidermolysis_bullosa_simplex_with_pyloric_atresia|Epidermolysa_bullosa_simplex_and_limb_girdle_muscular_dystrophy|Limb-girdle_muscular_dystrophy,_type_2Q|Epidermolysis_bullosa_simplex_with_nail_dystrophy|not_specified                                                                                                                                                                                                                                                        244\n",
       "Hereditary_cancer-predisposing_syndrome|DICER1-related_pleuropulmonary_blastoma_cancer_predisposition_syndrome                                                                                                                                                                                                                                                                                                                                                                                                             241\n",
       "not_specified|Nonsyndromic_Hearing_Loss,_Recessive                                                                                                                                                                                                                                                                                                                                                                                                                                                                         239\n",
       "Hypertrophic_cardiomyopathy|not_specified                                                                                                                                                                                                                                                                                                                                                                                                                                                                                  237\n",
       "Hereditary_cancer-predisposing_syndrome|Hereditary_diffuse_gastric_cancer|not_specified                                                                                                                                                                                                                                                                                                                                                                                                                                    196\n",
       "not_specified|Cardiovascular_phenotype                                                                                                                                                                                                                                                                                                                                                                                                                                                                                     189\n",
       "Hereditary_cancer-predisposing_syndrome|Hereditary_breast_and_ovarian_cancer_syndrome|Breast-ovarian_cancer,_familial_2|not_specified|not_provided                                                                                                                                                                                                                                                                                                                                                                         184\n",
       "Hereditary_cancer-predisposing_syndrome|Hereditary_breast_and_ovarian_cancer_syndrome|not_specified                                                                                                                                                                                                                                                                                                                                                                                                                        184\n",
       "                                                                                                                                                                                                                                                                                                                                                                                                                                                                                                                          ... \n",
       "Cockayne_syndrome|Hereditary_cancer-predisposing_syndrome|Xeroderma_pigmentosum,_group_F|Fanconi_anemia,_complementation_group_Q|not_specified|not_provided                                                                                                                                                                                                                                                                                                                                                                  1\n",
       "Ventricular_tachycardia,_catecholaminergic_polymorphic,_4|Long_QT_syndrome_14|Catecholaminergic_polymorphic_ventricular_tachycardia_type_1                                                                                                                                                                                                                                                                                                                                                                                   1\n",
       "Mental_retardation,_autosomal_dominant_35|not_provided                                                                                                                                                                                                                                                                                                                                                                                                                                                                       1\n",
       "Left_ventricular_noncompaction_8|not_provided                                                                                                                                                                                                                                                                                                                                                                                                                                                                                1\n",
       "Mowat-Wilson_syndrome                                                                                                                                                                                                                                                                                                                                                                                                                                                                                                        1\n",
       "Usher_syndrome|Usher_syndrome,_type_1|not_provided                                                                                                                                                                                                                                                                                                                                                                                                                                                                           1\n",
       "Neurodevelopmental_disorder_with_epilepsy,_cataracts,_feeding_difficulties,_and_delayed_brain_myelination|not_provided                                                                                                                                                                                                                                                                                                                                                                                                       1\n",
       "Congenital_muscular_dystrophy-dystroglycanopathy_with_brain_and_eye_anomalies,_type_A3|Muscle_eye_brain_disease|not_provided                                                                                                                                                                                                                                                                                                                                                                                                 1\n",
       "Hypertrophic_cardiomyopathy|Primary_familial_hypertrophic_cardiomyopathy|Brugada_syndrome|not_specified                                                                                                                                                                                                                                                                                                                                                                                                                      1\n",
       "Usher_syndrome,_type_1|Deafness,_autosomal_dominant_11|not_specified                                                                                                                                                                                                                                                                                                                                                                                                                                                         1\n",
       "Fanconi_anemia|Fanconi_anemia,_complementation_group_I                                                                                                                                                                                                                                                                                                                                                                                                                                                                       1\n",
       "Arrhythmogenic_right_ventricular_cardiomyopathy|Arrhythmogenic_right_ventricular_cardiomyopathy,_type_9|not_specified|Cardiovascular_phenotype|Dysplasia,_arrhythmogenic_right_ventricular                                                                                                                                                                                                                                                                                                                                   1\n",
       "Primary_familial_hypertrophic_cardiomyopathy|not_specified|Dilated_Cardiomyopathy,_Dominant                                                                                                                                                                                                                                                                                                                                                                                                                                  1\n",
       "Homocystinuria|Homocystinuria_due_to_CBS_deficiency                                                                                                                                                                                                                                                                                                                                                                                                                                                                          1\n",
       "Aplastic_anemia|Idiopathic_fibrosing_alveolitis,_chronic_form|Dyskeratosis_congenita_autosomal_dominant|Dyskeratosis_congenita,_autosomal_dominant,_2|not_specified|Dyskeratosis_Congenita,_Recessive                                                                                                                                                                                                                                                                                                                        1\n",
       "Thin_upper_lip_vermilion|Malar_flattening|Mandibular_prognathia|Misalignment_of_teeth|Delayed_speech_and_language_development|Obesity|Poor_fine_motor_coordination|Attention_deficit_hyperactivity_disorder|Infantile_muscular_hypotonia|not_specified                                                                                                                                                                                                                                                                       1\n",
       "Homocystinuria_due_to_CBS_deficiency|Homocystinuria,_pyridoxine-responsive|Thoracic_aortic_aneurysm_and_aortic_dissection|not_specified|not_provided                                                                                                                                                                                                                                                                                                                                                                         1\n",
       "Autosomal_dominant_nocturnal_frontal_lobe_epilepsy|Nocturnal_frontal_lobe_epilepsy                                                                                                                                                                                                                                                                                                                                                                                                                                           1\n",
       "Juvenile_myopathy,_encephalopathy,_lactic_acidosis_AND_stroke|not_specified                                                                                                                                                                                                                                                                                                                                                                                                                                                  1\n",
       "Amish_infantile_epilepsy_syndrome                                                                                                                                                                                                                                                                                                                                                                                                                                                                                            1\n",
       "Pyruvate_carboxylase_deficiency                                                                                                                                                                                                                                                                                                                                                                                                                                                                                              1\n",
       "Merosin_deficient_congenital_muscular_dystrophy|Laminin_alpha_2-related_dystrophy|not_specified|Congenital_Muscular_Dystrophy,_LAMA2-related|not_provided                                                                                                                                                                                                                                                                                                                                                                    1\n",
       "Hypertension,_essential,_susceptibility_to|Preeclampsia,_susceptibility_to|Renal_dysplasia|Susceptibility_to_progression_to_renal_failure_in_IgA_nephropathy|not_specified                                                                                                                                                                                                                                                                                                                                                   1\n",
       "Pancreatic_adenocarcinoma|Squamous_cell_carcinoma_of_the_skin|Carcinoma_of_esophagus|Adenocarcinoma_of_lung|Squamous_cell_carcinoma_of_lung|Neoplasm_of_brain|Neoplasm_of_the_breast|Glioblastoma|Squamous_cell_carcinoma_of_the_head_and_neck|Hereditary_cancer-predisposing_syndrome|Li-Fraumeni_syndrome|Ovarian_Serous_Cystadenocarcinoma|Uterine_Carcinosarcoma|not_specified|not_provided                                                                                                                              1\n",
       "Li-Fraumeni_syndrome_1|Pancreatic_adenocarcinoma|Transitional_cell_carcinoma_of_the_bladder|Brainstem_glioma|Carcinoma_of_esophagus|Adenocarcinoma_of_lung|Squamous_cell_carcinoma_of_lung|Neoplasm_of_brain|Neoplasm_of_the_breast|Glioblastoma|Squamous_cell_carcinoma_of_the_head_and_neck|Colorectal_Neoplasms|Adenocarcinoma_of_prostate|Hereditary_cancer-predisposing_syndrome|Li-Fraumeni_syndrome|Adenocarcinoma_of_stomach|Ovarian_Serous_Cystadenocarcinoma|Uterine_Carcinosarcoma|Hepatocellular_carcinoma       1\n",
       "Epilepsy,_childhood_absence_2|Familial_febrile_seizures_8|not_specified|not_provided                                                                                                                                                                                                                                                                                                                                                                                                                                         1\n",
       "Hypogonadotropic_hypogonadism_3_without_anosmia|not_specified|not_provided                                                                                                                                                                                                                                                                                                                                                                                                                                                   1\n",
       "Multiple_cutaneous_leiomyomas|Hereditary_cancer-predisposing_syndrome|Fumarase_deficiency|not_specified|not_provided                                                                                                                                                                                                                                                                                                                                                                                                         1\n",
       "Cardiac_conduction_defect,_nonspecific|Long_QT_syndrome|Brugada_syndrome|Brugada_syndrome_5|Generalized_epilepsy_with_febrile_seizures_plus|not_specified|Cardiovascular_phenotype|not_provided                                                                                                                                                                                                                                                                                                                              1\n",
       "Arrhythmogenic_right_ventricular_cardiomyopathy|Arrhythmogenic_right_ventricular_cardiomyopathy,_type_5|Arrhythmogenic_right_ventricular_dysplasia/cardiomyopathy|not_provided                                                                                                                                                                                                                                                                                                                                               1\n",
       "Name: CLNDN, Length: 9260, dtype: int64"
      ]
     },
     "execution_count": 32,
     "metadata": {},
     "output_type": "execute_result"
    }
   ],
   "source": [
    "df['CLNDN'].value_counts()"
   ]
  },
  {
   "cell_type": "code",
   "execution_count": 105,
   "metadata": {
    "scrolled": true
   },
   "outputs": [
    {
     "data": {
      "text/plain": [
       "NC_000008.10:g.43047593G>A                            1\n",
       "NC_000011.9:g.65488239T>C                             1\n",
       "NC_000002.11:g.167137045A>G                           1\n",
       "NC_000006.11:g.7566637G>C                             1\n",
       "NC_000008.10:g.90967626T>C                            1\n",
       "NC_000016.9:g.75675609T>C                             1\n",
       "NC_000002.11:g.152388416delT                          1\n",
       "NC_000023.10:g.135098806G>A                           1\n",
       "NC_000002.11:g.50724620C>T                            1\n",
       "NC_000008.10:g.90958400C>T                            1\n",
       "NC_000006.11:g.32007887G>T                            1\n",
       "NC_000020.10:g.43048434C>T                            1\n",
       "NC_000007.13:g.6022474G>A                             1\n",
       "NC_000017.10:g.33428321A>T                            1\n",
       "NC_000023.10:g.38145911C>T                            1\n",
       "NC_000009.11:g.98209367G>A                            1\n",
       "NC_000005.9:g.127693094T>C                            1\n",
       "NC_000012.11:g.56398531G>A                            1\n",
       "NC_000014.8:g.23893256C>T                             1\n",
       "NC_000017.10:g.56798109A>G                            1\n",
       "NC_000004.11:g.120085468C>T                           1\n",
       "NC_000022.10:g.36684352G>A                            1\n",
       "NC_000011.9:g.108199798A>G                            1\n",
       "NC_000012.11:g.103352197_103352208dupCAGCAGCAGCAG     1\n",
       "NC_000003.11:g.52378570A>G                            1\n",
       "NC_000023.10:g.153599550_153599552dupCGA              1\n",
       "NC_000015.9:g.91304122G>A                             1\n",
       "NC_000007.13:g.94049737A>G                            1\n",
       "NC_000010.10:g.112404365G>T                           1\n",
       "NC_000011.9:g.22281205C>T                             1\n",
       "                                                     ..\n",
       "NC_000015.9:g.48779530G>C                             1\n",
       "NC_000011.9:g.108198370A>C                            1\n",
       "NC_000002.11:g.179642425G>A                           1\n",
       "NC_000003.11:g.37048516C>G                            1\n",
       "NC_000005.9:g.112128144G>A                            1\n",
       "NC_000023.10:g.38145632_38145646delCTTCCTCCCCTTCTT    1\n",
       "NC_000002.11:g.96919744G>T                            1\n",
       "NC_000009.11:g.97897627C>T                            1\n",
       "NC_000018.9:g.53070763C>T                             1\n",
       "NC_000008.10:g.145737701C>T                           1\n",
       "NC_000004.11:g.77091006A>T                            1\n",
       "NC_000003.11:g.52440347G>A                            1\n",
       "NC_000007.13:g.75614953T>C                            1\n",
       "NC_000008.10:g.144992269G>A                           1\n",
       "NC_000002.11:g.179587379T>G                           1\n",
       "NC_000002.11:g.189867733A>G                           1\n",
       "NC_000016.9:g.68845757C>T                             1\n",
       "NC_000020.10:g.47649606T>C                            1\n",
       "NC_000002.11:g.179403703A>G                           1\n",
       "NC_000007.13:g.150645608G>A                           1\n",
       "NC_000002.11:g.179495805C>G                           1\n",
       "NC_000009.11:g.134385158C>T                           1\n",
       "NC_000019.9:g.50921137G>A                             1\n",
       "NC_000002.11:g.179621349T>G                           1\n",
       "NC_000017.10:g.59886093C>T                            1\n",
       "NC_000005.9:g.172662026C>G                            1\n",
       "NC_000001.10:g.197297965G>A                           1\n",
       "NC_000010.10:g.69909844C>A                            1\n",
       "NC_000001.10:g.981345C>T                              1\n",
       "NC_000011.9:g.67809268C>T                             1\n",
       "Name: CLNHGVS, Length: 65188, dtype: int64"
      ]
     },
     "execution_count": 105,
     "metadata": {},
     "output_type": "execute_result"
    }
   ],
   "source": [
    "df['CLNHGVS'].value_counts()"
   ]
  },
  {
   "cell_type": "code",
   "execution_count": 33,
   "metadata": {},
   "outputs": [
    {
     "data": {
      "text/plain": [
       "not_specified                                                                                                                                 7\n",
       "Biotinidase_deficiency                                                                                                                        5\n",
       "Merosin_deficient_congenital_muscular_dystrophy                                                                                               3\n",
       "Familial_hypercholesterolemia                                                                                                                 3\n",
       "Multiple_gastrointestinal_atresias                                                                                                            2\n",
       "21-hydroxylase_deficiency                                                                                                                     2\n",
       "Minicore_myopathy                                                                                                                             2\n",
       "Charcot-Marie-Tooth_disease                                                                                                                   2\n",
       "Limb-girdle_muscular_dystrophy,_type_2L|Miyoshi_muscular_dystrophy_3                                                                          2\n",
       "Sensory_ataxic_neuropathy,_dysarthria,_and_ophthalmoparesis|Cerebellar_ataxia_infantile_with_progressive_external_ophthalmoplegia             2\n",
       "Aortic_aneurysm,_familial_thoracic_4                                                                                                          2\n",
       "Small_fiber_neuropathy                                                                                                                        2\n",
       "Retinitis_pigmentosa_26                                                                                                                       1\n",
       "Mitochondrial_complex_I_deficiency                                                                                                            1\n",
       "3-Oxo-5_alpha-steroid_delta_4-dehydrogenase_deficiency                                                                                        1\n",
       "Limb-girdle_muscular_dystrophy,_type_2B                                                                                                       1\n",
       "Limb-girdle_muscular_dystrophy,_type_2A                                                                                                       1\n",
       "Deafness,_autosomal_recessive_7                                                                                                               1\n",
       "Deafness,_autosomal_dominant_16                                                                                                               1\n",
       "Multiple_endocrine_neoplasia,_type_2a                                                                                                         1\n",
       "GALT_POLYMORPHISM_(LOS_ANGELES,_D1)                                                                                                           1\n",
       "HEMOGLOBIN_FANNIN-LUBBOCK|HEMOGLOBIN_MASUDA                                                                                                   1\n",
       "Coenzyme_Q10_deficiency,_primary,_4                                                                                                           1\n",
       "Intellectual_functioning_disability                                                                                                           1\n",
       "Nephrotic_syndrome,_idiopathic,_steroid-resistant                                                                                             1\n",
       "Hereditary_insensitivity_to_pain_with_anhidrosis                                                                                              1\n",
       "Epilepsy,_progressive_myoclonic_6                                                                                                             1\n",
       "Dyskeratosis_congenita,_autosomal_recessive,_5                                                                                                1\n",
       "Microcephaly,_normal_intelligence_and_immunodeficiency                                                                                        1\n",
       "Deficiency_of_UDPglucose-hexose-1-phosphate_uridylyltransferase                                                                               1\n",
       "Myopathy,_distal,_with_anterior_tibial_onset|Miyoshi_muscular_dystrophy_1|Limb-girdle_muscular_dystrophy,_type_2B                             1\n",
       "Hyperekplexia_hereditary                                                                                                                      1\n",
       "BETHLEM_MYOPATHY_1,_AUTOSOMAL_RECESSIVE                                                                                                       1\n",
       "Ehlers-Danlos_syndrome,_hydroxylysine-deficient                                                                                               1\n",
       "Dilated_cardiomyopathy_1G|Familial_hypertrophic_cardiomyopathy_9                                                                              1\n",
       "Deafness,_autosomal_recessive_9                                                                                                               1\n",
       "Stargardt_disease_1                                                                                                                           1\n",
       "Bull's_eye_maculopathy|Methylmalonic_acidemia_with_homocystinuria                                                                             1\n",
       "PI_M(NICHINAN)                                                                                                                                1\n",
       "G6PD_SANTAMARIA|Glucose_6_phosphate_dehydrogenase_deficiency                                                                                  1\n",
       "Central_core_disease                                                                                                                          1\n",
       "Deafness,_autosomal_recessive_3                                                                                                               1\n",
       "Acute_neuronopathic_Gaucher's_disease|Subacute_neuronopathic_Gaucher's_disease|Gaucher_disease,_perinatal_lethal|Gaucher's_disease,_type_1    1\n",
       "Carnitine_palmitoyltransferase_II_deficiency|Carnitine_palmitoyltransferase_II_deficiency,_myopathic,_stress-induced                          1\n",
       "Brugada_syndrome_1                                                                                                                            1\n",
       "HEMOGLOBIN_GRENOBLE                                                                                                                           1\n",
       "HEMOGLOBIN_ZIGUINCHOR                                                                                                                         1\n",
       "Spondylocostal_dysostosis_5                                                                                                                   1\n",
       "HEMOGLOBIN_ARLINGTON_PARK                                                                                                                     1\n",
       "Niemann-Pick_disease,_type_B                                                                                                                  1\n",
       "Phenylketonuria                                                                                                                               1\n",
       "Breast-ovarian_cancer,_familial_1                                                                                                             1\n",
       "G6PD_SANTAMARIA                                                                                                                               1\n",
       "Deafness,_autosomal_recessive_77                                                                                                              1\n",
       "Name: CLNDNINCL, dtype: int64"
      ]
     },
     "execution_count": 33,
     "metadata": {},
     "output_type": "execute_result"
    }
   ],
   "source": [
    "df['CLNDNINCL'].value_counts()"
   ]
  },
  {
   "cell_type": "code",
   "execution_count": 34,
   "metadata": {
    "scrolled": true
   },
   "outputs": [
    {
     "data": {
      "text/plain": [
       "190388:Pathogenic                                    2\n",
       "424764:Likely_pathogenic                             2\n",
       "157525:Uncertain_significance                        2\n",
       "12182:Pathogenic                                     2\n",
       "179465:Uncertain_significance                        2\n",
       "430769:Pathogenic                                    2\n",
       "441531:Pathogenic                                    2\n",
       "424791:Likely_pathogenic                             2\n",
       "38562:Pathogenic                                     1\n",
       "10382:other                                          1\n",
       "13906:Pathogenic                                     1\n",
       "140570:Pathogenic                                    1\n",
       "12304:Pathogenic                                     1\n",
       "440850:Pathogenic                                    1\n",
       "402236:Likely_pathogenic                             1\n",
       "427816:Likely_pathogenic                             1\n",
       "236068:Pathogenic                                    1\n",
       "38566:Pathogenic|38568:Pathogenic                    1\n",
       "446730:other                                         1\n",
       "424805:Likely_pathogenic                             1\n",
       "424826:Likely_pathogenic                             1\n",
       "424840:Uncertain_significance                        1\n",
       "228471:Uncertain_significance                        1\n",
       "424774:Likely_pathogenic                             1\n",
       "424837:Uncertain_significance                        1\n",
       "188053:Pathogenic                                    1\n",
       "424813:Pathogenic                                    1\n",
       "17972:other                                          1\n",
       "424839:Uncertain_significance                        1\n",
       "424817:Pathogenic                                    1\n",
       "                                                    ..\n",
       "424767:Pathogenic                                    1\n",
       "225143:Pathogenic                                    1\n",
       "446729:other                                         1\n",
       "24975:Pathogenic|38563:Pathogenic                    1\n",
       "190218:Pathogenic                                    1\n",
       "424768:Pathogenic                                    1\n",
       "3737:Pathogenic                                      1\n",
       "424825:Likely_pathogenic                             1\n",
       "424752:Pathogenic                                    1\n",
       "424775:Likely_pathogenic|424829:Likely_pathogenic    1\n",
       "29876:Pathogenic                                     1\n",
       "424795:Likely_pathogenic                             1\n",
       "424713:Pathogenic                                    1\n",
       "424702:Pathogenic                                    1\n",
       "424784:Pathogenic                                    1\n",
       "29642:Pathogenic                                     1\n",
       "424808:Pathogenic                                    1\n",
       "92124:Uncertain_significance                         1\n",
       "424754:Likely_pathogenic                             1\n",
       "424780:Likely_pathogenic                             1\n",
       "424836:Uncertain_significance                        1\n",
       "217876:Pathogenic                                    1\n",
       "60702:Pathogenic                                     1\n",
       "65396:Pathogenic                                     1\n",
       "25030:Pathogenic                                     1\n",
       "440783:Pathogenic                                    1\n",
       "487432:Likely_pathogenic                             1\n",
       "14131:Pathogenic                                     1\n",
       "7:Pathogenic                                         1\n",
       "38562:Pathogenic|38564:Pathogenic                    1\n",
       "Name: CLNSIGINCL, Length: 68, dtype: int64"
      ]
     },
     "execution_count": 34,
     "metadata": {},
     "output_type": "execute_result"
    }
   ],
   "source": [
    "df['CLNSIGINCL'].value_counts()"
   ]
  },
  {
   "cell_type": "markdown",
   "metadata": {},
   "source": [
    "Let's try dropping \n",
    "\n",
    "CLNDISDB               \n",
    "CLNDISDBINCL             \n",
    "CLNDN                  \n",
    "CLNDNINCL                \n",
    "CLNHGVS               \n",
    "CLNSIGINCL \n",
    "\n",
    "CLNVI \n",
    "\n",
    " for now"
   ]
  },
  {
   "cell_type": "code",
   "execution_count": 94,
   "metadata": {},
   "outputs": [
    {
     "data": {
      "text/plain": [
       "single_nucleotide_variant    61281\n",
       "Deletion                      2509\n",
       "Duplication                   1034\n",
       "Indel                          247\n",
       "Insertion                       95\n",
       "Inversion                       17\n",
       "Microsatellite                   5\n",
       "Name: CLNVC, dtype: int64"
      ]
     },
     "execution_count": 94,
     "metadata": {},
     "output_type": "execute_result"
    }
   ],
   "source": [
    "df['CLNVC'].value_counts()"
   ]
  },
  {
   "cell_type": "code",
   "execution_count": 104,
   "metadata": {},
   "outputs": [
    {
     "data": {
      "text/plain": [
       "UniProtKB_(protein):P04637                                                                                                124\n",
       "UniProtKB_(protein):Q14524                                                                                                 75\n",
       "UniProtKB_(protein):Q13315                                                                                                 54\n",
       "UniProtKB_(protein):P51787                                                                                                 53\n",
       "UniProtKB_(protein):P38398                                                                                                 50\n",
       "UniProtKB_(protein):O75445                                                                                                 48\n",
       "UniProtKB_(protein):Q12809                                                                                                 39\n",
       "UniProtKB_(protein):P12883                                                                                                 35\n",
       "UniProtKB_(protein):Q8WZ42                                                                                                 31\n",
       "UniProtKB_(protein):P78363                                                                                                 30\n",
       "UniProtKB_(protein):Q8WXG9                                                                                                 22\n",
       "UniProtKB_(protein):P51608                                                                                                 21\n",
       "UniProtKB_(protein):P35670                                                                                                 21\n",
       "UniProtKB_(protein):P02545                                                                                                 19\n",
       "UniProtKB_(protein):Q14896                                                                                                 18\n",
       "UniProtKB_(protein):P35498                                                                                                 17\n",
       "UniProtKB_(protein):P07949                                                                                                 15\n",
       "UniProtKB_(protein):P21817                                                                                                 15\n",
       "UniProtKB_(protein):P42771                                                                                                 15\n",
       "UniProtKB_(protein):P21359                                                                                                 14\n",
       "UniProtKB_(protein):O96017                                                                                                 14\n",
       "UniProtKB_(protein):P40337                                                                                                 14\n",
       "UniProtKB_(protein):P35520                                                                                                 13\n",
       "UniProtKB_(protein):P13569                                                                                                 13\n",
       "UniProtKB_(protein):P08034                                                                                                 13\n",
       "UniProtKB_(protein):P10253                                                                                                 12\n",
       "UniProtKB_(protein):Q07864                                                                                                 12\n",
       "UniProtKB_(protein):P08F94                                                                                                 12\n",
       "UniProtKB_(protein):P20807                                                                                                 12\n",
       "UniProtKB_(protein):Q06124                                                                                                 11\n",
       "                                                                                                                         ... \n",
       "Illumina_Clinical_Services_Laboratory,Illumina:652740|OMIM_Allelic_Variant:600046.0008|UniProtKB_(protein):O95477           1\n",
       "Illumina_Clinical_Services_Laboratory,Illumina:53283|Robarts_Research_Institute,The_University_of_Western_Ontario:4668      1\n",
       "Illumina_Clinical_Services_Laboratory,Illumina:631274                                                                       1\n",
       "OMIM_Allelic_Variant:613160.0029|UniProtKB_(protein):P04275                                                                 1\n",
       "Illumina_Clinical_Services_Laboratory,Illumina:722780|UniProtKB_(protein):P56715                                            1\n",
       "Illumina_Clinical_Services_Laboratory,Illumina:786737                                                                       1\n",
       "ARUP_Laboratories,_Molecular_Genetics_and_Genomics:38845|Illumina_Clinical_Services_Laboratory,Illumina:232994              1\n",
       "Illumina_Clinical_Services_Laboratory,Illumina:673191                                                                       1\n",
       "Illumina_Clinical_Services_Laboratory,Illumina:58725|UniProtKB_(protein):Q7Z7G8                                             1\n",
       "Illumina_Clinical_Services_Laboratory,Illumina:100007|UniProtKB_(protein):Q8WYB5                                            1\n",
       "Illumina_Clinical_Services_Laboratory,Illumina:721746                                                                       1\n",
       "Illumina_Clinical_Services_Laboratory,Illumina:741958                                                                       1\n",
       "Illumina_Clinical_Services_Laboratory,Illumina:8296                                                                         1\n",
       "Illumina_Clinical_Services_Laboratory,Illumina:251031                                                                       1\n",
       "Illumina_Clinical_Services_Laboratory,Illumina:36185                                                                        1\n",
       "Illumina_Clinical_Services_Laboratory,Illumina:222571                                                                       1\n",
       "ARUP_Laboratories,_Molecular_Genetics_and_Genomics:120067|Illumina_Clinical_Services_Laboratory,Illumina:862411             1\n",
       "Illumina_Clinical_Services_Laboratory,Illumina:137105                                                                       1\n",
       "Illumina_Clinical_Services_Laboratory,Illumina:96063                                                                        1\n",
       "Illumina_Clinical_Services_Laboratory,Illumina:735230                                                                       1\n",
       "OMIM_Allelic_Variant:607608.0011                                                                                            1\n",
       "Illumina_Clinical_Services_Laboratory,Illumina:805761                                                                       1\n",
       "Illumina_Clinical_Services_Laboratory,Illumina:20034                                                                        1\n",
       "Illumina_Clinical_Services_Laboratory,Illumina:72884                                                                        1\n",
       "Illumina_Clinical_Services_Laboratory,Illumina:295309                                                                       1\n",
       "Illumina_Clinical_Services_Laboratory,Illumina:751713                                                                       1\n",
       "OMIM_Allelic_Variant:152427.0001|UniProtKB_(protein):Q12809                                                                 1\n",
       "Illumina_Clinical_Services_Laboratory,Illumina:8848                                                                         1\n",
       "ARUP_Laboratories,_Molecular_Genetics_and_Genomics:28856|Illumina_Clinical_Services_Laboratory,Illumina:251017              1\n",
       "ARUP_Laboratories,_Molecular_Genetics_and_Genomics:58361|Illumina_Clinical_Services_Laboratory,Illumina:50421               1\n",
       "Name: CLNVI, Length: 26289, dtype: int64"
      ]
     },
     "execution_count": 104,
     "metadata": {},
     "output_type": "execute_result"
    }
   ],
   "source": [
    "df['CLNVI'].value_counts()"
   ]
  },
  {
   "cell_type": "code",
   "execution_count": 93,
   "metadata": {
    "scrolled": true
   },
   "outputs": [
    {
     "data": {
      "text/plain": [
       " 1.0      58216\n",
       "NaN        6123\n",
       " 33.0       246\n",
       " 5.0        149\n",
       " 3.0        142\n",
       " 17.0       139\n",
       " 9.0        100\n",
       " 0.0         13\n",
       " 25.0        11\n",
       " 32.0        10\n",
       " 49.0         7\n",
       " 513.0        5\n",
       " 65.0         4\n",
       " 21.0         3\n",
       " 2.0          3\n",
       " 13.0         2\n",
       " 41.0         2\n",
       " 16.0         2\n",
       " 4.0          2\n",
       " 27.0         1\n",
       " 129.0        1\n",
       " 43.0         1\n",
       " 35.0         1\n",
       " 29.0         1\n",
       " 37.0         1\n",
       " 12.0         1\n",
       " 69.0         1\n",
       " 53.0         1\n",
       "Name: ORIGIN, dtype: int64"
      ]
     },
     "execution_count": 93,
     "metadata": {},
     "output_type": "execute_result"
    }
   ],
   "source": [
    "df['ORIGIN'].value_counts(dropna=False)"
   ]
  },
  {
   "cell_type": "code",
   "execution_count": 92,
   "metadata": {
    "scrolled": true
   },
   "outputs": [
    {
     "name": "stdout",
     "output_type": "stream",
     "text": [
      "<class 'pandas.core.frame.DataFrame'>\n",
      "RangeIndex: 65188 entries, 0 to 65187\n",
      "Data columns (total 46 columns):\n",
      "CHROM                 65188 non-null object\n",
      "POS                   65188 non-null int64\n",
      "REF                   65188 non-null object\n",
      "ALT                   65188 non-null object\n",
      "AF_ESP                65188 non-null float64\n",
      "AF_EXAC               65188 non-null float64\n",
      "AF_TGP                65188 non-null float64\n",
      "CLNDISDB              65188 non-null object\n",
      "CLNDISDBINCL          76 non-null object\n",
      "CLNDN                 65188 non-null object\n",
      "CLNDNINCL             76 non-null object\n",
      "CLNHGVS               65188 non-null object\n",
      "CLNSIGINCL            76 non-null object\n",
      "CLNVC                 65188 non-null object\n",
      "CLNVI                 27659 non-null object\n",
      "MC                    58219 non-null object\n",
      "ORIGIN                59065 non-null float64\n",
      "SSR                   104 non-null float64\n",
      "CLASS                 65188 non-null int64\n",
      "Allele                65188 non-null object\n",
      "Consequence           65188 non-null object\n",
      "IMPACT                65188 non-null object\n",
      "SYMBOL                65172 non-null object\n",
      "Feature_type          65174 non-null object\n",
      "Feature               65174 non-null object\n",
      "BIOTYPE               65172 non-null object\n",
      "EXON                  56295 non-null object\n",
      "INTRON                8803 non-null object\n",
      "cDNA_position         56304 non-null object\n",
      "CDS_position          55233 non-null object\n",
      "Protein_position      55233 non-null object\n",
      "Amino_acids           55184 non-null object\n",
      "Codons                55184 non-null object\n",
      "DISTANCE              108 non-null float64\n",
      "STRAND                65174 non-null float64\n",
      "BAM_EDIT              31969 non-null object\n",
      "SIFT                  24836 non-null object\n",
      "PolyPhen              24796 non-null object\n",
      "MOTIF_NAME            2 non-null object\n",
      "MOTIF_POS             2 non-null float64\n",
      "HIGH_INF_POS          2 non-null object\n",
      "MOTIF_SCORE_CHANGE    2 non-null float64\n",
      "LoFtool               60975 non-null float64\n",
      "CADD_PHRED            64096 non-null float64\n",
      "CADD_RAW              64096 non-null float64\n",
      "BLOSUM62              25593 non-null float64\n",
      "dtypes: float64(13), int64(2), object(31)\n",
      "memory usage: 22.9+ MB\n"
     ]
    }
   ],
   "source": [
    "df.info()"
   ]
  },
  {
   "cell_type": "code",
   "execution_count": 42,
   "metadata": {
    "scrolled": true
   },
   "outputs": [
    {
     "data": {
      "text/plain": [
       "CHROM                    24\n",
       "POS                   63115\n",
       "REF                     866\n",
       "ALT                     458\n",
       "AF_ESP                 2842\n",
       "AF_EXAC                6667\n",
       "AF_TGP                 2087\n",
       "CLNDISDB               9234\n",
       "CLNDISDBINCL             48\n",
       "CLNDN                  9260\n",
       "CLNDNINCL                54\n",
       "CLNHGVS               65188\n",
       "CLNSIGINCL               68\n",
       "CLNVC                     7\n",
       "CLNVI                 26289\n",
       "MC                       89\n",
       "ORIGIN                   27\n",
       "SSR                       2\n",
       "CLASS                     2\n",
       "Allele                  374\n",
       "Consequence              48\n",
       "IMPACT                    4\n",
       "SYMBOL                 2328\n",
       "Feature_type              2\n",
       "Feature                2369\n",
       "BIOTYPE                   2\n",
       "EXON                   3264\n",
       "INTRON                 1929\n",
       "cDNA_position         13970\n",
       "CDS_position          13663\n",
       "Protein_position       7339\n",
       "Amino_acids            1262\n",
       "Codons                 2220\n",
       "DISTANCE                 96\n",
       "STRAND                    2\n",
       "BAM_EDIT                  2\n",
       "SIFT                      4\n",
       "PolyPhen                  4\n",
       "MOTIF_NAME                2\n",
       "MOTIF_POS                 1\n",
       "HIGH_INF_POS              1\n",
       "MOTIF_SCORE_CHANGE        2\n",
       "LoFtool                1195\n",
       "CADD_PHRED             9324\n",
       "CADD_RAW              63803\n",
       "BLOSUM62                  6\n",
       "dtype: int64"
      ]
     },
     "execution_count": 42,
     "metadata": {},
     "output_type": "execute_result"
    }
   ],
   "source": [
    "df.nunique()"
   ]
  },
  {
   "cell_type": "code",
   "execution_count": 48,
   "metadata": {},
   "outputs": [
    {
     "data": {
      "text/plain": [
       "<matplotlib.axes._subplots.AxesSubplot at 0x7f64cee79ef0>"
      ]
     },
     "execution_count": 48,
     "metadata": {},
     "output_type": "execute_result"
    },
    {
     "data": {
      "image/png": "[encoded data removed]",
      "text/plain": [
       "<Figure size 432x288 with 1 Axes>"
      ]
     },
     "metadata": {
      "needs_background": "light"
     },
     "output_type": "display_data"
    }
   ],
   "source": [
    "df['SSR'].value_counts(dropna=False).plot.bar()"
   ]
  },
  {
   "cell_type": "code",
   "execution_count": 90,
   "metadata": {},
   "outputs": [
    {
     "data": {
      "text/plain": [
       "NaN      65084\n",
       " 1.0        95\n",
       " 16.0        9\n",
       "Name: SSR, dtype: int64"
      ]
     },
     "execution_count": 90,
     "metadata": {},
     "output_type": "execute_result"
    }
   ],
   "source": [
    "df['SSR'].value_counts(dropna=False)"
   ]
  },
  {
   "cell_type": "markdown",
   "metadata": {},
   "source": [
    "May want to drop this column"
   ]
  },
  {
   "cell_type": "code",
   "execution_count": 46,
   "metadata": {},
   "outputs": [
    {
     "data": {
      "text/plain": [
       "<matplotlib.axes._subplots.AxesSubplot at 0x7f64ec112c50>"
      ]
     },
     "execution_count": 46,
     "metadata": {},
     "output_type": "execute_result"
    },
    {
     "data": {
      "image/png": "[encoded data removed]",
      "text/plain": [
       "<Figure size 432x288 with 1 Axes>"
      ]
     },
     "metadata": {
      "needs_background": "light"
     },
     "output_type": "display_data"
    }
   ],
   "source": [
    "df['CLASS'].value_counts().plot.bar()"
   ]
  },
  {
   "cell_type": "code",
   "execution_count": 50,
   "metadata": {
    "scrolled": true
   },
   "outputs": [
    {
     "data": {
      "text/plain": [
       "missense_variant                                                  31444\n",
       "synonymous_variant                                                17668\n",
       "intron_variant                                                     4403\n",
       "splice_region_variant&intron_variant                               3393\n",
       "frameshift_variant                                                 1774\n",
       "stop_gained                                                        1702\n",
       "missense_variant&splice_region_variant                              964\n",
       "5_prime_UTR_variant                                                 626\n",
       "inframe_deletion                                                    583\n",
       "splice_region_variant&synonymous_variant                            552\n",
       "splice_donor_variant                                                539\n",
       "3_prime_UTR_variant                                                 428\n",
       "splice_acceptor_variant                                             401\n",
       "inframe_insertion                                                   202\n",
       "start_lost                                                           92\n",
       "upstream_gene_variant                                                82\n",
       "stop_gained&splice_region_variant                                    70\n",
       "frameshift_variant&splice_region_variant                             56\n",
       "downstream_gene_variant                                              26\n",
       "stop_gained&frameshift_variant                                       25\n",
       "splice_donor_variant&coding_sequence_variant&intron_variant          18\n",
       "splice_donor_variant&intron_variant                                  17\n",
       "splice_region_variant&5_prime_UTR_variant                            15\n",
       "intergenic_variant                                                   14\n",
       "stop_lost                                                            10\n",
       "splice_donor_variant&coding_sequence_variant                         10\n",
       "inframe_deletion&splice_region_variant                                9\n",
       "stop_retained_variant                                                 9\n",
       "protein_altering_variant                                              9\n",
       "splice_acceptor_variant&coding_sequence_variant&intron_variant        8\n",
       "splice_acceptor_variant&intron_variant                                6\n",
       "splice_acceptor_variant&coding_sequence_variant                       6\n",
       "frameshift_variant&start_lost                                         4\n",
       "stop_lost&3_prime_UTR_variant                                         3\n",
       "frameshift_variant&stop_lost                                          3\n",
       "stop_retained_variant&3_prime_UTR_variant                             2\n",
       "TF_binding_site_variant                                               2\n",
       "splice_region_variant&3_prime_UTR_variant                             2\n",
       "start_lost&splice_region_variant                                      2\n",
       "frameshift_variant&start_lost&start_retained_variant                  1\n",
       "stop_gained&inframe_deletion                                          1\n",
       "stop_gained&protein_altering_variant                                  1\n",
       "frameshift_variant&stop_retained_variant                              1\n",
       "intron_variant&non_coding_transcript_variant                          1\n",
       "start_lost&5_prime_UTR_variant                                        1\n",
       "splice_region_variant&coding_sequence_variant&intron_variant          1\n",
       "inframe_insertion&splice_region_variant                               1\n",
       "stop_gained&inframe_insertion                                         1\n",
       "Name: Consequence, dtype: int64"
      ]
     },
     "execution_count": 50,
     "metadata": {},
     "output_type": "execute_result"
    }
   ],
   "source": [
    "df['Consequence'].value_counts()"
   ]
  },
  {
   "cell_type": "markdown",
   "metadata": {},
   "source": [
    "Split out into multiple columns"
   ]
  },
  {
   "cell_type": "code",
   "execution_count": 51,
   "metadata": {},
   "outputs": [
    {
     "data": {
      "text/plain": [
       "<matplotlib.axes._subplots.AxesSubplot at 0x7f64cedcef28>"
      ]
     },
     "execution_count": 51,
     "metadata": {},
     "output_type": "execute_result"
    },
    {
     "data": {
      "image/png": "[encoded data removed]",
      "text/plain": [
       "<Figure size 432x288 with 1 Axes>"
      ]
     },
     "metadata": {
      "needs_background": "light"
     },
     "output_type": "display_data"
    }
   ],
   "source": [
    "df['IMPACT'].value_counts(dropna=False).plot.bar()"
   ]
  },
  {
   "cell_type": "code",
   "execution_count": 52,
   "metadata": {
    "scrolled": true
   },
   "outputs": [
    {
     "data": {
      "text/plain": [
       "TTN         2765\n",
       "BRCA2       1934\n",
       "ATM         1909\n",
       "APC         1228\n",
       "BRCA1       1075\n",
       "MSH6        1048\n",
       "LDLR         905\n",
       "PALB2        794\n",
       "NF1          732\n",
       "TSC2         640\n",
       "BRIP1        627\n",
       "PMS2         600\n",
       "MSH2         596\n",
       "POLE         571\n",
       "CDH1         553\n",
       "CHEK2        491\n",
       "BARD1        490\n",
       "SMARCA4      451\n",
       "MYBPC3       441\n",
       "RAD50        426\n",
       "SYNE1        422\n",
       "TP53         420\n",
       "POLD1        404\n",
       "NBN          397\n",
       "MLH1         395\n",
       "MUTYH        391\n",
       "PLEC         379\n",
       "STK11        359\n",
       "MYH7         333\n",
       "NEB          321\n",
       "            ... \n",
       "SNAPC5         1\n",
       "CACNG2         1\n",
       "CFH            1\n",
       "KRT74          1\n",
       "KIF5C          1\n",
       "WDR73          1\n",
       "GPLD1          1\n",
       "SLC4A4         1\n",
       "STAMBP         1\n",
       "MCM4           1\n",
       "FASN           1\n",
       "ALX1           1\n",
       "CTCF           1\n",
       "SLC25A46       1\n",
       "KLHL24         1\n",
       "PTF1A          1\n",
       "GPHN           1\n",
       "HCCS           1\n",
       "ARL6           1\n",
       "TAP2           1\n",
       "ARHGEF15       1\n",
       "VAV1           1\n",
       "CEP120         1\n",
       "PAX8           1\n",
       "KIF11          1\n",
       "ACD            1\n",
       "PRSS56         1\n",
       "ENTPD1         1\n",
       "LTBP3          1\n",
       "KRT83          1\n",
       "Name: SYMBOL, Length: 2328, dtype: int64"
      ]
     },
     "execution_count": 52,
     "metadata": {},
     "output_type": "execute_result"
    }
   ],
   "source": [
    "df['SYMBOL'].value_counts()"
   ]
  },
  {
   "cell_type": "markdown",
   "metadata": {},
   "source": [
    "Not quite sure how to treat this yet - still a lot of categories here"
   ]
  },
  {
   "cell_type": "code",
   "execution_count": 53,
   "metadata": {
    "scrolled": true
   },
   "outputs": [
    {
     "data": {
      "text/plain": [
       "CHROM                    24\n",
       "POS                   63115\n",
       "REF                     866\n",
       "ALT                     458\n",
       "AF_ESP                 2842\n",
       "AF_EXAC                6667\n",
       "AF_TGP                 2087\n",
       "CLNDISDB               9234\n",
       "CLNDISDBINCL             48\n",
       "CLNDN                  9260\n",
       "CLNDNINCL                54\n",
       "CLNHGVS               65188\n",
       "CLNSIGINCL               68\n",
       "CLNVC                     7\n",
       "CLNVI                 26289\n",
       "MC                       89\n",
       "ORIGIN                   27\n",
       "SSR                       2\n",
       "CLASS                     2\n",
       "Allele                  374\n",
       "Consequence              48\n",
       "IMPACT                    4\n",
       "SYMBOL                 2328\n",
       "Feature_type              2\n",
       "Feature                2369\n",
       "BIOTYPE                   2\n",
       "EXON                   3264\n",
       "INTRON                 1929\n",
       "cDNA_position         13970\n",
       "CDS_position          13663\n",
       "Protein_position       7339\n",
       "Amino_acids            1262\n",
       "Codons                 2220\n",
       "DISTANCE                 96\n",
       "STRAND                    2\n",
       "BAM_EDIT                  2\n",
       "SIFT                      4\n",
       "PolyPhen                  4\n",
       "MOTIF_NAME                2\n",
       "MOTIF_POS                 1\n",
       "HIGH_INF_POS              1\n",
       "MOTIF_SCORE_CHANGE        2\n",
       "LoFtool                1195\n",
       "CADD_PHRED             9324\n",
       "CADD_RAW              63803\n",
       "BLOSUM62                  6\n",
       "dtype: int64"
      ]
     },
     "execution_count": 53,
     "metadata": {},
     "output_type": "execute_result"
    }
   ],
   "source": [
    "df.nunique()"
   ]
  },
  {
   "cell_type": "code",
   "execution_count": 56,
   "metadata": {
    "scrolled": true
   },
   "outputs": [
    {
     "name": "stdout",
     "output_type": "stream",
     "text": [
      "<class 'pandas.core.frame.DataFrame'>\n",
      "RangeIndex: 65188 entries, 0 to 65187\n",
      "Data columns (total 46 columns):\n",
      "CHROM                 65188 non-null object\n",
      "POS                   65188 non-null int64\n",
      "REF                   65188 non-null object\n",
      "ALT                   65188 non-null object\n",
      "AF_ESP                65188 non-null float64\n",
      "AF_EXAC               65188 non-null float64\n",
      "AF_TGP                65188 non-null float64\n",
      "CLNDISDB              65188 non-null object\n",
      "CLNDISDBINCL          76 non-null object\n",
      "CLNDN                 65188 non-null object\n",
      "CLNDNINCL             76 non-null object\n",
      "CLNHGVS               65188 non-null object\n",
      "CLNSIGINCL            76 non-null object\n",
      "CLNVC                 65188 non-null object\n",
      "CLNVI                 27659 non-null object\n",
      "MC                    58219 non-null object\n",
      "ORIGIN                59065 non-null float64\n",
      "SSR                   104 non-null float64\n",
      "CLASS                 65188 non-null int64\n",
      "Allele                65188 non-null object\n",
      "Consequence           65188 non-null object\n",
      "IMPACT                65188 non-null object\n",
      "SYMBOL                65172 non-null object\n",
      "Feature_type          65174 non-null object\n",
      "Feature               65174 non-null object\n",
      "BIOTYPE               65172 non-null object\n",
      "EXON                  56295 non-null object\n",
      "INTRON                8803 non-null object\n",
      "cDNA_position         56304 non-null object\n",
      "CDS_position          55233 non-null object\n",
      "Protein_position      55233 non-null object\n",
      "Amino_acids           55184 non-null object\n",
      "Codons                55184 non-null object\n",
      "DISTANCE              108 non-null float64\n",
      "STRAND                65174 non-null float64\n",
      "BAM_EDIT              31969 non-null object\n",
      "SIFT                  24836 non-null object\n",
      "PolyPhen              24796 non-null object\n",
      "MOTIF_NAME            2 non-null object\n",
      "MOTIF_POS             2 non-null float64\n",
      "HIGH_INF_POS          2 non-null object\n",
      "MOTIF_SCORE_CHANGE    2 non-null float64\n",
      "LoFtool               60975 non-null float64\n",
      "CADD_PHRED            64096 non-null float64\n",
      "CADD_RAW              64096 non-null float64\n",
      "BLOSUM62              25593 non-null float64\n",
      "dtypes: float64(13), int64(2), object(31)\n",
      "memory usage: 22.9+ MB\n"
     ]
    }
   ],
   "source": [
    "df.info()"
   ]
  },
  {
   "cell_type": "code",
   "execution_count": 55,
   "metadata": {},
   "outputs": [
    {
     "data": {
      "text/plain": [
       "Transcript      65172\n",
       "NaN                14\n",
       "MotifFeature        2\n",
       "Name: Feature_type, dtype: int64"
      ]
     },
     "execution_count": 55,
     "metadata": {},
     "output_type": "execute_result"
    }
   ],
   "source": [
    "df['Feature_type'].value_counts(dropna=False)"
   ]
  },
  {
   "cell_type": "markdown",
   "metadata": {},
   "source": [
    "Probably will drop this feature as well"
   ]
  },
  {
   "cell_type": "code",
   "execution_count": 57,
   "metadata": {
    "scrolled": true
   },
   "outputs": [
    {
     "data": {
      "text/plain": [
       "NM_001267550.1    2765\n",
       "NM_000059.3       1934\n",
       "NM_000051.3       1909\n",
       "XM_005271975.1    1228\n",
       "NM_007300.3       1075\n",
       "NM_000179.2       1048\n",
       "NM_000527.4        905\n",
       "NM_024675.3        794\n",
       "XM_005257983.1     732\n",
       "XM_005255527.1     640\n",
       "NM_032043.2        627\n",
       "NM_001322014.1     600\n",
       "NM_000251.2        596\n",
       "NM_006231.2        571\n",
       "NM_004360.3        553\n",
       "NM_001005735.1     491\n",
       "NM_000465.2        489\n",
       "XM_005260025.1     451\n",
       "NM_000256.3        441\n",
       "NM_005732.3        426\n",
       "XM_005266877.1     422\n",
       "NM_000546.5        420\n",
       "NM_001308632.1     404\n",
       "NM_002485.4        397\n",
       "NM_000249.3        395\n",
       "NM_001128425.1     391\n",
       "XM_005250976.1     379\n",
       "XM_005259617.1     359\n",
       "NM_000257.2        333\n",
       "NM_001271208.1     321\n",
       "                  ... \n",
       "NM_000602.4          1\n",
       "NM_001031710.2       1\n",
       "NM_001114748.1       1\n",
       "NM_005708.3          1\n",
       "NM_004625.3          1\n",
       "NM_153223.3          1\n",
       "NM_000207.2          1\n",
       "NM_000824.4          1\n",
       "NM_003332.3          1\n",
       "NM_002282.3          1\n",
       "NM_001136271.2       1\n",
       "NM_025207.4          1\n",
       "NM_005589.3          1\n",
       "NM_001807.4          1\n",
       "NM_001003841.2       1\n",
       "NM_006049.3          1\n",
       "NM_001143810.1       1\n",
       "NM_001014431.1       1\n",
       "NM_001001433.2       1\n",
       "NM_022915.3          1\n",
       "NM_001206983.2       1\n",
       "XM_005265449.1       1\n",
       "NM_002148.3          1\n",
       "NM_000496.2          1\n",
       "NM_014225.5          1\n",
       "NM_001040167.1       1\n",
       "NM_013314.3          1\n",
       "NM_014233.3          1\n",
       "NM_016379.3          1\n",
       "NM_030964.3          1\n",
       "Name: Feature, Length: 2370, dtype: int64"
      ]
     },
     "execution_count": 57,
     "metadata": {},
     "output_type": "execute_result"
    }
   ],
   "source": [
    "df['Feature'].value_counts(dropna=False)"
   ]
  },
  {
   "cell_type": "markdown",
   "metadata": {},
   "source": [
    "This is the same as SYMBOL, so should drop"
   ]
  },
  {
   "cell_type": "code",
   "execution_count": 59,
   "metadata": {},
   "outputs": [
    {
     "data": {
      "text/plain": [
       "protein_coding    65158\n",
       "NaN                  16\n",
       "misc_RNA             14\n",
       "Name: BIOTYPE, dtype: int64"
      ]
     },
     "execution_count": 59,
     "metadata": {},
     "output_type": "execute_result"
    }
   ],
   "source": [
    "df['BIOTYPE'].value_counts(dropna=False)"
   ]
  },
  {
   "cell_type": "markdown",
   "metadata": {},
   "source": [
    "Probably will drop this column"
   ]
  },
  {
   "cell_type": "code",
   "execution_count": 108,
   "metadata": {
    "scrolled": true
   },
   "outputs": [
    {
     "data": {
      "text/plain": [
       "NaN        8893\n",
       "16/16      1129\n",
       "11/27       807\n",
       "4/10        752\n",
       "3/3         581\n",
       "2/2         570\n",
       "10/24       525\n",
       "326/363     368\n",
       "4/13        368\n",
       "4/4         354\n",
       "4/11        342\n",
       "8/8         336\n",
       "1/10        324\n",
       "9/10        323\n",
       "11/11       305\n",
       "1/1         288\n",
       "10/16       268\n",
       "11/15       267\n",
       "13/16       265\n",
       "10/10       264\n",
       "5/13        261\n",
       "12/16       259\n",
       "8/10        258\n",
       "3/16        257\n",
       "2/3         248\n",
       "1/3         245\n",
       "5/10        240\n",
       "6/10        236\n",
       "2/16        227\n",
       "2/10        227\n",
       "           ... \n",
       "106/106       1\n",
       "5/116         1\n",
       "151/363       1\n",
       "47/56         1\n",
       "102/146       1\n",
       "56/116        1\n",
       "51/72         1\n",
       "15/55         1\n",
       "18/67         1\n",
       "130/363       1\n",
       "14/102        1\n",
       "142/146       1\n",
       "28/78         1\n",
       "45/70         1\n",
       "17/116        1\n",
       "81/90         1\n",
       "31/55         1\n",
       "35/86         1\n",
       "53/74         1\n",
       "37/46         1\n",
       "20/46         1\n",
       "7/74          1\n",
       "25/67         1\n",
       "16/65         1\n",
       "2/74          1\n",
       "13/45         1\n",
       "32/50         1\n",
       "60/82         1\n",
       "50/183        1\n",
       "17/102        1\n",
       "Name: EXON, Length: 3265, dtype: int64"
      ]
     },
     "execution_count": 108,
     "metadata": {},
     "output_type": "execute_result"
    }
   ],
   "source": [
    "df['EXON'].value_counts(dropna=False)"
   ]
  },
  {
   "cell_type": "markdown",
   "metadata": {},
   "source": [
    "Should split this into two columns"
   ]
  },
  {
   "cell_type": "code",
   "execution_count": 109,
   "metadata": {
    "scrolled": true
   },
   "outputs": [
    {
     "data": {
      "text/plain": [
       "NaN        56385\n",
       "47/362        93\n",
       "2/9           68\n",
       "3/9           65\n",
       "5/9           54\n",
       "4/9           54\n",
       "5/15          53\n",
       "8/9           51\n",
       "9/9           51\n",
       "7/9           48\n",
       "10/15         47\n",
       "6/10          46\n",
       "4/15          46\n",
       "1/15          45\n",
       "3/8           44\n",
       "2/15          43\n",
       "6/9           42\n",
       "3/10          40\n",
       "12/15         40\n",
       "11/15         40\n",
       "6/15          40\n",
       "14/15         39\n",
       "4/10          37\n",
       "10/10         37\n",
       "7/15          37\n",
       "9/15          37\n",
       "8/8           36\n",
       "2/2           35\n",
       "1/2           34\n",
       "7/8           34\n",
       "           ...  \n",
       "37/78          1\n",
       "82/105         1\n",
       "110/145        1\n",
       "1/77           1\n",
       "1/49           1\n",
       "150/182        1\n",
       "49/64          1\n",
       "20/37          1\n",
       "31/56          1\n",
       "27/28          1\n",
       "18/92          1\n",
       "20/50          1\n",
       "27/61          1\n",
       "33/89          1\n",
       "14/50          1\n",
       "84/145         1\n",
       "19/89          1\n",
       "51/78          1\n",
       "242/362        1\n",
       "5/58           1\n",
       "4/41           1\n",
       "48/362         1\n",
       "6/49           1\n",
       "16/81          1\n",
       "26/182         1\n",
       "10/54          1\n",
       "110/362        1\n",
       "87/362         1\n",
       "20/77          1\n",
       "39/73          1\n",
       "Name: INTRON, Length: 1930, dtype: int64"
      ]
     },
     "execution_count": 109,
     "metadata": {},
     "output_type": "execute_result"
    }
   ],
   "source": [
    "df['INTRON'].value_counts(dropna=False)"
   ]
  },
  {
   "cell_type": "markdown",
   "metadata": {},
   "source": [
    "Should also split this into two columns"
   ]
  },
  {
   "cell_type": "code",
   "execution_count": 62,
   "metadata": {
    "scrolled": true
   },
   "outputs": [
    {
     "data": {
      "text/plain": [
       "852            31\n",
       "878            30\n",
       "789            29\n",
       "1201           29\n",
       "452            29\n",
       "433            29\n",
       "729            29\n",
       "432            28\n",
       "1253           28\n",
       "327            28\n",
       "566            28\n",
       "799            28\n",
       "1049           27\n",
       "1044           27\n",
       "560            27\n",
       "907            27\n",
       "576            27\n",
       "640            27\n",
       "988            27\n",
       "980            26\n",
       "401            26\n",
       "445            26\n",
       "891            26\n",
       "598            26\n",
       "955            26\n",
       "728            26\n",
       "362            26\n",
       "1491           26\n",
       "610            26\n",
       "525            26\n",
       "               ..\n",
       "7295            1\n",
       "14859           1\n",
       "68185           1\n",
       "84601           1\n",
       "77941           1\n",
       "11071           1\n",
       "8964            1\n",
       "8677            1\n",
       "5372            1\n",
       "10950           1\n",
       "95373           1\n",
       "14115           1\n",
       "44061           1\n",
       "67123           1\n",
       "72165           1\n",
       "58861           1\n",
       "3679-3680       1\n",
       "8807            1\n",
       "91557           1\n",
       "12621-12622     1\n",
       "53078           1\n",
       "31082           1\n",
       "106863          1\n",
       "89933           1\n",
       "6482            1\n",
       "23449           1\n",
       "6724            1\n",
       "32885           1\n",
       "6752            1\n",
       "?-7902          1\n",
       "Name: cDNA_position, Length: 13970, dtype: int64"
      ]
     },
     "execution_count": 62,
     "metadata": {},
     "output_type": "execute_result"
    }
   ],
   "source": [
    "df['cDNA_position'].value_counts()"
   ]
  },
  {
   "cell_type": "markdown",
   "metadata": {},
   "source": [
    "Should likely convert to numeric"
   ]
  },
  {
   "cell_type": "code",
   "execution_count": 63,
   "metadata": {
    "scrolled": true
   },
   "outputs": [
    {
     "data": {
      "text/plain": [
       "1                36\n",
       "696              35\n",
       "465              32\n",
       "379              32\n",
       "402              31\n",
       "207              30\n",
       "507              30\n",
       "769              30\n",
       "606              30\n",
       "3                30\n",
       "456              30\n",
       "27               30\n",
       "132              29\n",
       "267              29\n",
       "246              29\n",
       "2                29\n",
       "147              29\n",
       "79               29\n",
       "510              29\n",
       "726              29\n",
       "189              29\n",
       "366              28\n",
       "567              28\n",
       "459              28\n",
       "84               28\n",
       "474              28\n",
       "170              28\n",
       "34               28\n",
       "831              28\n",
       "876              28\n",
       "                 ..\n",
       "187-189           1\n",
       "10371             1\n",
       "9770              1\n",
       "3547              1\n",
       "10786             1\n",
       "12064             1\n",
       "4662              1\n",
       "15202             1\n",
       "3845-3846         1\n",
       "1640-1652         1\n",
       "3180-3184         1\n",
       "5781-5782         1\n",
       "102798-102800     1\n",
       "39056             1\n",
       "21779             1\n",
       "3806-3807         1\n",
       "10789             1\n",
       "30231             1\n",
       "44281             1\n",
       "9674              1\n",
       "7727              1\n",
       "81-86             1\n",
       "19745             1\n",
       "3261-3262         1\n",
       "5394              1\n",
       "13037             1\n",
       "1442-1443         1\n",
       "1024-1027         1\n",
       "2273-2274         1\n",
       "96501             1\n",
       "Name: CDS_position, Length: 13663, dtype: int64"
      ]
     },
     "execution_count": 63,
     "metadata": {},
     "output_type": "execute_result"
    }
   ],
   "source": [
    "df['CDS_position'].value_counts()"
   ]
  },
  {
   "cell_type": "markdown",
   "metadata": {},
   "source": [
    "Should also likely convert this to numeric"
   ]
  },
  {
   "cell_type": "code",
   "execution_count": 64,
   "metadata": {
    "scrolled": true
   },
   "outputs": [
    {
     "data": {
      "text/plain": [
       "CHROM                    24\n",
       "POS                   63115\n",
       "REF                     866\n",
       "ALT                     458\n",
       "AF_ESP                 2842\n",
       "AF_EXAC                6667\n",
       "AF_TGP                 2087\n",
       "CLNDISDB               9234\n",
       "CLNDISDBINCL             48\n",
       "CLNDN                  9260\n",
       "CLNDNINCL                54\n",
       "CLNHGVS               65188\n",
       "CLNSIGINCL               68\n",
       "CLNVC                     7\n",
       "CLNVI                 26289\n",
       "MC                       89\n",
       "ORIGIN                   27\n",
       "SSR                       2\n",
       "CLASS                     2\n",
       "Allele                  374\n",
       "Consequence              48\n",
       "IMPACT                    4\n",
       "SYMBOL                 2328\n",
       "Feature_type              2\n",
       "Feature                2369\n",
       "BIOTYPE                   2\n",
       "EXON                   3264\n",
       "INTRON                 1929\n",
       "cDNA_position         13970\n",
       "CDS_position          13663\n",
       "Protein_position       7339\n",
       "Amino_acids            1262\n",
       "Codons                 2220\n",
       "DISTANCE                 96\n",
       "STRAND                    2\n",
       "BAM_EDIT                  2\n",
       "SIFT                      4\n",
       "PolyPhen                  4\n",
       "MOTIF_NAME                2\n",
       "MOTIF_POS                 1\n",
       "HIGH_INF_POS              1\n",
       "MOTIF_SCORE_CHANGE        2\n",
       "LoFtool                1195\n",
       "CADD_PHRED             9324\n",
       "CADD_RAW              63803\n",
       "BLOSUM62                  6\n",
       "dtype: int64"
      ]
     },
     "execution_count": 64,
     "metadata": {},
     "output_type": "execute_result"
    }
   ],
   "source": [
    "df.nunique()"
   ]
  },
  {
   "cell_type": "code",
   "execution_count": 65,
   "metadata": {
    "scrolled": true
   },
   "outputs": [
    {
     "data": {
      "text/plain": [
       "1              100\n",
       "27              80\n",
       "127             78\n",
       "69              75\n",
       "12              74\n",
       "158             73\n",
       "11              72\n",
       "196             71\n",
       "38              71\n",
       "155             71\n",
       "57              71\n",
       "90              71\n",
       "2               70\n",
       "339             70\n",
       "242             69\n",
       "78              69\n",
       "232             69\n",
       "50              69\n",
       "34              69\n",
       "15              69\n",
       "216             69\n",
       "9               69\n",
       "72              68\n",
       "3               68\n",
       "53              68\n",
       "39              68\n",
       "63              68\n",
       "227             68\n",
       "21              68\n",
       "106             67\n",
       "              ... \n",
       "3112             1\n",
       "7282             1\n",
       "18990            1\n",
       "24111            1\n",
       "3093             1\n",
       "3922             1\n",
       "1231-1232        1\n",
       "3697             1\n",
       "3850             1\n",
       "27585            1\n",
       "2215             1\n",
       "370-371          1\n",
       "4838             1\n",
       "29967-29968      1\n",
       "22197            1\n",
       "27564            1\n",
       "27296            1\n",
       "8965             1\n",
       "516-519          1\n",
       "2311-2314        1\n",
       "5074             1\n",
       "8673             1\n",
       "15963            1\n",
       "1203-1204        1\n",
       "14473            1\n",
       "1256-1257        1\n",
       "17671            1\n",
       "34454            1\n",
       "4197             1\n",
       "4518             1\n",
       "Name: Protein_position, Length: 7339, dtype: int64"
      ]
     },
     "execution_count": 65,
     "metadata": {},
     "output_type": "execute_result"
    }
   ],
   "source": [
    "df['Protein_position'].value_counts()"
   ]
  },
  {
   "cell_type": "markdown",
   "metadata": {},
   "source": [
    "Same here"
   ]
  },
  {
   "cell_type": "code",
   "execution_count": 67,
   "metadata": {
    "scrolled": true
   },
   "outputs": [
    {
     "data": {
      "text/plain": [
       "A                                       2005\n",
       "L                                       2003\n",
       "P                                       1858\n",
       "S                                       1710\n",
       "T                                       1677\n",
       "R/Q                                     1421\n",
       "R/H                                     1350\n",
       "G                                       1121\n",
       "R/C                                     1118\n",
       "A/T                                     1042\n",
       "D                                        994\n",
       "R                                        933\n",
       "P/L                                      922\n",
       "E/K                                      893\n",
       "V                                        891\n",
       "A/V                                      870\n",
       "R/W                                      864\n",
       "V/I                                      859\n",
       "N                                        750\n",
       "I/V                                      745\n",
       "R/*                                      743\n",
       "V/M                                      680\n",
       "I                                        679\n",
       "Y                                        676\n",
       "E                                        669\n",
       "N/S                                      641\n",
       "D/N                                      630\n",
       "G/R                                      629\n",
       "T/M                                      590\n",
       "P/S                                      566\n",
       "                                        ... \n",
       "A/AQQ                                      1\n",
       "PPVPPRGP/PX                                1\n",
       "P/SSSX                                     1\n",
       "DA/EEX                                     1\n",
       "LFIRA/X                                    1\n",
       "P/PAP                                      1\n",
       "SI/I                                       1\n",
       "VF/VX                                      1\n",
       "-/KA                                       1\n",
       "AVKSL/A                                    1\n",
       "TLCVAIVH/X                                 1\n",
       "II/I                                       1\n",
       "Y/YLLPDFLSEHSKV*VRLLKCN*PSIF*GV**A*N       1\n",
       "H/HG                                       1\n",
       "H/E                                        1\n",
       "-/AHPNLX                                   1\n",
       "YLS/Y                                      1\n",
       "PL/QX                                      1\n",
       "D/GX                                       1\n",
       "P/LQP                                      1\n",
       "GGGGG/G                                    1\n",
       "PATLTRP/X                                  1\n",
       "ELPKVSEMKLPKVPEMAVPEVRLPEV/-               1\n",
       "CS/S                                       1\n",
       "VE/X                                       1\n",
       "QQ/QX                                      1\n",
       "S/SSSSG                                    1\n",
       "LS/L                                       1\n",
       "IKDCG/-                                    1\n",
       "PAAASSLGN/X                                1\n",
       "Name: Amino_acids, Length: 1262, dtype: int64"
      ]
     },
     "execution_count": 67,
     "metadata": {},
     "output_type": "execute_result"
    }
   ],
   "source": [
    "df['Amino_acids'].value_counts()"
   ]
  },
  {
   "cell_type": "code",
   "execution_count": 68,
   "metadata": {
    "scrolled": true
   },
   "outputs": [
    {
     "data": {
      "text/plain": [
       "cGg/cAg                                      915\n",
       "Cgg/Tgg                                      852\n",
       "cGc/cAc                                      769\n",
       "Cga/Tga                                      734\n",
       "Cgc/Tgc                                      730\n",
       "gaC/gaT                                      701\n",
       "gcG/gcA                                      681\n",
       "Gtg/Atg                                      680\n",
       "ccG/ccA                                      643\n",
       "gcC/gcT                                      614\n",
       "acG/acA                                      593\n",
       "aCg/aTg                                      589\n",
       "cGt/cAt                                      581\n",
       "aaC/aaT                                      556\n",
       "Gag/Aag                                      546\n",
       "cGa/cAa                                      502\n",
       "cCg/cTg                                      494\n",
       "ccC/ccT                                      477\n",
       "taC/taT                                      468\n",
       "aAt/aGt                                      456\n",
       "ggC/ggT                                      451\n",
       "atC/atT                                      441\n",
       "gCg/gTg                                      441\n",
       "gaG/gaA                                      427\n",
       "Gtc/Atc                                      425\n",
       "Gcc/Acc                                      405\n",
       "acC/acT                                      399\n",
       "Cgt/Tgt                                      388\n",
       "caC/caT                                      387\n",
       "agC/agT                                      386\n",
       "                                            ... \n",
       "ccTCTGCCAGCC/ccAT                              1\n",
       "TTGTtt/tt                                      1\n",
       "gag/gaAGAg                                     1\n",
       "-/TGTAAGGAAACAGACA                             1\n",
       "tcc/tcTATCc                                    1\n",
       "ccc/ccCGACTGCAAGGACAAATCTGAc                   1\n",
       "ggc/gAAGgc                                     1\n",
       "tTAAAT/t                                       1\n",
       "TCTTGt/t                                       1\n",
       "tcTAaa/tcCTaa                                  1\n",
       "GAGCCCACCTCAGAGCCCGCCCCCAGCCCGACCACCCCG/-      1\n",
       "cCC/c                                          1\n",
       "aAGAgg/agg                                     1\n",
       "GGt/TAt                                        1\n",
       "aaACTTCTa/aaa                                  1\n",
       "ccc/ccGGCCCCc                                  1\n",
       "gag/gGag                                       1\n",
       "aACTCCACTGAGCTCTCAGAg/ag                       1\n",
       "gcTCCGGCc/gcc                                  1\n",
       "cat/caAAGTATCCATTGGGACAt                       1\n",
       "aGAGga/aga                                     1\n",
       "gta/gGta                                       1\n",
       "gtt/gGtt                                       1\n",
       "tcTTtt/tctt                                    1\n",
       "ACa/GGa                                        1\n",
       "GTG/-                                          1\n",
       "ttg/ttGg                                       1\n",
       "atA/at                                         1\n",
       "aaCAGT/aa                                      1\n",
       "AGAAga/ga                                      1\n",
       "Name: Codons, Length: 2220, dtype: int64"
      ]
     },
     "execution_count": 68,
     "metadata": {},
     "output_type": "execute_result"
    }
   ],
   "source": [
    "df['Codons'].value_counts()"
   ]
  },
  {
   "cell_type": "code",
   "execution_count": 71,
   "metadata": {},
   "outputs": [
    {
     "data": {
      "text/plain": [
       "<matplotlib.axes._subplots.AxesSubplot at 0x7f64cec510b8>"
      ]
     },
     "execution_count": 71,
     "metadata": {},
     "output_type": "execute_result"
    },
    {
     "data": {
      "image/png": "[encoded data removed]",
      "text/plain": [
       "<Figure size 432x288 with 1 Axes>"
      ]
     },
     "metadata": {
      "needs_background": "light"
     },
     "output_type": "display_data"
    }
   ],
   "source": [
    "sns.distplot(df['DISTANCE'].dropna())"
   ]
  },
  {
   "cell_type": "code",
   "execution_count": 72,
   "metadata": {
    "scrolled": true
   },
   "outputs": [
    {
     "data": {
      "text/plain": [
       "CHROM                    24\n",
       "POS                   63115\n",
       "REF                     866\n",
       "ALT                     458\n",
       "AF_ESP                 2842\n",
       "AF_EXAC                6667\n",
       "AF_TGP                 2087\n",
       "CLNDISDB               9234\n",
       "CLNDISDBINCL             48\n",
       "CLNDN                  9260\n",
       "CLNDNINCL                54\n",
       "CLNHGVS               65188\n",
       "CLNSIGINCL               68\n",
       "CLNVC                     7\n",
       "CLNVI                 26289\n",
       "MC                       89\n",
       "ORIGIN                   27\n",
       "SSR                       2\n",
       "CLASS                     2\n",
       "Allele                  374\n",
       "Consequence              48\n",
       "IMPACT                    4\n",
       "SYMBOL                 2328\n",
       "Feature_type              2\n",
       "Feature                2369\n",
       "BIOTYPE                   2\n",
       "EXON                   3264\n",
       "INTRON                 1929\n",
       "cDNA_position         13970\n",
       "CDS_position          13663\n",
       "Protein_position       7339\n",
       "Amino_acids            1262\n",
       "Codons                 2220\n",
       "DISTANCE                 96\n",
       "STRAND                    2\n",
       "BAM_EDIT                  2\n",
       "SIFT                      4\n",
       "PolyPhen                  4\n",
       "MOTIF_NAME                2\n",
       "MOTIF_POS                 1\n",
       "HIGH_INF_POS              1\n",
       "MOTIF_SCORE_CHANGE        2\n",
       "LoFtool                1195\n",
       "CADD_PHRED             9324\n",
       "CADD_RAW              63803\n",
       "BLOSUM62                  6\n",
       "dtype: int64"
      ]
     },
     "execution_count": 72,
     "metadata": {},
     "output_type": "execute_result"
    }
   ],
   "source": [
    "df.nunique()"
   ]
  },
  {
   "cell_type": "code",
   "execution_count": 75,
   "metadata": {
    "scrolled": true
   },
   "outputs": [
    {
     "name": "stdout",
     "output_type": "stream",
     "text": [
      "<class 'pandas.core.frame.DataFrame'>\n",
      "RangeIndex: 65188 entries, 0 to 65187\n",
      "Data columns (total 46 columns):\n",
      "CHROM                 65188 non-null object\n",
      "POS                   65188 non-null int64\n",
      "REF                   65188 non-null object\n",
      "ALT                   65188 non-null object\n",
      "AF_ESP                65188 non-null float64\n",
      "AF_EXAC               65188 non-null float64\n",
      "AF_TGP                65188 non-null float64\n",
      "CLNDISDB              65188 non-null object\n",
      "CLNDISDBINCL          76 non-null object\n",
      "CLNDN                 65188 non-null object\n",
      "CLNDNINCL             76 non-null object\n",
      "CLNHGVS               65188 non-null object\n",
      "CLNSIGINCL            76 non-null object\n",
      "CLNVC                 65188 non-null object\n",
      "CLNVI                 27659 non-null object\n",
      "MC                    58219 non-null object\n",
      "ORIGIN                59065 non-null float64\n",
      "SSR                   104 non-null float64\n",
      "CLASS                 65188 non-null int64\n",
      "Allele                65188 non-null object\n",
      "Consequence           65188 non-null object\n",
      "IMPACT                65188 non-null object\n",
      "SYMBOL                65172 non-null object\n",
      "Feature_type          65174 non-null object\n",
      "Feature               65174 non-null object\n",
      "BIOTYPE               65172 non-null object\n",
      "EXON                  56295 non-null object\n",
      "INTRON                8803 non-null object\n",
      "cDNA_position         56304 non-null object\n",
      "CDS_position          55233 non-null object\n",
      "Protein_position      55233 non-null object\n",
      "Amino_acids           55184 non-null object\n",
      "Codons                55184 non-null object\n",
      "DISTANCE              108 non-null float64\n",
      "STRAND                65174 non-null float64\n",
      "BAM_EDIT              31969 non-null object\n",
      "SIFT                  24836 non-null object\n",
      "PolyPhen              24796 non-null object\n",
      "MOTIF_NAME            2 non-null object\n",
      "MOTIF_POS             2 non-null float64\n",
      "HIGH_INF_POS          2 non-null object\n",
      "MOTIF_SCORE_CHANGE    2 non-null float64\n",
      "LoFtool               60975 non-null float64\n",
      "CADD_PHRED            64096 non-null float64\n",
      "CADD_RAW              64096 non-null float64\n",
      "BLOSUM62              25593 non-null float64\n",
      "dtypes: float64(13), int64(2), object(31)\n",
      "memory usage: 22.9+ MB\n"
     ]
    }
   ],
   "source": [
    "df.info()"
   ]
  },
  {
   "cell_type": "code",
   "execution_count": 76,
   "metadata": {},
   "outputs": [
    {
     "data": {
      "text/plain": [
       "<matplotlib.axes._subplots.AxesSubplot at 0x7f64cec30940>"
      ]
     },
     "execution_count": 76,
     "metadata": {},
     "output_type": "execute_result"
    },
    {
     "data": {
      "image/png": "[encoded data removed]",
      "text/plain": [
       "<Figure size 432x288 with 1 Axes>"
      ]
     },
     "metadata": {
      "needs_background": "light"
     },
     "output_type": "display_data"
    }
   ],
   "source": [
    "df['STRAND'].value_counts(dropna=False).plot.bar()"
   ]
  },
  {
   "cell_type": "code",
   "execution_count": 78,
   "metadata": {},
   "outputs": [
    {
     "data": {
      "text/plain": [
       "<matplotlib.axes._subplots.AxesSubplot at 0x7f64cd58c668>"
      ]
     },
     "execution_count": 78,
     "metadata": {},
     "output_type": "execute_result"
    },
    {
     "data": {
      "image/png": "[encoded data removed]",
      "text/plain": [
       "<Figure size 432x288 with 1 Axes>"
      ]
     },
     "metadata": {
      "needs_background": "light"
     },
     "output_type": "display_data"
    }
   ],
   "source": [
    "df['BAM_EDIT'].value_counts(dropna=False).plot.bar()"
   ]
  },
  {
   "cell_type": "code",
   "execution_count": 79,
   "metadata": {},
   "outputs": [
    {
     "data": {
      "text/plain": [
       "<matplotlib.axes._subplots.AxesSubplot at 0x7f64cebe2908>"
      ]
     },
     "execution_count": 79,
     "metadata": {},
     "output_type": "execute_result"
    },
    {
     "data": {
      "image/png": "[encoded data removed]",
      "text/plain": [
       "<Figure size 432x288 with 1 Axes>"
      ]
     },
     "metadata": {
      "needs_background": "light"
     },
     "output_type": "display_data"
    }
   ],
   "source": [
    "df['SIFT'].value_counts(dropna=False).plot.bar()"
   ]
  },
  {
   "cell_type": "code",
   "execution_count": 80,
   "metadata": {},
   "outputs": [
    {
     "data": {
      "text/plain": [
       "<matplotlib.axes._subplots.AxesSubplot at 0x7f64cebc7a20>"
      ]
     },
     "execution_count": 80,
     "metadata": {},
     "output_type": "execute_result"
    },
    {
     "data": {
      "image/png": "[encoded data removed]",
      "text/plain": [
       "<Figure size 432x288 with 1 Axes>"
      ]
     },
     "metadata": {
      "needs_background": "light"
     },
     "output_type": "display_data"
    }
   ],
   "source": [
    "df['PolyPhen'].value_counts(dropna=False).plot.bar()"
   ]
  },
  {
   "cell_type": "code",
   "execution_count": 82,
   "metadata": {},
   "outputs": [
    {
     "data": {
      "text/plain": [
       "<matplotlib.axes._subplots.AxesSubplot at 0x7f64ceb32c88>"
      ]
     },
     "execution_count": 82,
     "metadata": {},
     "output_type": "execute_result"
    },
    {
     "data": {
      "image/png": "[encoded data removed]",
      "text/plain": [
       "<Figure size 432x288 with 1 Axes>"
      ]
     },
     "metadata": {
      "needs_background": "light"
     },
     "output_type": "display_data"
    }
   ],
   "source": [
    "sns.distplot(df['LoFtool'].dropna())"
   ]
  },
  {
   "cell_type": "code",
   "execution_count": 83,
   "metadata": {},
   "outputs": [
    {
     "data": {
      "text/plain": [
       "<matplotlib.axes._subplots.AxesSubplot at 0x7f64cebbee10>"
      ]
     },
     "execution_count": 83,
     "metadata": {},
     "output_type": "execute_result"
    },
    {
     "data": {
      "image/png": "[encoded data removed]",
      "text/plain": [
       "<Figure size 432x288 with 1 Axes>"
      ]
     },
     "metadata": {
      "needs_background": "light"
     },
     "output_type": "display_data"
    }
   ],
   "source": [
    "sns.distplot(df['CADD_PHRED'].dropna())"
   ]
  },
  {
   "cell_type": "code",
   "execution_count": 84,
   "metadata": {},
   "outputs": [
    {
     "data": {
      "text/plain": [
       "<matplotlib.axes._subplots.AxesSubplot at 0x7f64ce9dda20>"
      ]
     },
     "execution_count": 84,
     "metadata": {},
     "output_type": "execute_result"
    },
    {
     "data": {
      "image/png": "[encoded data removed]",
      "text/plain": [
       "<Figure size 432x288 with 1 Axes>"
      ]
     },
     "metadata": {
      "needs_background": "light"
     },
     "output_type": "display_data"
    }
   ],
   "source": [
    "sns.distplot(df['CADD_RAW'].dropna())"
   ]
  },
  {
   "cell_type": "code",
   "execution_count": 87,
   "metadata": {},
   "outputs": [
    {
     "data": {
      "text/plain": [
       "<matplotlib.axes._subplots.AxesSubplot at 0x7f64ce828eb8>"
      ]
     },
     "execution_count": 87,
     "metadata": {},
     "output_type": "execute_result"
    },
    {
     "data": {
      "image/png": "[encoded data removed]",
      "text/plain": [
       "<Figure size 432x288 with 1 Axes>"
      ]
     },
     "metadata": {
      "needs_background": "light"
     },
     "output_type": "display_data"
    }
   ],
   "source": [
    "df['BLOSUM62'].value_counts(dropna=False).plot.bar()"
   ]
  },
  {
   "cell_type": "code",
   "execution_count": 88,
   "metadata": {
    "scrolled": true
   },
   "outputs": [
    {
     "name": "stdout",
     "output_type": "stream",
     "text": [
      "<class 'pandas.core.frame.DataFrame'>\n",
      "RangeIndex: 65188 entries, 0 to 65187\n",
      "Data columns (total 46 columns):\n",
      "CHROM                 65188 non-null object\n",
      "POS                   65188 non-null int64\n",
      "REF                   65188 non-null object\n",
      "ALT                   65188 non-null object\n",
      "AF_ESP                65188 non-null float64\n",
      "AF_EXAC               65188 non-null float64\n",
      "AF_TGP                65188 non-null float64\n",
      "CLNDISDB              65188 non-null object\n",
      "CLNDISDBINCL          76 non-null object\n",
      "CLNDN                 65188 non-null object\n",
      "CLNDNINCL             76 non-null object\n",
      "CLNHGVS               65188 non-null object\n",
      "CLNSIGINCL            76 non-null object\n",
      "CLNVC                 65188 non-null object\n",
      "CLNVI                 27659 non-null object\n",
      "MC                    58219 non-null object\n",
      "ORIGIN                59065 non-null float64\n",
      "SSR                   104 non-null float64\n",
      "CLASS                 65188 non-null int64\n",
      "Allele                65188 non-null object\n",
      "Consequence           65188 non-null object\n",
      "IMPACT                65188 non-null object\n",
      "SYMBOL                65172 non-null object\n",
      "Feature_type          65174 non-null object\n",
      "Feature               65174 non-null object\n",
      "BIOTYPE               65172 non-null object\n",
      "EXON                  56295 non-null object\n",
      "INTRON                8803 non-null object\n",
      "cDNA_position         56304 non-null object\n",
      "CDS_position          55233 non-null object\n",
      "Protein_position      55233 non-null object\n",
      "Amino_acids           55184 non-null object\n",
      "Codons                55184 non-null object\n",
      "DISTANCE              108 non-null float64\n",
      "STRAND                65174 non-null float64\n",
      "BAM_EDIT              31969 non-null object\n",
      "SIFT                  24836 non-null object\n",
      "PolyPhen              24796 non-null object\n",
      "MOTIF_NAME            2 non-null object\n",
      "MOTIF_POS             2 non-null float64\n",
      "HIGH_INF_POS          2 non-null object\n",
      "MOTIF_SCORE_CHANGE    2 non-null float64\n",
      "LoFtool               60975 non-null float64\n",
      "CADD_PHRED            64096 non-null float64\n",
      "CADD_RAW              64096 non-null float64\n",
      "BLOSUM62              25593 non-null float64\n",
      "dtypes: float64(13), int64(2), object(31)\n",
      "memory usage: 22.9+ MB\n"
     ]
    }
   ],
   "source": [
    "df.info()"
   ]
  },
  {
   "cell_type": "code",
   "execution_count": 89,
   "metadata": {
    "scrolled": true
   },
   "outputs": [
    {
     "data": {
      "text/plain": [
       "CHROM                    24\n",
       "POS                   63115\n",
       "REF                     866\n",
       "ALT                     458\n",
       "AF_ESP                 2842\n",
       "AF_EXAC                6667\n",
       "AF_TGP                 2087\n",
       "CLNDISDB               9234\n",
       "CLNDISDBINCL             48\n",
       "CLNDN                  9260\n",
       "CLNDNINCL                54\n",
       "CLNHGVS               65188\n",
       "CLNSIGINCL               68\n",
       "CLNVC                     7\n",
       "CLNVI                 26289\n",
       "MC                       89\n",
       "ORIGIN                   27\n",
       "SSR                       2\n",
       "CLASS                     2\n",
       "Allele                  374\n",
       "Consequence              48\n",
       "IMPACT                    4\n",
       "SYMBOL                 2328\n",
       "Feature_type              2\n",
       "Feature                2369\n",
       "BIOTYPE                   2\n",
       "EXON                   3264\n",
       "INTRON                 1929\n",
       "cDNA_position         13970\n",
       "CDS_position          13663\n",
       "Protein_position       7339\n",
       "Amino_acids            1262\n",
       "Codons                 2220\n",
       "DISTANCE                 96\n",
       "STRAND                    2\n",
       "BAM_EDIT                  2\n",
       "SIFT                      4\n",
       "PolyPhen                  4\n",
       "MOTIF_NAME                2\n",
       "MOTIF_POS                 1\n",
       "HIGH_INF_POS              1\n",
       "MOTIF_SCORE_CHANGE        2\n",
       "LoFtool                1195\n",
       "CADD_PHRED             9324\n",
       "CADD_RAW              63803\n",
       "BLOSUM62                  6\n",
       "dtype: int64"
      ]
     },
     "execution_count": 89,
     "metadata": {},
     "output_type": "execute_result"
    }
   ],
   "source": [
    "df.nunique()"
   ]
  },
  {
   "cell_type": "markdown",
   "metadata": {},
   "source": [
    "### Data cleaning\n",
    "#### TODO:\n",
    "\n",
    "CHROM - num or categ?  \n",
    "REF,ALT - is length sufficient? How about allele content (number of A, T, C, G)?  \n",
    "CLNDN - not_specified was the default - should we do more than that?  \n",
    "drop most of the CLN features  \n",
    "CLNVI - just keep lab name to pare down categories  \n",
    "MC vs Consequence - probably just keep Consequence  \n",
    "ORIGIN - could be near-zero, further investigation  \n",
    "SSR - should drop  \n",
    "Allele - carries different information, should keep, treat as REF, ALT  \n",
    "Feature_type - drop  \n",
    "Feature - same as SYMBOL, drop  \n",
    "BIOTYPE - drop  \n",
    "EXON, INTRON - class as is_exon, is_intron, split numbers into 2 columns  \n",
    "positions - start, stop  \n",
    "DISTANCE - drop  \n",
    "MOTIF_* - drop  \n",
    "SYMBOL, Amino_acid, Codons - not sure yet. These have a lot of categories, but many of the categories are not very small. Try feature hashing. Can also try clustering according to class.  \n",
    "\n",
    "Actually, let's try not dropping near-zero variables. Just leave them in and they will be automatically eliminated if needs be."
   ]
  },
  {
   "cell_type": "code",
   "execution_count": 115,
   "metadata": {},
   "outputs": [
    {
     "data": {
      "text/plain": [
       "1.0     95\n",
       "16.0     9\n",
       "Name: SSR, dtype: int64"
      ]
     },
     "execution_count": 115,
     "metadata": {},
     "output_type": "execute_result"
    }
   ],
   "source": [
    "df['SSR'].value_counts()"
   ]
  },
  {
   "cell_type": "code",
   "execution_count": null,
   "metadata": {},
   "outputs": [],
   "source": []
  }
 ],
 "metadata": {
  "kernelspec": {
   "display_name": "Python 3",
   "language": "python",
   "name": "python3"
  },
  "language_info": {
   "codemirror_mode": {
    "name": "ipython",
    "version": 3
   },
   "file_extension": ".py",
   "mimetype": "text/x-python",
   "name": "python",
   "nbconvert_exporter": "python",
   "pygments_lexer": "ipython3",
   "version": "3.6.6"
  }
 },
 "nbformat": 4,
 "nbformat_minor": 2
}
