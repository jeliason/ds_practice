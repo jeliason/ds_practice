{
 "cells": [
  {
   "cell_type": "code",
   "execution_count": 1,
   "metadata": {},
   "outputs": [],
   "source": [
    "import numpy as np\n",
    "import pandas as pd\n",
    "import matplotlib.pyplot as plt\n",
    "import seaborn as sns\n",
    "import neo\n",
    "import elephant as el\n",
    "import elephant.conversion as conv\n",
    "from quantities import Hz, s, ms\n",
    "%matplotlib inline"
   ]
  },
  {
   "cell_type": "code",
   "execution_count": 2,
   "metadata": {},
   "outputs": [],
   "source": [
    "Fs = 30000."
   ]
  },
  {
   "cell_type": "code",
   "execution_count": 3,
   "metadata": {},
   "outputs": [],
   "source": [
    "clu_f = np.load('./frontal/spike_clusters.npy')"
   ]
  },
  {
   "cell_type": "code",
   "execution_count": 4,
   "metadata": {},
   "outputs": [],
   "source": [
    "ss_f = np.load('./frontal/spike_times.npy')"
   ]
  },
  {
   "cell_type": "code",
   "execution_count": 6,
   "metadata": {},
   "outputs": [],
   "source": [
    "st_f = ss_f/Fs"
   ]
  },
  {
   "cell_type": "code",
   "execution_count": 7,
   "metadata": {},
   "outputs": [],
   "source": [
    "spkTemps_f = np.load('./frontal/spike_templates.npy')"
   ]
  },
  {
   "cell_type": "code",
   "execution_count": 8,
   "metadata": {},
   "outputs": [],
   "source": [
    "amps_f = np.load('./frontal/amplitudes.npy')"
   ]
  },
  {
   "cell_type": "code",
   "execution_count": 9,
   "metadata": {},
   "outputs": [
    {
     "data": {
      "text/plain": [
       "array([[ 18.51144409],\n",
       "       [ 12.93832397],\n",
       "       [ 47.23517227],\n",
       "       ..., \n",
       "       [ 23.7265625 ],\n",
       "       [ 31.41118622],\n",
       "       [ 18.56385803]])"
      ]
     },
     "execution_count": 9,
     "metadata": {},
     "output_type": "execute_result"
    }
   ],
   "source": [
    "amps_f"
   ]
  },
  {
   "cell_type": "code",
   "execution_count": 10,
   "metadata": {},
   "outputs": [
    {
     "data": {
      "text/plain": [
       "(7270137, 1)"
      ]
     },
     "execution_count": 10,
     "metadata": {},
     "output_type": "execute_result"
    }
   ],
   "source": [
    "np.shape(amps_f)"
   ]
  },
  {
   "cell_type": "code",
   "execution_count": 11,
   "metadata": {},
   "outputs": [
    {
     "data": {
      "text/plain": [
       "(7270137, 1)"
      ]
     },
     "execution_count": 11,
     "metadata": {},
     "output_type": "execute_result"
    }
   ],
   "source": [
    "np.shape(st_f)"
   ]
  },
  {
   "cell_type": "code",
   "execution_count": 12,
   "metadata": {},
   "outputs": [
    {
     "data": {
      "text/plain": [
       "(7270137,)"
      ]
     },
     "execution_count": 12,
     "metadata": {},
     "output_type": "execute_result"
    }
   ],
   "source": [
    "np.shape(clu_f)"
   ]
  },
  {
   "cell_type": "code",
   "execution_count": 13,
   "metadata": {},
   "outputs": [],
   "source": [
    "cid_g_f = pd.read_csv('./frontal/cluster_groups.csv',sep='\\t')"
   ]
  },
  {
   "cell_type": "code",
   "execution_count": 14,
   "metadata": {},
   "outputs": [],
   "source": [
    "noise=cid_g_f[cid_g_f['group']=='noise']"
   ]
  },
  {
   "cell_type": "code",
   "execution_count": 15,
   "metadata": {},
   "outputs": [],
   "source": [
    "clu_f=pd.DataFrame(clu_f)\n",
    "clu_f.columns = ['clusters']\n",
    "st_f_clean=st_f[~clu_f.isin(noise['cluster_id'].tolist())]"
   ]
  },
  {
   "cell_type": "code",
   "execution_count": 16,
   "metadata": {},
   "outputs": [
    {
     "data": {
      "text/plain": [
       "(6934709,)"
      ]
     },
     "execution_count": 16,
     "metadata": {},
     "output_type": "execute_result"
    }
   ],
   "source": [
    "np.shape(st_f_clean)"
   ]
  },
  {
   "cell_type": "code",
   "execution_count": 17,
   "metadata": {},
   "outputs": [],
   "source": [
    "st_f_clean=pd.DataFrame(st_f_clean)\n",
    "st_f_clean.columns = ['spike times']"
   ]
  },
  {
   "cell_type": "code",
   "execution_count": 18,
   "metadata": {},
   "outputs": [
    {
     "data": {
      "text/plain": [
       "clusters    0\n",
       "dtype: int64"
      ]
     },
     "execution_count": 18,
     "metadata": {},
     "output_type": "execute_result"
    }
   ],
   "source": [
    "noise_clu=~clu_f.isin(noise['cluster_id'].tolist())\n",
    "clu_f_clean=clu_f[noise_clu]\n",
    "clu_f_clean=pd.DataFrame(clu_f_clean)\n",
    "clu_f_clean.columns = ['clusters']\n",
    "clu_f_clean.dropna(inplace=True)\n",
    "clu_f_clean.isnull().sum()"
   ]
  },
  {
   "cell_type": "code",
   "execution_count": 19,
   "metadata": {},
   "outputs": [],
   "source": [
    "clu_f_clean.reset_index(drop=True,inplace=True)"
   ]
  },
  {
   "cell_type": "code",
   "execution_count": 20,
   "metadata": {},
   "outputs": [],
   "source": [
    "df = clu_f_clean\n",
    "df['spike times']=st_f_clean"
   ]
  },
  {
   "cell_type": "code",
   "execution_count": 21,
   "metadata": {},
   "outputs": [
    {
     "data": {
      "text/plain": [
       "(822,)"
      ]
     },
     "execution_count": 21,
     "metadata": {},
     "output_type": "execute_result"
    }
   ],
   "source": [
    "df['clusters'].unique().shape"
   ]
  },
  {
   "cell_type": "code",
   "execution_count": 22,
   "metadata": {},
   "outputs": [],
   "source": [
    "cgs=df['clusters'].unique()"
   ]
  },
  {
   "cell_type": "code",
   "execution_count": 23,
   "metadata": {},
   "outputs": [],
   "source": [
    "spk=[]\n",
    "for unit in cgs:\n",
    "    train=df['spike times'][df.clusters==unit].values\n",
    "    spk.append(train)"
   ]
  },
  {
   "cell_type": "code",
   "execution_count": 24,
   "metadata": {},
   "outputs": [],
   "source": [
    "temp=[]\n",
    "for unit in spk:\n",
    "    train = neo.SpikeTrain(times=unit,units='sec',t_start=0.0,t_stop=5050.0)\n",
    "    temp.append(train)\n",
    "    \n",
    "spk=temp"
   ]
  },
  {
   "cell_type": "markdown",
   "metadata": {},
   "source": [
    "Quick example of a raster plot"
   ]
  },
  {
   "cell_type": "code",
   "execution_count": 25,
   "metadata": {},
   "outputs": [
    {
     "data": {
      "image/png": "[encoded data removed]",
      "text/plain": [
       "<Figure size 432x288 with 1 Axes>"
      ]
     },
     "metadata": {},
     "output_type": "display_data"
    }
   ],
   "source": [
    "for i, spiketrain in enumerate(spk):\n",
    "    t = spiketrain.rescale(ms)\n",
    "    plt.plot(t,i*np.ones_like(t),'k.',markersize=2)\n",
    "plt.axis('tight')\n",
    "plt.xlim(500000,510000)\n",
    "plt.xlabel('Time(ms)',fontsize=16)\n",
    "plt.ylabel('Spike Train Index',fontsize=16)\n",
    "plt.gca().tick_params(axis='both', which='major', labelsize=14)\n",
    "plt.show()"
   ]
  },
  {
   "cell_type": "markdown",
   "metadata": {},
   "source": [
    "Now let's look at mean activity across time (averaging across neurons)"
   ]
  },
  {
   "cell_type": "code",
   "execution_count": 26,
   "metadata": {},
   "outputs": [],
   "source": [
    "binsize=1*s\n",
    "spk_binned = conv.BinnedSpikeTrain(spk,binsize=binsize,t_start=0*s).to_array()"
   ]
  },
  {
   "cell_type": "code",
   "execution_count": 27,
   "metadata": {},
   "outputs": [],
   "source": [
    "mean_spikes = np.mean(spk_binned,0)"
   ]
  },
  {
   "cell_type": "code",
   "execution_count": 28,
   "metadata": {},
   "outputs": [
    {
     "data": {
      "text/plain": [
       "[<matplotlib.lines.Line2D at 0x7f098178cd50>]"
      ]
     },
     "execution_count": 28,
     "metadata": {},
     "output_type": "execute_result"
    },
    {
     "data": {
      "image/png": "[encoded data removed]",
      "text/plain": [
       "<Figure size 432x288 with 1 Axes>"
      ]
     },
     "metadata": {},
     "output_type": "display_data"
    }
   ],
   "source": [
    "plt.plot(mean_spikes)"
   ]
  },
  {
   "cell_type": "markdown",
   "metadata": {},
   "source": [
    "Now let's look at the histogram of number of spikes per neuron"
   ]
  },
  {
   "cell_type": "code",
   "execution_count": 29,
   "metadata": {},
   "outputs": [
    {
     "data": {
      "text/plain": [
       "(822,)"
      ]
     },
     "execution_count": 29,
     "metadata": {},
     "output_type": "execute_result"
    }
   ],
   "source": [
    "total_spk = np.sum(spk_binned,-1)\n",
    "total_spk.shape"
   ]
  },
  {
   "cell_type": "code",
   "execution_count": 30,
   "metadata": {},
   "outputs": [
    {
     "data": {
      "image/png": "[encoded data removed]",
      "text/plain": [
       "<Figure size 432x288 with 1 Axes>"
      ]
     },
     "metadata": {},
     "output_type": "display_data"
    }
   ],
   "source": [
    "_=plt.hist(total_spk,bins=100)"
   ]
  },
  {
   "cell_type": "markdown",
   "metadata": {},
   "source": [
    "Now let's look at the activity of a single neuron"
   ]
  },
  {
   "cell_type": "code",
   "execution_count": 31,
   "metadata": {},
   "outputs": [],
   "source": [
    "neuron_ix = 200\n",
    "neuron = spk_binned[neuron_ix]"
   ]
  },
  {
   "cell_type": "code",
   "execution_count": 32,
   "metadata": {},
   "outputs": [],
   "source": [
    "unique,counts=np.unique(neuron,return_counts=True)"
   ]
  },
  {
   "cell_type": "code",
   "execution_count": 33,
   "metadata": {},
   "outputs": [
    {
     "name": "stdout",
     "output_type": "stream",
     "text": [
      "[0 1 2 3 5]\n",
      "[3715 1101  204   29    1]\n"
     ]
    }
   ],
   "source": [
    "print unique\n",
    "print counts"
   ]
  },
  {
   "cell_type": "code",
   "execution_count": 34,
   "metadata": {},
   "outputs": [
    {
     "data": {
      "text/plain": [
       "<matplotlib.collections.LineCollection at 0x7f09816d5850>"
      ]
     },
     "execution_count": 34,
     "metadata": {},
     "output_type": "execute_result"
    },
    {
     "data": {
      "image/png": "[encoded data removed]",
      "text/plain": [
       "<Figure size 1080x720 with 1 Axes>"
      ]
     },
     "metadata": {},
     "output_type": "display_data"
    }
   ],
   "source": [
    "fig,ax=plt.subplots(figsize=(15,10))\n",
    "ax.vlines(spk[neuron_ix][:50],0,1)"
   ]
  },
  {
   "cell_type": "markdown",
   "metadata": {},
   "source": [
    "Let's load the experimental protocols into Python"
   ]
  },
  {
   "cell_type": "code",
   "execution_count": 57,
   "metadata": {},
   "outputs": [],
   "source": [
    "# special loader function to bring nested structs into Python\n",
    "import scipy.io as spio\n",
    "import numpy as np\n",
    "\n",
    "\n",
    "def loadmat(filename):\n",
    "    '''\n",
    "    this function should be called instead of direct spio.loadmat\n",
    "    as it cures the problem of not properly recovering python dictionaries\n",
    "    from mat files. It calls the function check keys to cure all entries\n",
    "    which are still mat-objects\n",
    "    '''\n",
    "    def _check_keys(d):\n",
    "        '''\n",
    "        checks if entries in dictionary are mat-objects. If yes\n",
    "        todict is called to change them to nested dictionaries\n",
    "        '''\n",
    "        for key in d:\n",
    "            if isinstance(d[key], spio.matlab.mio5_params.mat_struct):\n",
    "                d[key] = _todict(d[key])\n",
    "        return d\n",
    "\n",
    "    def _todict(matobj):\n",
    "        '''\n",
    "        A recursive function which constructs from matobjects nested dictionaries\n",
    "        '''\n",
    "        d = {}\n",
    "        for strg in matobj._fieldnames:\n",
    "            elem = matobj.__dict__[strg]\n",
    "            if isinstance(elem, spio.matlab.mio5_params.mat_struct):\n",
    "                d[strg] = _todict(elem)\n",
    "            elif isinstance(elem, np.ndarray):\n",
    "                d[strg] = _tolist(elem)\n",
    "            else:\n",
    "                d[strg] = elem\n",
    "        return d\n",
    "\n",
    "    def _tolist(ndarray):\n",
    "        '''\n",
    "        A recursive function which constructs lists from cellarrays\n",
    "        (which are loaded as numpy ndarrays), recursing into the elements\n",
    "        if they contain matobjects.\n",
    "        '''\n",
    "        elem_list = []\n",
    "        for sub_elem in ndarray:\n",
    "            if isinstance(sub_elem, spio.matlab.mio5_params.mat_struct):\n",
    "                elem_list.append(_todict(sub_elem))\n",
    "            elif isinstance(sub_elem, np.ndarray):\n",
    "                elem_list.append(_tolist(sub_elem))\n",
    "            else:\n",
    "                elem_list.append(sub_elem)\n",
    "        return elem_list\n",
    "    data = scipy.io.loadmat(filename, struct_as_record=False, squeeze_me=True)\n",
    "    return _check_keys(data)"
   ]
  },
  {
   "cell_type": "code",
   "execution_count": 48,
   "metadata": {},
   "outputs": [],
   "source": [
    "exp1_info=loadmat('experiment1stimInfo.mat')"
   ]
  },
  {
   "cell_type": "code",
   "execution_count": 54,
   "metadata": {},
   "outputs": [
    {
     "data": {
      "text/plain": [
       "['Protocol',\n",
       " 'stimStarts',\n",
       " '__globals__',\n",
       " '__header__',\n",
       " 'stimStops',\n",
       " 'stimIDs',\n",
       " '__version__']"
      ]
     },
     "execution_count": 54,
     "metadata": {},
     "output_type": "execute_result"
    }
   ],
   "source": [
    "exp1_info.keys()"
   ]
  },
  {
   "cell_type": "code",
   "execution_count": 56,
   "metadata": {},
   "outputs": [
    {
     "data": {
      "text/plain": [
       "{'adapt': {'flag': 0},\n",
       " 'animal': u'M160102_NS2LOE',\n",
       " 'iexp': 1,\n",
       " 'iseries': 20160420,\n",
       " 'npars': 16,\n",
       " 'npfilestimuli': 13,\n",
       " 'nrepeats': 10,\n",
       " 'nstim': [],\n",
       " 'pardefs': [u'               Stimulus duration (s *10)',\n",
       "  u'                    Switch Time  (s *10)',\n",
       "  u'             Temporal frequency (Hz *10)',\n",
       "  u'            Spatial frequency (cpd *100)',\n",
       "  u'                     Spatial phase (deg)',\n",
       "  u'                       Orientation (deg)',\n",
       "  u'                     Bar length (deg*10)',\n",
       "  u'                 Cycles number (integer)',\n",
       "  u'              Focus position, x (deg*10)',\n",
       "  u'              Focus position, y (deg*10)',\n",
       "  u'                 Contrast of red gun (%)',\n",
       "  u'               Contrast of green gun (%)',\n",
       "  u'                Contrast of blue gun (%)',\n",
       "  u'           Mean luminance of red gun (%)',\n",
       "  u'         Mean luminance of green gun (%)',\n",
       "  u'          Mean luminance of blue gun (%)'],\n",
       " 'parnames': [u'dur',\n",
       "  u'swT',\n",
       "  u'tf',\n",
       "  u'sf',\n",
       "  u'sph',\n",
       "  u'ori',\n",
       "  u'len',\n",
       "  u'cyN',\n",
       "  u'xfocus',\n",
       "  u'yfocus',\n",
       "  u'cr',\n",
       "  u'cg',\n",
       "  u'cb',\n",
       "  u'lr',\n",
       "  u'lg',\n",
       "  u'lb'],\n",
       " 'pars': [[20, 20, 20, 20, 20, 20, 20, 20, 20, 20, 20, 20, 20],\n",
       "  [20, 20, 20, 20, 20, 20, 20, 20, 20, 20, 20, 20, 20],\n",
       "  [40, 40, 40, 40, 40, 40, 40, 40, 40, 40, 40, 40, 40],\n",
       "  [3, 3, 3, 3, 3, 3, 3, 3, 3, 4, 4, 4, 4],\n",
       "  [0, 0, 0, 0, 0, 0, 0, 0, 0, 0, 0, 0, 0],\n",
       "  [0, 0, 0, 0, 0, 0, 0, 0, 0, 90, 90, 90, 90],\n",
       "  [720, 720, 720, 720, 720, 720, 720, 720, 720, 3000, 3000, 3000, 3000],\n",
       "  [1, 1, 1, 1, 1, 1, 1, 1, 1, 1, 1, 1, 1],\n",
       "  [-1200, -900, -600, -300, 0, 300, 600, 900, 1200, 0, 0, 0, 0],\n",
       "  [0, 0, 0, 0, 0, 0, 0, 0, 0, -250, 0, 250, 250],\n",
       "  [100, 100, 100, 100, 100, 100, 100, 100, 100, 100, 100, 100, 0],\n",
       "  [100, 100, 100, 100, 100, 100, 100, 100, 100, 100, 100, 100, 0],\n",
       "  [100, 100, 100, 100, 100, 100, 100, 100, 100, 100, 100, 100, 0],\n",
       "  [50, 50, 50, 50, 50, 50, 50, 50, 50, 50, 50, 50, 50],\n",
       "  [50, 50, 50, 50, 50, 50, 50, 50, 50, 50, 50, 50, 50],\n",
       "  [50, 50, 50, 50, 50, 50, 50, 50, 50, 50, 50, 50, 50]],\n",
       " 'seqnums': [[7, 17, 37, 40, 61, 78, 87, 93, 107, 130],\n",
       "  [8, 22, 33, 44, 54, 74, 83, 100, 112, 119],\n",
       "  [2, 15, 34, 43, 53, 66, 81, 102, 109, 124],\n",
       "  [9, 16, 30, 51, 58, 67, 90, 104, 113, 121],\n",
       "  [6, 24, 36, 52, 65, 72, 86, 94, 114, 129],\n",
       "  [1, 21, 27, 41, 57, 76, 84, 101, 115, 118],\n",
       "  [4, 26, 31, 46, 60, 71, 91, 98, 110, 125],\n",
       "  [5, 18, 28, 45, 55, 75, 80, 92, 105, 127],\n",
       "  [11, 14, 29, 47, 63, 69, 89, 97, 108, 128],\n",
       "  [12, 23, 38, 49, 56, 77, 88, 95, 117, 120],\n",
       "  [3, 25, 35, 50, 59, 73, 82, 103, 106, 123],\n",
       "  [13, 19, 32, 42, 62, 68, 85, 96, 116, 122],\n",
       "  [10, 20, 39, 48, 64, 70, 79, 99, 111, 126]],\n",
       " 'xfile': u'stimColorBar2_NS.x'}"
      ]
     },
     "execution_count": 56,
     "metadata": {},
     "output_type": "execute_result"
    }
   ],
   "source": [
    "exp1_info['Protocol']"
   ]
  },
  {
   "cell_type": "code",
   "execution_count": 64,
   "metadata": {},
   "outputs": [
    {
     "data": {
      "text/plain": [
       "array([  99.10833333,  101.90833333,  104.92466667,  107.57466667,\n",
       "        110.308     ,  112.958     ,  115.608     ,  118.62433333,\n",
       "        121.491     ,  124.341     ,  126.99066667,  129.97433333,\n",
       "        132.84066667,  135.59066667,  138.40733333,  141.174     ,\n",
       "        143.757     ,  146.44033333,  149.07366667,  151.74033333,\n",
       "        154.44033333,  157.22333333,  159.82333333,  162.82333333,\n",
       "        165.87333333,  168.68966667,  171.48966667,  174.223     ,\n",
       "        177.23966667,  179.98966667,  182.606     ,  185.57266667,\n",
       "        188.33933333,  191.02266667,  193.78933333,  196.40566667,\n",
       "        199.039     ,  202.089     ,  205.12233333,  207.989     ,\n",
       "        210.55533333,  213.25533333,  216.00533333,  218.98866667,\n",
       "        221.572     ,  224.172     ,  226.83833333,  229.73833333,\n",
       "        232.67166667,  235.57166667,  238.37133333,  241.22133333,\n",
       "        243.95466667,  246.87133333,  249.538     ,  252.45433333,\n",
       "        255.121     ,  257.88766667,  260.771     ,  263.73766667,\n",
       "        266.354     ,  269.38733333,  272.32066667,  275.13733333,\n",
       "        277.92033333,  280.72033333,  283.437     ,  286.27033333,\n",
       "        289.10333333,  292.07033333,  295.02      ,  297.88666667,\n",
       "        300.65333333,  303.65333333,  306.48633333,  309.21966667,\n",
       "        312.253     ,  315.253     ,  318.08633333,  320.96933333,\n",
       "        323.836     ,  326.50266667,  329.236     ,  332.05266667,\n",
       "        334.736     ,  337.736     ,  340.40266667,  343.086     ,\n",
       "        345.73566667,  348.419     ,  351.20233333,  353.93566667,\n",
       "        356.969     ,  359.769     ,  362.41866667,  365.43533333,\n",
       "        368.48533333,  371.26866667,  373.902     ,  376.585     ,\n",
       "        379.35166667,  382.21833333,  384.90166667,  387.76833333,\n",
       "        390.70133333,  393.38466667,  396.00133333,  398.73466667,\n",
       "        401.468     ,  404.23433333,  407.08433333,  409.68433333,\n",
       "        412.38433333,  415.351     ,  417.934     ,  420.96733333,\n",
       "        423.884     ,  426.684     ,  429.55066667,  432.21733333,\n",
       "        435.017     ,  438.067     ,  440.90033333,  443.717     ,\n",
       "        446.38333333,  449.18333333,  452.06666667,  454.98333333,\n",
       "        457.75      ,  460.49966667])"
      ]
     },
     "execution_count": 64,
     "metadata": {},
     "output_type": "execute_result"
    }
   ],
   "source": [
    "exp1_info['stimStarts']"
   ]
  },
  {
   "cell_type": "code",
   "execution_count": 65,
   "metadata": {},
   "outputs": [
    {
     "data": {
      "text/plain": [
       "array([ 6,  3, 11,  7,  8,  5,  1,  2,  4, 13,  9, 10, 12,  9,  3,  4,  1,\n",
       "        8, 12, 13,  6,  2, 10,  5, 11,  7,  6,  8,  9,  4,  7, 12,  2,  3,\n",
       "       11,  5,  1, 10, 13,  1,  6, 12,  3,  2,  8,  7,  9, 13, 10, 11,  4,\n",
       "        5,  3,  2,  8, 10,  6,  4, 11,  7,  1, 12,  9, 13,  5,  3,  4, 12,\n",
       "        9, 13,  7,  5, 11,  2,  8,  6, 10,  1, 13,  8,  3, 11,  2,  6, 12,\n",
       "        5,  1, 10,  9,  4,  7,  8,  1,  5, 10, 12,  9,  7, 13,  2,  6,  3,\n",
       "       11,  4,  8, 11,  1,  9,  3,  7, 13,  2,  4,  5,  6, 12, 10,  6,  2,\n",
       "       10,  4, 12, 11,  3,  7, 13,  8,  9,  5,  1], dtype=uint8)"
      ]
     },
     "execution_count": 65,
     "metadata": {},
     "output_type": "execute_result"
    }
   ],
   "source": [
    "exp1_info['stimIDs']"
   ]
  },
  {
   "cell_type": "code",
   "execution_count": 66,
   "metadata": {},
   "outputs": [],
   "source": [
    "exp2_info=loadmat('experiment2stimInfo.mat')"
   ]
  },
  {
   "cell_type": "code",
   "execution_count": 68,
   "metadata": {},
   "outputs": [
    {
     "data": {
      "text/plain": [
       "['Protocol',\n",
       " 'stimStarts',\n",
       " '__globals__',\n",
       " '__header__',\n",
       " 'stimStops',\n",
       " 'stimIDs',\n",
       " '__version__']"
      ]
     },
     "execution_count": 68,
     "metadata": {},
     "output_type": "execute_result"
    }
   ],
   "source": [
    "exp2_info.keys()"
   ]
  },
  {
   "cell_type": "code",
   "execution_count": 70,
   "metadata": {},
   "outputs": [
    {
     "data": {
      "text/plain": [
       "array([ 2,  6, 12, 10,  7,  8, 14, 13,  9, 16, 11, 15,  5,  3, 17,  4,  1,\n",
       "        5, 15,  4, 16,  2,  8,  7, 14, 10, 11,  3,  6, 13, 12, 17,  1,  9,\n",
       "        1, 10,  8, 11, 13, 17,  3,  7,  2,  6, 12,  9,  5, 16, 15, 14,  4,\n",
       "       15,  9, 10, 11, 12, 16,  7,  6,  2, 17,  4,  1,  5, 14,  8, 13,  3,\n",
       "        6, 16,  9,  8, 11,  4, 13, 10,  1,  5, 12,  3,  2, 17, 15, 14,  7,\n",
       "       17, 14, 16, 13,  1,  7,  5,  2, 10,  3,  9, 12, 11,  8,  4,  6, 15,\n",
       "       15,  8,  4, 12, 17,  5, 11, 13,  6, 14,  1, 16, 10,  3,  9,  2,  7,\n",
       "       12,  3, 16,  6,  4, 10,  1,  2, 11, 17,  5,  9, 15,  7, 14, 13,  8,\n",
       "        1, 13, 14,  7,  4,  5,  3, 15,  6,  2,  9, 16,  8, 12, 17, 10, 11,\n",
       "       11,  7, 13, 12, 14,  6,  1, 10, 15, 17, 16,  5,  8,  3,  9,  2,  4], dtype=uint8)"
      ]
     },
     "execution_count": 70,
     "metadata": {},
     "output_type": "execute_result"
    }
   ],
   "source": [
    "exp2_info['stimIDs']"
   ]
  },
  {
   "cell_type": "code",
   "execution_count": 71,
   "metadata": {},
   "outputs": [],
   "source": [
    "exp3_info=loadmat('experiment3stimInfo.mat')"
   ]
  },
  {
   "cell_type": "markdown",
   "metadata": {},
   "source": [
    "Now let's divide up the spike trains into the 4 different experimental stages, and then further into a window for each stimulus"
   ]
  },
  {
   "cell_type": "code",
   "execution_count": 76,
   "metadata": {},
   "outputs": [
    {
     "data": {
      "text/plain": [
       "822"
      ]
     },
     "execution_count": 76,
     "metadata": {},
     "output_type": "execute_result"
    }
   ],
   "source": [
    "len(spk)"
   ]
  },
  {
   "cell_type": "code",
   "execution_count": 84,
   "metadata": {},
   "outputs": [],
   "source": [
    "import copy"
   ]
  },
  {
   "cell_type": "code",
   "execution_count": 85,
   "metadata": {},
   "outputs": [],
   "source": [
    "e=copy.deepcopy(spk[0][:3])"
   ]
  },
  {
   "cell_type": "code",
   "execution_count": 86,
   "metadata": {},
   "outputs": [
    {
     "data": {
      "text/plain": [
       "<SpikeTrain(array([ 0.0054    ,  0.1295    ,  0.25956667]) * s, [0.0 s, 5050.0 s])>"
      ]
     },
     "execution_count": 86,
     "metadata": {},
     "output_type": "execute_result"
    }
   ],
   "source": [
    "e"
   ]
  },
  {
   "cell_type": "code",
   "execution_count": 89,
   "metadata": {},
   "outputs": [],
   "source": [
    "e.t_start=10*s"
   ]
  },
  {
   "cell_type": "code",
   "execution_count": 102,
   "metadata": {},
   "outputs": [
    {
     "data": {
      "text/plain": [
       "<SpikeTrain(array([], dtype=float64) * s, [10.0 s, 5050.0 s])>"
      ]
     },
     "execution_count": 102,
     "metadata": {},
     "output_type": "execute_result"
    }
   ],
   "source": [
    "e[(e.times<10) & (e.times>5)]"
   ]
  },
  {
   "cell_type": "code",
   "execution_count": 106,
   "metadata": {},
   "outputs": [],
   "source": [
    "dist_list=[]\n",
    "N=exp1_info['Protocol']['npfilestimuli']*exp1_info['Protocol']['nrepeats']\n",
    "exp1start=exp1_info['stimStarts']\n",
    "exp1stop=exp1_info['stimStops']"
   ]
  },
  {
   "cell_type": "code",
   "execution_count": null,
   "metadata": {},
   "outputs": [
    {
     "name": "stdout",
     "output_type": "stream",
     "text": [
      "0\n"
     ]
    }
   ],
   "source": [
    "import elephant.spike_train_dissimilarity as dissim\n",
    "\n",
    "for i in range(N):\n",
    "    print i\n",
    "    temp_spks=[]\n",
    "    for spiketrain in spk:\n",
    "        temp=copy.deepcopy(spiketrain[(spiketrain.times>exp1start[i])&(spiketrain.times<exp1stop[i])])\n",
    "        temp_spks.append(temp)\n",
    "    dist_list.append(dissim.van_rossum_dist(temp_spks,sort=False))"
   ]
  },
  {
   "cell_type": "code",
   "execution_count": null,
   "metadata": {},
   "outputs": [],
   "source": []
  }
 ],
 "metadata": {
  "kernelspec": {
   "display_name": "Python 2",
   "language": "python",
   "name": "python2"
  },
  "language_info": {
   "codemirror_mode": {
    "name": "ipython",
    "version": 2
   },
   "file_extension": ".py",
   "mimetype": "text/x-python",
   "name": "python",
   "nbconvert_exporter": "python",
   "pygments_lexer": "ipython2",
   "version": "2.7.15"
  }
 },
 "nbformat": 4,
 "nbformat_minor": 2
}
