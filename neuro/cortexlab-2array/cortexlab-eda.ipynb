{
 "cells": [
  {
   "cell_type": "code",
   "execution_count": 2,
   "metadata": {},
   "outputs": [],
   "source": [
    "import numpy as np\n",
    "import pandas as pd\n",
    "import matplotlib.pyplot as plt\n",
    "import seaborn as sns\n",
    "import missingno as msno\n",
    "%matplotlib inline"
   ]
  },
  {
   "cell_type": "code",
   "execution_count": 43,
   "metadata": {},
   "outputs": [],
   "source": [
    "Fs = 30000."
   ]
  },
  {
   "cell_type": "code",
   "execution_count": 8,
   "metadata": {},
   "outputs": [],
   "source": [
    "clu_f = np.load('./frontal/spike_clusters.npy')"
   ]
  },
  {
   "cell_type": "code",
   "execution_count": 9,
   "metadata": {},
   "outputs": [],
   "source": [
    "ss_f = np.load('./frontal/spike_times.npy')"
   ]
  },
  {
   "cell_type": "code",
   "execution_count": 44,
   "metadata": {},
   "outputs": [],
   "source": [
    "st_f = ss/Fs"
   ]
  },
  {
   "cell_type": "code",
   "execution_count": 11,
   "metadata": {},
   "outputs": [],
   "source": [
    "spkTemps_f = np.load('./frontal/spike_templates.npy')"
   ]
  },
  {
   "cell_type": "code",
   "execution_count": 12,
   "metadata": {},
   "outputs": [],
   "source": [
    "amps_f = np.load('./frontal/amplitudes.npy')"
   ]
  },
  {
   "cell_type": "code",
   "execution_count": 13,
   "metadata": {},
   "outputs": [
    {
     "data": {
      "text/plain": [
       "array([[ 18.51144409],\n",
       "       [ 12.93832397],\n",
       "       [ 47.23517227],\n",
       "       ..., \n",
       "       [ 23.7265625 ],\n",
       "       [ 31.41118622],\n",
       "       [ 18.56385803]])"
      ]
     },
     "execution_count": 13,
     "metadata": {},
     "output_type": "execute_result"
    }
   ],
   "source": [
    "amps_f"
   ]
  },
  {
   "cell_type": "code",
   "execution_count": 14,
   "metadata": {},
   "outputs": [
    {
     "data": {
      "text/plain": [
       "(7270137, 1)"
      ]
     },
     "execution_count": 14,
     "metadata": {},
     "output_type": "execute_result"
    }
   ],
   "source": [
    "np.shape(amps_f)"
   ]
  },
  {
   "cell_type": "code",
   "execution_count": 16,
   "metadata": {},
   "outputs": [
    {
     "data": {
      "text/plain": [
       "(7270137, 1)"
      ]
     },
     "execution_count": 16,
     "metadata": {},
     "output_type": "execute_result"
    }
   ],
   "source": [
    "np.shape(st_f)"
   ]
  },
  {
   "cell_type": "code",
   "execution_count": 17,
   "metadata": {},
   "outputs": [
    {
     "data": {
      "text/plain": [
       "(7270137,)"
      ]
     },
     "execution_count": 17,
     "metadata": {},
     "output_type": "execute_result"
    }
   ],
   "source": [
    "np.shape(clu_f)"
   ]
  },
  {
   "cell_type": "code",
   "execution_count": 19,
   "metadata": {},
   "outputs": [],
   "source": [
    "cid_g_f = pd.read_csv('./frontal/cluster_groups.csv',sep='\\t')"
   ]
  },
  {
   "cell_type": "code",
   "execution_count": 25,
   "metadata": {},
   "outputs": [],
   "source": [
    "noise=cid_g_f[cid_g_f['group']=='noise']"
   ]
  },
  {
   "cell_type": "code",
   "execution_count": 45,
   "metadata": {},
   "outputs": [],
   "source": [
    "clu_f=pd.DataFrame(clu_f)\n",
    "clu_f.columns = ['clusters']\n",
    "st_f_clean=st_f[~clu_f.isin(noise['cluster_id'].tolist())]"
   ]
  },
  {
   "cell_type": "code",
   "execution_count": 46,
   "metadata": {},
   "outputs": [
    {
     "data": {
      "text/plain": [
       "(6934709,)"
      ]
     },
     "execution_count": 46,
     "metadata": {},
     "output_type": "execute_result"
    }
   ],
   "source": [
    "np.shape(st_f_clean)"
   ]
  },
  {
   "cell_type": "code",
   "execution_count": 47,
   "metadata": {},
   "outputs": [
    {
     "data": {
      "text/html": [
       "<div>\n",
       "<style scoped>\n",
       "    .dataframe tbody tr th:only-of-type {\n",
       "        vertical-align: middle;\n",
       "    }\n",
       "\n",
       "    .dataframe tbody tr th {\n",
       "        vertical-align: top;\n",
       "    }\n",
       "\n",
       "    .dataframe thead th {\n",
       "        text-align: right;\n",
       "    }\n",
       "</style>\n",
       "<table border=\"1\" class=\"dataframe\">\n",
       "  <thead>\n",
       "    <tr style=\"text-align: right;\">\n",
       "      <th></th>\n",
       "      <th>spike times</th>\n",
       "    </tr>\n",
       "  </thead>\n",
       "  <tbody>\n",
       "    <tr>\n",
       "      <th>0</th>\n",
       "      <td>0.005400</td>\n",
       "    </tr>\n",
       "    <tr>\n",
       "      <th>1</th>\n",
       "      <td>0.006633</td>\n",
       "    </tr>\n",
       "    <tr>\n",
       "      <th>2</th>\n",
       "      <td>0.007800</td>\n",
       "    </tr>\n",
       "    <tr>\n",
       "      <th>3</th>\n",
       "      <td>0.007867</td>\n",
       "    </tr>\n",
       "    <tr>\n",
       "      <th>4</th>\n",
       "      <td>0.008100</td>\n",
       "    </tr>\n",
       "    <tr>\n",
       "      <th>5</th>\n",
       "      <td>0.009367</td>\n",
       "    </tr>\n",
       "    <tr>\n",
       "      <th>6</th>\n",
       "      <td>0.009400</td>\n",
       "    </tr>\n",
       "    <tr>\n",
       "      <th>7</th>\n",
       "      <td>0.010433</td>\n",
       "    </tr>\n",
       "    <tr>\n",
       "      <th>8</th>\n",
       "      <td>0.011200</td>\n",
       "    </tr>\n",
       "    <tr>\n",
       "      <th>9</th>\n",
       "      <td>0.011500</td>\n",
       "    </tr>\n",
       "    <tr>\n",
       "      <th>10</th>\n",
       "      <td>0.011533</td>\n",
       "    </tr>\n",
       "    <tr>\n",
       "      <th>11</th>\n",
       "      <td>0.012033</td>\n",
       "    </tr>\n",
       "    <tr>\n",
       "      <th>12</th>\n",
       "      <td>0.012767</td>\n",
       "    </tr>\n",
       "    <tr>\n",
       "      <th>13</th>\n",
       "      <td>0.013767</td>\n",
       "    </tr>\n",
       "    <tr>\n",
       "      <th>14</th>\n",
       "      <td>0.014667</td>\n",
       "    </tr>\n",
       "    <tr>\n",
       "      <th>15</th>\n",
       "      <td>0.015100</td>\n",
       "    </tr>\n",
       "    <tr>\n",
       "      <th>16</th>\n",
       "      <td>0.016133</td>\n",
       "    </tr>\n",
       "    <tr>\n",
       "      <th>17</th>\n",
       "      <td>0.017500</td>\n",
       "    </tr>\n",
       "    <tr>\n",
       "      <th>18</th>\n",
       "      <td>0.017633</td>\n",
       "    </tr>\n",
       "    <tr>\n",
       "      <th>19</th>\n",
       "      <td>0.019467</td>\n",
       "    </tr>\n",
       "    <tr>\n",
       "      <th>20</th>\n",
       "      <td>0.019533</td>\n",
       "    </tr>\n",
       "    <tr>\n",
       "      <th>21</th>\n",
       "      <td>0.019767</td>\n",
       "    </tr>\n",
       "    <tr>\n",
       "      <th>22</th>\n",
       "      <td>0.020233</td>\n",
       "    </tr>\n",
       "    <tr>\n",
       "      <th>23</th>\n",
       "      <td>0.020800</td>\n",
       "    </tr>\n",
       "    <tr>\n",
       "      <th>24</th>\n",
       "      <td>0.020833</td>\n",
       "    </tr>\n",
       "    <tr>\n",
       "      <th>25</th>\n",
       "      <td>0.021100</td>\n",
       "    </tr>\n",
       "    <tr>\n",
       "      <th>26</th>\n",
       "      <td>0.021767</td>\n",
       "    </tr>\n",
       "    <tr>\n",
       "      <th>27</th>\n",
       "      <td>0.024700</td>\n",
       "    </tr>\n",
       "    <tr>\n",
       "      <th>28</th>\n",
       "      <td>0.025000</td>\n",
       "    </tr>\n",
       "    <tr>\n",
       "      <th>29</th>\n",
       "      <td>0.025267</td>\n",
       "    </tr>\n",
       "    <tr>\n",
       "      <th>...</th>\n",
       "      <td>...</td>\n",
       "    </tr>\n",
       "    <tr>\n",
       "      <th>6934679</th>\n",
       "      <td>5049.284900</td>\n",
       "    </tr>\n",
       "    <tr>\n",
       "      <th>6934680</th>\n",
       "      <td>5049.286633</td>\n",
       "    </tr>\n",
       "    <tr>\n",
       "      <th>6934681</th>\n",
       "      <td>5049.286633</td>\n",
       "    </tr>\n",
       "    <tr>\n",
       "      <th>6934682</th>\n",
       "      <td>5049.286700</td>\n",
       "    </tr>\n",
       "    <tr>\n",
       "      <th>6934683</th>\n",
       "      <td>5049.286767</td>\n",
       "    </tr>\n",
       "    <tr>\n",
       "      <th>6934684</th>\n",
       "      <td>5049.290367</td>\n",
       "    </tr>\n",
       "    <tr>\n",
       "      <th>6934685</th>\n",
       "      <td>5049.290967</td>\n",
       "    </tr>\n",
       "    <tr>\n",
       "      <th>6934686</th>\n",
       "      <td>5049.291400</td>\n",
       "    </tr>\n",
       "    <tr>\n",
       "      <th>6934687</th>\n",
       "      <td>5049.291433</td>\n",
       "    </tr>\n",
       "    <tr>\n",
       "      <th>6934688</th>\n",
       "      <td>5049.293333</td>\n",
       "    </tr>\n",
       "    <tr>\n",
       "      <th>6934689</th>\n",
       "      <td>5049.293667</td>\n",
       "    </tr>\n",
       "    <tr>\n",
       "      <th>6934690</th>\n",
       "      <td>5049.293700</td>\n",
       "    </tr>\n",
       "    <tr>\n",
       "      <th>6934691</th>\n",
       "      <td>5049.294633</td>\n",
       "    </tr>\n",
       "    <tr>\n",
       "      <th>6934692</th>\n",
       "      <td>5049.295200</td>\n",
       "    </tr>\n",
       "    <tr>\n",
       "      <th>6934693</th>\n",
       "      <td>5049.295833</td>\n",
       "    </tr>\n",
       "    <tr>\n",
       "      <th>6934694</th>\n",
       "      <td>5049.296167</td>\n",
       "    </tr>\n",
       "    <tr>\n",
       "      <th>6934695</th>\n",
       "      <td>5049.296700</td>\n",
       "    </tr>\n",
       "    <tr>\n",
       "      <th>6934696</th>\n",
       "      <td>5049.297633</td>\n",
       "    </tr>\n",
       "    <tr>\n",
       "      <th>6934697</th>\n",
       "      <td>5049.298933</td>\n",
       "    </tr>\n",
       "    <tr>\n",
       "      <th>6934698</th>\n",
       "      <td>5049.299067</td>\n",
       "    </tr>\n",
       "    <tr>\n",
       "      <th>6934699</th>\n",
       "      <td>5049.299633</td>\n",
       "    </tr>\n",
       "    <tr>\n",
       "      <th>6934700</th>\n",
       "      <td>5049.300500</td>\n",
       "    </tr>\n",
       "    <tr>\n",
       "      <th>6934701</th>\n",
       "      <td>5049.301933</td>\n",
       "    </tr>\n",
       "    <tr>\n",
       "      <th>6934702</th>\n",
       "      <td>5049.302967</td>\n",
       "    </tr>\n",
       "    <tr>\n",
       "      <th>6934703</th>\n",
       "      <td>5049.304433</td>\n",
       "    </tr>\n",
       "    <tr>\n",
       "      <th>6934704</th>\n",
       "      <td>5049.306100</td>\n",
       "    </tr>\n",
       "    <tr>\n",
       "      <th>6934705</th>\n",
       "      <td>5049.306133</td>\n",
       "    </tr>\n",
       "    <tr>\n",
       "      <th>6934706</th>\n",
       "      <td>5049.308533</td>\n",
       "    </tr>\n",
       "    <tr>\n",
       "      <th>6934707</th>\n",
       "      <td>5049.310233</td>\n",
       "    </tr>\n",
       "    <tr>\n",
       "      <th>6934708</th>\n",
       "      <td>5049.310367</td>\n",
       "    </tr>\n",
       "  </tbody>\n",
       "</table>\n",
       "<p>6934709 rows × 1 columns</p>\n",
       "</div>"
      ],
      "text/plain": [
       "         spike times\n",
       "0           0.005400\n",
       "1           0.006633\n",
       "2           0.007800\n",
       "3           0.007867\n",
       "4           0.008100\n",
       "5           0.009367\n",
       "6           0.009400\n",
       "7           0.010433\n",
       "8           0.011200\n",
       "9           0.011500\n",
       "10          0.011533\n",
       "11          0.012033\n",
       "12          0.012767\n",
       "13          0.013767\n",
       "14          0.014667\n",
       "15          0.015100\n",
       "16          0.016133\n",
       "17          0.017500\n",
       "18          0.017633\n",
       "19          0.019467\n",
       "20          0.019533\n",
       "21          0.019767\n",
       "22          0.020233\n",
       "23          0.020800\n",
       "24          0.020833\n",
       "25          0.021100\n",
       "26          0.021767\n",
       "27          0.024700\n",
       "28          0.025000\n",
       "29          0.025267\n",
       "...              ...\n",
       "6934679  5049.284900\n",
       "6934680  5049.286633\n",
       "6934681  5049.286633\n",
       "6934682  5049.286700\n",
       "6934683  5049.286767\n",
       "6934684  5049.290367\n",
       "6934685  5049.290967\n",
       "6934686  5049.291400\n",
       "6934687  5049.291433\n",
       "6934688  5049.293333\n",
       "6934689  5049.293667\n",
       "6934690  5049.293700\n",
       "6934691  5049.294633\n",
       "6934692  5049.295200\n",
       "6934693  5049.295833\n",
       "6934694  5049.296167\n",
       "6934695  5049.296700\n",
       "6934696  5049.297633\n",
       "6934697  5049.298933\n",
       "6934698  5049.299067\n",
       "6934699  5049.299633\n",
       "6934700  5049.300500\n",
       "6934701  5049.301933\n",
       "6934702  5049.302967\n",
       "6934703  5049.304433\n",
       "6934704  5049.306100\n",
       "6934705  5049.306133\n",
       "6934706  5049.308533\n",
       "6934707  5049.310233\n",
       "6934708  5049.310367\n",
       "\n",
       "[6934709 rows x 1 columns]"
      ]
     },
     "execution_count": 47,
     "metadata": {},
     "output_type": "execute_result"
    }
   ],
   "source": [
    "st_f_clean=pd.DataFrame(st_f_clean)\n",
    "st_f_clean.columns = ['spike times']\n",
    "st_f_clean"
   ]
  },
  {
   "cell_type": "code",
   "execution_count": 49,
   "metadata": {},
   "outputs": [
    {
     "data": {
      "text/plain": [
       "clusters    335428\n",
       "dtype: int64"
      ]
     },
     "execution_count": 49,
     "metadata": {},
     "output_type": "execute_result"
    }
   ],
   "source": [
    "clu_f_clean=clu_f[~clu_f.isin(noise['cluster_id'].tolist())]\n",
    "clu_f_clean=pd.DataFrame(clu_f_clean)\n",
    "clu_f_clean.columns = ['clusters']\n",
    "clu_f_clean.isnull().sum()"
   ]
  },
  {
   "cell_type": "code",
   "execution_count": null,
   "metadata": {},
   "outputs": [],
   "source": []
  }
 ],
 "metadata": {
  "kernelspec": {
   "display_name": "Python 2",
   "language": "python",
   "name": "python2"
  },
  "language_info": {
   "codemirror_mode": {
    "name": "ipython",
    "version": 2
   },
   "file_extension": ".py",
   "mimetype": "text/x-python",
   "name": "python",
   "nbconvert_exporter": "python",
   "pygments_lexer": "ipython2",
   "version": "2.7.15"
  }
 },
 "nbformat": 4,
 "nbformat_minor": 2
}
