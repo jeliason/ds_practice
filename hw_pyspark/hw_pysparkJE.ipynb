{
 "cells": [
  {
   "cell_type": "markdown",
   "metadata": {},
   "source": [
    "### Data challenge\n",
    "##### Concepts: PySpark and Spark MLlib, class imbalance\n"
   ]
  },
  {
   "cell_type": "code",
   "execution_count": 1,
   "metadata": {},
   "outputs": [],
   "source": [
    "from pyspark.sql import SQLContext\n",
    "from pyspark import SparkContext"
   ]
  },
  {
   "cell_type": "code",
   "execution_count": 2,
   "metadata": {},
   "outputs": [],
   "source": [
    "# set up Spark context\n",
    "sc=SparkContext(\"local\",\"hw\")\n",
    "sqlContext=SQLContext(sc)"
   ]
  },
  {
   "cell_type": "markdown",
   "metadata": {},
   "source": [
    "Read the data into a dataframe:"
   ]
  },
  {
   "cell_type": "code",
   "execution_count": 3,
   "metadata": {},
   "outputs": [],
   "source": [
    "df=sqlContext.read.parquet('./dataset.parquet/*parquet')"
   ]
  },
  {
   "cell_type": "markdown",
   "metadata": {},
   "source": [
    "#### Data cleaning discussion"
   ]
  },
  {
   "cell_type": "markdown",
   "metadata": {},
   "source": [
    "Below are some quick explorations: number of columns, data types, number of rows and descriptive statistics for an example feature.\n",
    "\n",
    "If I were to do data cleaning, I would look for the following:\n",
    "* NaN values (if the feature was categorical, I would make NaN its own category, while if the feature were continuous, I would set the value to zero and create another binary feature that would indicate True if the continuous feature were NaN and False otherwise)\n",
    "* correct data types in each category\n",
    "* remove strings (e.g. dollar signs) from numerical variables\n",
    "* make sure dates and times are in the correct format, if applicable\n",
    "* categorical variables that have too many levels would be treated as continuous variables (maybe more than 5-10, depending on the application)\n",
    "* one-hot encode categorical variables, unless algorithm doesn't require this (most do, however)\n",
    "* correct feature labels, no typos\n",
    "* balanced classes (check if classes need to be combined, if they are very similar)\n",
    "* tidy data (every observation has one and only one row)\n",
    "* outliers - check if outliers are physically possible, if they are, typically keep them\n",
    "* double check for duplicate observations"
   ]
  },
  {
   "cell_type": "markdown",
   "metadata": {},
   "source": [
    "#### Quick data exploration"
   ]
  },
  {
   "cell_type": "code",
   "execution_count": 4,
   "metadata": {},
   "outputs": [
    {
     "name": "stdout",
     "output_type": "stream",
     "text": [
      "root\n",
      " |-- label: integer (nullable = true)\n",
      " |-- f1: long (nullable = true)\n",
      " |-- f2: long (nullable = true)\n",
      " |-- f3: long (nullable = true)\n",
      " |-- f4: long (nullable = true)\n",
      " |-- f5: double (nullable = true)\n",
      " |-- f6: double (nullable = true)\n",
      " |-- f7: double (nullable = true)\n",
      " |-- f8: long (nullable = true)\n",
      " |-- f9: long (nullable = true)\n",
      " |-- f10: long (nullable = true)\n",
      " |-- f11: long (nullable = true)\n",
      " |-- f12: long (nullable = true)\n",
      " |-- f13: long (nullable = true)\n",
      " |-- f14: long (nullable = true)\n",
      " |-- f15: long (nullable = true)\n",
      " |-- f16: long (nullable = true)\n",
      " |-- f17: long (nullable = true)\n",
      " |-- f18: long (nullable = true)\n",
      " |-- f19: long (nullable = true)\n",
      " |-- f20: long (nullable = true)\n",
      " |-- f21: long (nullable = true)\n",
      " |-- f22: long (nullable = true)\n",
      " |-- f23: long (nullable = true)\n",
      " |-- f24: integer (nullable = true)\n",
      " |-- f25: long (nullable = true)\n",
      " |-- f26: long (nullable = true)\n",
      " |-- f27: long (nullable = true)\n",
      " |-- f28: long (nullable = true)\n",
      " |-- f29: long (nullable = true)\n",
      " |-- f30: long (nullable = true)\n",
      " |-- f31: long (nullable = true)\n",
      " |-- f32: long (nullable = true)\n",
      " |-- f33: long (nullable = true)\n",
      " |-- f34: long (nullable = true)\n",
      " |-- f35: long (nullable = true)\n",
      " |-- f36: long (nullable = true)\n",
      " |-- f37: long (nullable = true)\n",
      " |-- f38: long (nullable = true)\n",
      " |-- f39: long (nullable = true)\n",
      " |-- f40: long (nullable = true)\n",
      " |-- f41: long (nullable = true)\n",
      " |-- f42: long (nullable = true)\n",
      " |-- f43: long (nullable = true)\n",
      " |-- f44: long (nullable = true)\n",
      " |-- f45: long (nullable = true)\n",
      " |-- f46: long (nullable = true)\n",
      " |-- f47: long (nullable = true)\n",
      " |-- f48: long (nullable = true)\n",
      " |-- f49: long (nullable = true)\n",
      " |-- f50: long (nullable = true)\n",
      " |-- f51: long (nullable = true)\n",
      " |-- f52: long (nullable = true)\n",
      " |-- f53: long (nullable = true)\n",
      " |-- f54: long (nullable = true)\n",
      " |-- f55: long (nullable = true)\n",
      " |-- f56: long (nullable = true)\n",
      " |-- f57: long (nullable = true)\n",
      " |-- f58: long (nullable = true)\n",
      " |-- f59: long (nullable = true)\n",
      " |-- f60: long (nullable = true)\n",
      " |-- f61: long (nullable = true)\n",
      " |-- f62: long (nullable = true)\n",
      " |-- f63: long (nullable = true)\n",
      " |-- f64: long (nullable = true)\n",
      " |-- f65: long (nullable = true)\n",
      " |-- f66: long (nullable = true)\n",
      " |-- f67: long (nullable = true)\n",
      " |-- f68: long (nullable = true)\n",
      " |-- f69: long (nullable = true)\n",
      " |-- f70: long (nullable = true)\n",
      " |-- f71: long (nullable = true)\n",
      " |-- f72: long (nullable = true)\n",
      " |-- f73: long (nullable = true)\n",
      " |-- f74: long (nullable = true)\n",
      " |-- f75: long (nullable = true)\n",
      " |-- f76: long (nullable = true)\n",
      " |-- f77: long (nullable = true)\n",
      " |-- f78: long (nullable = true)\n",
      " |-- f79: long (nullable = true)\n",
      " |-- f80: long (nullable = true)\n",
      " |-- f81: long (nullable = true)\n",
      " |-- f82: long (nullable = true)\n",
      " |-- f83: long (nullable = true)\n",
      " |-- f84: long (nullable = true)\n",
      " |-- f85: long (nullable = true)\n",
      " |-- f86: long (nullable = true)\n",
      " |-- f87: long (nullable = true)\n",
      " |-- f88: long (nullable = true)\n",
      " |-- f89: long (nullable = true)\n",
      " |-- f90: long (nullable = true)\n",
      " |-- f91: long (nullable = true)\n",
      " |-- f92: long (nullable = true)\n",
      " |-- f93: long (nullable = true)\n",
      " |-- f94: long (nullable = true)\n",
      " |-- f95: long (nullable = true)\n",
      " |-- f96: long (nullable = true)\n",
      " |-- f97: long (nullable = true)\n",
      " |-- f98: long (nullable = true)\n",
      " |-- f99: long (nullable = true)\n",
      " |-- f100: long (nullable = true)\n",
      " |-- f101: long (nullable = true)\n",
      " |-- f102: long (nullable = true)\n",
      " |-- f103: long (nullable = true)\n",
      " |-- f104: long (nullable = true)\n",
      " |-- f105: long (nullable = true)\n",
      " |-- f106: long (nullable = true)\n",
      " |-- f107: long (nullable = true)\n",
      " |-- f108: long (nullable = true)\n",
      " |-- f109: long (nullable = true)\n",
      " |-- f110: long (nullable = true)\n",
      " |-- f111: long (nullable = true)\n",
      " |-- f112: long (nullable = true)\n",
      " |-- f113: long (nullable = true)\n",
      " |-- f114: long (nullable = true)\n",
      " |-- f115: long (nullable = true)\n",
      " |-- f116: long (nullable = true)\n",
      " |-- f117: long (nullable = true)\n",
      " |-- f118: long (nullable = true)\n",
      " |-- f119: long (nullable = true)\n",
      " |-- f120: long (nullable = true)\n",
      " |-- f121: long (nullable = true)\n",
      " |-- f122: long (nullable = true)\n",
      " |-- f123: long (nullable = true)\n",
      " |-- f124: long (nullable = true)\n",
      " |-- f125: long (nullable = true)\n",
      " |-- f126: long (nullable = true)\n",
      " |-- f127: long (nullable = true)\n",
      " |-- f128: long (nullable = true)\n",
      " |-- f129: long (nullable = true)\n",
      " |-- f130: long (nullable = true)\n",
      " |-- f131: long (nullable = true)\n",
      " |-- f132: long (nullable = true)\n",
      " |-- f133: long (nullable = true)\n",
      " |-- f134: long (nullable = true)\n",
      " |-- f135: long (nullable = true)\n",
      " |-- f136: long (nullable = true)\n",
      " |-- f137: long (nullable = true)\n",
      " |-- f138: long (nullable = true)\n",
      " |-- f139: long (nullable = true)\n",
      " |-- f140: long (nullable = true)\n",
      " |-- f141: long (nullable = true)\n",
      " |-- f142: long (nullable = true)\n",
      " |-- f143: long (nullable = true)\n",
      " |-- f144: long (nullable = true)\n",
      " |-- f145: long (nullable = true)\n",
      " |-- f146: long (nullable = true)\n",
      " |-- f147: long (nullable = true)\n",
      " |-- f148: long (nullable = true)\n",
      " |-- f149: long (nullable = true)\n",
      " |-- f150: long (nullable = true)\n",
      " |-- f151: long (nullable = true)\n",
      " |-- f152: long (nullable = true)\n",
      " |-- f153: long (nullable = true)\n",
      " |-- f154: long (nullable = true)\n",
      " |-- f155: long (nullable = true)\n",
      " |-- f156: long (nullable = true)\n",
      " |-- f157: long (nullable = true)\n",
      " |-- f158: long (nullable = true)\n",
      " |-- f159: long (nullable = true)\n",
      " |-- f160: long (nullable = true)\n",
      " |-- f161: long (nullable = true)\n",
      " |-- f162: long (nullable = true)\n",
      " |-- f163: long (nullable = true)\n",
      " |-- f164: long (nullable = true)\n",
      " |-- f165: long (nullable = true)\n",
      " |-- f166: long (nullable = true)\n",
      " |-- f167: long (nullable = true)\n",
      " |-- f168: long (nullable = true)\n",
      " |-- f169: long (nullable = true)\n",
      " |-- f170: long (nullable = true)\n",
      " |-- f171: long (nullable = true)\n",
      " |-- f172: long (nullable = true)\n",
      " |-- f173: long (nullable = true)\n",
      " |-- f174: long (nullable = true)\n",
      " |-- f175: long (nullable = true)\n",
      " |-- f176: long (nullable = true)\n",
      " |-- f177: long (nullable = true)\n",
      " |-- f178: long (nullable = true)\n",
      " |-- f179: long (nullable = true)\n",
      " |-- f180: long (nullable = true)\n",
      " |-- f181: long (nullable = true)\n",
      " |-- f182: long (nullable = true)\n",
      " |-- f183: long (nullable = true)\n",
      " |-- f184: long (nullable = true)\n",
      " |-- f185: long (nullable = true)\n",
      " |-- f186: long (nullable = true)\n",
      " |-- f187: long (nullable = true)\n",
      " |-- f188: long (nullable = true)\n",
      " |-- f189: long (nullable = true)\n",
      " |-- f190: long (nullable = true)\n",
      " |-- f191: long (nullable = true)\n",
      " |-- f192: long (nullable = true)\n",
      " |-- f193: long (nullable = true)\n",
      " |-- f194: long (nullable = true)\n",
      " |-- f195: long (nullable = true)\n",
      " |-- f196: long (nullable = true)\n",
      " |-- f197: long (nullable = true)\n",
      " |-- f198: long (nullable = true)\n",
      " |-- f199: long (nullable = true)\n",
      " |-- f200: long (nullable = true)\n",
      " |-- f201: long (nullable = true)\n",
      " |-- f202: long (nullable = true)\n",
      " |-- f203: long (nullable = true)\n",
      " |-- f204: long (nullable = true)\n",
      " |-- f205: long (nullable = true)\n",
      " |-- f206: long (nullable = true)\n",
      " |-- f207: long (nullable = true)\n",
      " |-- f208: long (nullable = true)\n",
      " |-- f209: long (nullable = true)\n",
      " |-- f210: long (nullable = true)\n",
      " |-- f211: long (nullable = true)\n",
      " |-- f212: long (nullable = true)\n",
      " |-- f213: long (nullable = true)\n",
      " |-- f214: long (nullable = true)\n",
      " |-- f215: long (nullable = true)\n",
      " |-- f216: long (nullable = true)\n",
      " |-- f217: long (nullable = true)\n",
      " |-- f218: long (nullable = true)\n",
      " |-- f219: long (nullable = true)\n",
      " |-- f220: long (nullable = true)\n",
      " |-- f221: long (nullable = true)\n",
      " |-- f222: long (nullable = true)\n",
      " |-- f223: long (nullable = true)\n",
      " |-- f224: long (nullable = true)\n",
      " |-- f225: long (nullable = true)\n",
      " |-- f226: long (nullable = true)\n",
      " |-- f227: long (nullable = true)\n",
      " |-- f228: long (nullable = true)\n",
      " |-- f229: long (nullable = true)\n",
      " |-- f230: long (nullable = true)\n",
      " |-- f231: long (nullable = true)\n",
      " |-- f232: long (nullable = true)\n",
      " |-- f233: long (nullable = true)\n",
      " |-- f234: long (nullable = true)\n",
      " |-- f235: long (nullable = true)\n",
      " |-- f236: long (nullable = true)\n",
      " |-- f237: long (nullable = true)\n",
      " |-- f238: long (nullable = true)\n",
      " |-- f239: long (nullable = true)\n",
      " |-- f240: long (nullable = true)\n",
      " |-- f241: long (nullable = true)\n",
      " |-- f242: long (nullable = true)\n",
      " |-- f243: long (nullable = true)\n",
      " |-- f244: long (nullable = true)\n",
      " |-- f245: long (nullable = true)\n",
      " |-- f246: long (nullable = true)\n",
      " |-- f247: long (nullable = true)\n",
      " |-- f248: long (nullable = true)\n",
      " |-- f249: long (nullable = true)\n",
      " |-- f250: long (nullable = true)\n",
      " |-- f251: long (nullable = true)\n",
      " |-- f252: long (nullable = true)\n",
      " |-- f253: long (nullable = true)\n",
      " |-- f254: long (nullable = true)\n",
      " |-- f255: long (nullable = true)\n",
      " |-- f256: long (nullable = true)\n",
      " |-- f257: long (nullable = true)\n",
      " |-- f258: long (nullable = true)\n",
      " |-- f259: long (nullable = true)\n",
      " |-- f260: long (nullable = true)\n",
      " |-- f261: long (nullable = true)\n",
      " |-- f262: long (nullable = true)\n",
      " |-- f263: long (nullable = true)\n",
      " |-- f264: long (nullable = true)\n",
      " |-- f265: long (nullable = true)\n",
      " |-- f266: long (nullable = true)\n",
      " |-- f267: long (nullable = true)\n",
      " |-- f268: long (nullable = true)\n",
      " |-- f269: long (nullable = true)\n",
      " |-- f270: long (nullable = true)\n",
      " |-- f271: long (nullable = true)\n",
      " |-- f272: long (nullable = true)\n",
      " |-- f273: long (nullable = true)\n",
      " |-- f274: long (nullable = true)\n",
      " |-- f275: long (nullable = true)\n",
      " |-- f276: long (nullable = true)\n",
      " |-- f277: long (nullable = true)\n",
      " |-- f278: long (nullable = true)\n",
      " |-- f279: long (nullable = true)\n",
      " |-- f280: long (nullable = true)\n",
      " |-- f281: long (nullable = true)\n",
      " |-- f282: long (nullable = true)\n",
      " |-- f283: long (nullable = true)\n",
      " |-- f284: long (nullable = true)\n",
      " |-- f285: long (nullable = true)\n",
      " |-- f286: long (nullable = true)\n",
      " |-- f287: long (nullable = true)\n",
      " |-- f288: long (nullable = true)\n",
      " |-- f289: long (nullable = true)\n",
      " |-- f290: long (nullable = true)\n",
      " |-- f291: long (nullable = true)\n",
      " |-- f292: long (nullable = true)\n",
      " |-- f293: long (nullable = true)\n",
      " |-- f294: long (nullable = true)\n",
      " |-- f295: long (nullable = true)\n",
      " |-- f296: long (nullable = true)\n",
      " |-- f297: long (nullable = true)\n",
      " |-- f298: long (nullable = true)\n",
      " |-- f299: long (nullable = true)\n",
      " |-- f300: long (nullable = true)\n",
      " |-- f301: long (nullable = true)\n",
      " |-- f302: long (nullable = true)\n",
      " |-- f303: long (nullable = true)\n",
      " |-- f304: long (nullable = true)\n",
      " |-- f305: long (nullable = true)\n",
      " |-- f306: long (nullable = true)\n",
      " |-- f307: long (nullable = true)\n",
      " |-- f308: long (nullable = true)\n",
      " |-- f309: long (nullable = true)\n",
      " |-- f310: long (nullable = true)\n",
      " |-- f311: long (nullable = true)\n",
      " |-- f312: long (nullable = true)\n",
      " |-- f313: long (nullable = true)\n",
      " |-- f314: long (nullable = true)\n",
      " |-- f315: long (nullable = true)\n",
      " |-- f316: long (nullable = true)\n",
      " |-- f317: long (nullable = true)\n",
      " |-- f318: long (nullable = true)\n",
      " |-- f319: long (nullable = true)\n",
      " |-- f320: long (nullable = true)\n",
      " |-- f321: long (nullable = true)\n",
      " |-- f322: long (nullable = true)\n",
      " |-- f323: long (nullable = true)\n",
      " |-- f324: long (nullable = true)\n",
      " |-- f325: long (nullable = true)\n",
      " |-- f326: long (nullable = true)\n",
      " |-- f327: long (nullable = true)\n",
      " |-- f328: long (nullable = true)\n",
      " |-- f329: long (nullable = true)\n",
      " |-- f330: long (nullable = true)\n",
      " |-- f331: long (nullable = true)\n",
      " |-- f332: long (nullable = true)\n",
      " |-- f333: long (nullable = true)\n",
      " |-- f334: long (nullable = true)\n",
      " |-- f335: long (nullable = true)\n",
      " |-- f336: long (nullable = true)\n",
      " |-- f337: long (nullable = true)\n",
      " |-- f338: long (nullable = true)\n",
      " |-- f339: long (nullable = true)\n",
      " |-- f340: long (nullable = true)\n",
      " |-- f341: long (nullable = true)\n",
      " |-- f342: long (nullable = true)\n",
      " |-- f343: long (nullable = true)\n",
      " |-- f344: long (nullable = true)\n",
      " |-- f345: long (nullable = true)\n",
      " |-- f346: long (nullable = true)\n",
      " |-- f347: long (nullable = true)\n",
      " |-- f348: long (nullable = true)\n",
      " |-- f349: long (nullable = true)\n",
      " |-- f350: long (nullable = true)\n",
      " |-- f351: long (nullable = true)\n",
      " |-- f352: long (nullable = true)\n",
      " |-- f353: long (nullable = true)\n",
      " |-- f354: long (nullable = true)\n",
      " |-- f355: long (nullable = true)\n",
      " |-- f356: long (nullable = true)\n",
      " |-- f357: long (nullable = true)\n",
      " |-- f358: long (nullable = true)\n",
      " |-- f359: long (nullable = true)\n",
      " |-- f360: long (nullable = true)\n",
      " |-- f361: long (nullable = true)\n",
      " |-- f362: long (nullable = true)\n",
      " |-- f363: long (nullable = true)\n",
      " |-- f364: long (nullable = true)\n",
      " |-- f365: long (nullable = true)\n",
      " |-- f366: long (nullable = true)\n",
      " |-- f367: long (nullable = true)\n",
      " |-- f368: long (nullable = true)\n",
      " |-- f369: long (nullable = true)\n",
      " |-- f370: long (nullable = true)\n",
      " |-- f371: long (nullable = true)\n",
      " |-- f372: long (nullable = true)\n",
      " |-- f373: long (nullable = true)\n",
      " |-- f374: long (nullable = true)\n",
      " |-- f375: long (nullable = true)\n",
      " |-- f376: long (nullable = true)\n",
      " |-- f377: long (nullable = true)\n",
      " |-- f378: long (nullable = true)\n",
      " |-- f379: long (nullable = true)\n",
      " |-- f380: long (nullable = true)\n",
      " |-- f381: long (nullable = true)\n",
      " |-- f382: long (nullable = true)\n",
      " |-- f383: long (nullable = true)\n",
      " |-- f384: long (nullable = true)\n",
      " |-- f385: long (nullable = true)\n",
      " |-- f386: long (nullable = true)\n",
      " |-- f387: long (nullable = true)\n",
      " |-- f388: long (nullable = true)\n",
      " |-- f389: long (nullable = true)\n",
      " |-- f390: long (nullable = true)\n",
      " |-- f391: long (nullable = true)\n",
      " |-- f392: long (nullable = true)\n",
      " |-- f393: long (nullable = true)\n",
      " |-- f394: long (nullable = true)\n",
      " |-- f395: long (nullable = true)\n",
      " |-- f396: long (nullable = true)\n",
      " |-- f397: long (nullable = true)\n",
      " |-- f398: long (nullable = true)\n",
      " |-- f399: long (nullable = true)\n",
      " |-- f400: long (nullable = true)\n",
      " |-- f401: long (nullable = true)\n",
      " |-- f402: long (nullable = true)\n",
      " |-- f403: long (nullable = true)\n",
      " |-- f404: long (nullable = true)\n",
      " |-- f405: long (nullable = true)\n",
      " |-- f406: long (nullable = true)\n",
      " |-- f407: long (nullable = true)\n",
      " |-- f408: long (nullable = true)\n",
      " |-- f409: long (nullable = true)\n",
      " |-- f410: long (nullable = true)\n",
      " |-- f411: long (nullable = true)\n",
      " |-- f412: long (nullable = true)\n",
      " |-- f413: long (nullable = true)\n",
      " |-- f414: long (nullable = true)\n",
      " |-- f415: long (nullable = true)\n",
      " |-- f416: long (nullable = true)\n",
      " |-- f417: long (nullable = true)\n",
      " |-- f418: long (nullable = true)\n",
      " |-- f419: long (nullable = true)\n",
      " |-- f420: long (nullable = true)\n",
      " |-- f421: long (nullable = true)\n",
      " |-- f422: long (nullable = true)\n",
      " |-- f423: long (nullable = true)\n",
      " |-- f424: long (nullable = true)\n",
      " |-- f425: long (nullable = true)\n",
      " |-- f426: long (nullable = true)\n",
      " |-- f427: long (nullable = true)\n",
      " |-- f428: long (nullable = true)\n",
      " |-- f429: long (nullable = true)\n",
      " |-- f430: long (nullable = true)\n",
      " |-- f431: long (nullable = true)\n",
      " |-- f432: long (nullable = true)\n",
      " |-- f433: long (nullable = true)\n",
      " |-- f434: long (nullable = true)\n",
      " |-- f435: long (nullable = true)\n",
      " |-- f436: long (nullable = true)\n",
      " |-- f437: long (nullable = true)\n",
      " |-- f438: long (nullable = true)\n",
      " |-- f439: long (nullable = true)\n",
      " |-- f440: long (nullable = true)\n",
      " |-- f441: long (nullable = true)\n",
      " |-- f442: long (nullable = true)\n",
      " |-- f443: long (nullable = true)\n",
      " |-- f444: long (nullable = true)\n",
      " |-- f445: long (nullable = true)\n",
      " |-- f446: long (nullable = true)\n",
      " |-- f447: long (nullable = true)\n",
      " |-- f448: long (nullable = true)\n",
      " |-- f449: long (nullable = true)\n",
      " |-- f450: long (nullable = true)\n",
      " |-- f451: long (nullable = true)\n",
      " |-- f452: long (nullable = true)\n",
      " |-- f453: long (nullable = true)\n",
      " |-- f454: long (nullable = true)\n",
      " |-- f455: long (nullable = true)\n",
      " |-- f456: long (nullable = true)\n",
      " |-- f457: long (nullable = true)\n",
      " |-- f458: long (nullable = true)\n",
      " |-- f459: long (nullable = true)\n",
      " |-- f460: long (nullable = true)\n",
      " |-- f461: long (nullable = true)\n",
      " |-- f462: long (nullable = true)\n",
      " |-- f463: long (nullable = true)\n",
      " |-- f464: long (nullable = true)\n",
      " |-- f465: long (nullable = true)\n",
      " |-- f466: long (nullable = true)\n",
      " |-- f467: long (nullable = true)\n",
      " |-- f468: long (nullable = true)\n",
      " |-- f469: long (nullable = true)\n",
      " |-- f470: long (nullable = true)\n",
      " |-- f471: long (nullable = true)\n",
      " |-- f472: long (nullable = true)\n",
      " |-- f473: long (nullable = true)\n",
      " |-- f474: long (nullable = true)\n",
      " |-- f475: long (nullable = true)\n",
      " |-- f476: long (nullable = true)\n",
      " |-- f477: long (nullable = true)\n",
      " |-- f478: long (nullable = true)\n",
      " |-- f479: long (nullable = true)\n",
      " |-- f480: long (nullable = true)\n",
      " |-- f481: long (nullable = true)\n",
      " |-- f482: long (nullable = true)\n",
      " |-- f483: long (nullable = true)\n",
      " |-- f484: long (nullable = true)\n",
      " |-- f485: long (nullable = true)\n",
      " |-- f486: long (nullable = true)\n",
      " |-- f487: long (nullable = true)\n",
      " |-- f488: long (nullable = true)\n",
      " |-- f489: long (nullable = true)\n",
      " |-- f490: long (nullable = true)\n",
      " |-- f491: long (nullable = true)\n",
      " |-- f492: long (nullable = true)\n",
      " |-- f493: long (nullable = true)\n",
      " |-- f494: long (nullable = true)\n",
      " |-- f495: long (nullable = true)\n",
      " |-- f496: long (nullable = true)\n",
      " |-- f497: long (nullable = true)\n",
      " |-- f498: long (nullable = true)\n",
      " |-- f499: long (nullable = true)\n",
      " |-- f500: long (nullable = true)\n",
      " |-- f501: long (nullable = true)\n",
      " |-- f502: long (nullable = true)\n",
      "\n"
     ]
    }
   ],
   "source": [
    "df.printSchema()"
   ]
  },
  {
   "cell_type": "code",
   "execution_count": 5,
   "metadata": {},
   "outputs": [
    {
     "data": {
      "text/plain": [
       "6883958"
      ]
     },
     "execution_count": 5,
     "metadata": {},
     "output_type": "execute_result"
    }
   ],
   "source": [
    "df.count()"
   ]
  },
  {
   "cell_type": "code",
   "execution_count": 6,
   "metadata": {},
   "outputs": [
    {
     "name": "stdout",
     "output_type": "stream",
     "text": [
      "+-------+--------------------+\n",
      "|summary|                f502|\n",
      "+-------+--------------------+\n",
      "|  count|             6883958|\n",
      "|   mean|0.001443065166870...|\n",
      "| stddev| 0.03796028107271428|\n",
      "|    min|                   0|\n",
      "|    max|                   1|\n",
      "+-------+--------------------+\n",
      "\n"
     ]
    }
   ],
   "source": [
    "df.describe('f502').show()"
   ]
  },
  {
   "cell_type": "markdown",
   "metadata": {},
   "source": [
    "I decided to initially use a Random Forest algorithm, as this algorithm often works quite decently out of the box for many problems. However, at my first pass through this dataset with a RF algorithm, I didn't notice the huge class imbalance as noted below, leaving an F-score with much to be desired."
   ]
  },
  {
   "cell_type": "code",
   "execution_count": 7,
   "metadata": {},
   "outputs": [
    {
     "name": "stdout",
     "output_type": "stream",
     "text": [
      "+-----+-------+\n",
      "|label|  count|\n",
      "+-----+-------+\n",
      "|    1|    368|\n",
      "|    0|6883590|\n",
      "+-----+-------+\n",
      "\n"
     ]
    }
   ],
   "source": [
    "df.groupBy('label').count().show()"
   ]
  },
  {
   "cell_type": "markdown",
   "metadata": {},
   "source": [
    "#### Undersampling for class balancing"
   ]
  },
  {
   "cell_type": "markdown",
   "metadata": {},
   "source": [
    "I decided to heavily undersample class 0 and use the resulting dataset to train the Random Forest."
   ]
  },
  {
   "cell_type": "code",
   "execution_count": 10,
   "metadata": {},
   "outputs": [],
   "source": [
    "zero_label=df.where(df['label']==0).rdd.takeSample(False, 368, seed=12)"
   ]
  },
  {
   "cell_type": "code",
   "execution_count": 11,
   "metadata": {},
   "outputs": [],
   "source": [
    "zerodf=sqlContext.createDataFrame(zero_label)"
   ]
  },
  {
   "cell_type": "code",
   "execution_count": 12,
   "metadata": {},
   "outputs": [],
   "source": [
    "onedf=df.where(df['label']==1)"
   ]
  },
  {
   "cell_type": "code",
   "execution_count": 13,
   "metadata": {},
   "outputs": [],
   "source": [
    "df_bal=zerodf.union(onedf)"
   ]
  },
  {
   "cell_type": "markdown",
   "metadata": {},
   "source": [
    "#### Model training"
   ]
  },
  {
   "cell_type": "markdown",
   "metadata": {},
   "source": [
    "Here, I pipelined a vectorassembler and RF classifier together and trained the model on the 736-row dataframe"
   ]
  },
  {
   "cell_type": "code",
   "execution_count": 14,
   "metadata": {},
   "outputs": [],
   "source": [
    "from pyspark.ml.feature import VectorAssembler"
   ]
  },
  {
   "cell_type": "code",
   "execution_count": 15,
   "metadata": {},
   "outputs": [],
   "source": [
    "ignore=['label']\n",
    "assembler = VectorAssembler(\n",
    "        inputCols=[x for x in df.columns if x not in ignore],\n",
    "        outputCol='features')"
   ]
  },
  {
   "cell_type": "code",
   "execution_count": 16,
   "metadata": {},
   "outputs": [],
   "source": [
    "from pyspark.ml import Pipeline\n",
    "from pyspark.ml.classification import RandomForestClassifier"
   ]
  },
  {
   "cell_type": "code",
   "execution_count": 17,
   "metadata": {},
   "outputs": [],
   "source": [
    "rf=RandomForestClassifier(featuresCol='features')"
   ]
  },
  {
   "cell_type": "code",
   "execution_count": 18,
   "metadata": {},
   "outputs": [],
   "source": [
    "pipeline=Pipeline(stages=[assembler, rf])"
   ]
  },
  {
   "cell_type": "code",
   "execution_count": 19,
   "metadata": {},
   "outputs": [],
   "source": [
    "model=pipeline.fit(df_bal)"
   ]
  },
  {
   "cell_type": "code",
   "execution_count": 20,
   "metadata": {},
   "outputs": [],
   "source": [
    "model.save('rf.model')"
   ]
  },
  {
   "cell_type": "markdown",
   "metadata": {},
   "source": [
    "#### Prediction"
   ]
  },
  {
   "cell_type": "markdown",
   "metadata": {},
   "source": [
    "I predicted labels for the entire dataset here:"
   ]
  },
  {
   "cell_type": "code",
   "execution_count": 22,
   "metadata": {},
   "outputs": [],
   "source": [
    "pred=model.transform(df)"
   ]
  },
  {
   "cell_type": "code",
   "execution_count": 23,
   "metadata": {},
   "outputs": [
    {
     "name": "stdout",
     "output_type": "stream",
     "text": [
      "+----------+-----+--------------------+\n",
      "|prediction|label|            features|\n",
      "+----------+-----+--------------------+\n",
      "|       0.0|    0|(502,[22,24,26,29...|\n",
      "|       0.0|    0|(502,[22,100,368,...|\n",
      "|       0.0|    0|(502,[22,100,368,...|\n",
      "|       0.0|    0|(502,[22,100,340,...|\n",
      "|       0.0|    0|(502,[22,100,340,...|\n",
      "+----------+-----+--------------------+\n",
      "only showing top 5 rows\n",
      "\n"
     ]
    }
   ],
   "source": [
    "pred.select(\"prediction\", \"label\", \"features\").show(5)"
   ]
  },
  {
   "cell_type": "markdown",
   "metadata": {},
   "source": [
    "Finally, I evaluated these predictions according to their F1-score, as seen below:"
   ]
  },
  {
   "cell_type": "code",
   "execution_count": 24,
   "metadata": {},
   "outputs": [],
   "source": [
    "from pyspark.ml.evaluation import MulticlassClassificationEvaluator"
   ]
  },
  {
   "cell_type": "code",
   "execution_count": 25,
   "metadata": {},
   "outputs": [],
   "source": [
    "evaluator=MulticlassClassificationEvaluator(metricName='f1')"
   ]
  },
  {
   "cell_type": "code",
   "execution_count": 26,
   "metadata": {},
   "outputs": [],
   "source": [
    "f1=evaluator.evaluate(pred)"
   ]
  },
  {
   "cell_type": "code",
   "execution_count": 27,
   "metadata": {},
   "outputs": [
    {
     "data": {
      "text/plain": [
       "0.9447626111943398"
      ]
     },
     "execution_count": 27,
     "metadata": {},
     "output_type": "execute_result"
    }
   ],
   "source": [
    "f1"
   ]
  },
  {
   "cell_type": "markdown",
   "metadata": {},
   "source": [
    "This leaves quite a good F1 score (much better than training on unbalanced classes, in which my F1 score was closer to 0.01). Since the score was quite high, I decided to not try any further algorithms out. In assessing feature importances, the pyspark Random Forest model allows us to access feature importances directly by featureImportances :"
   ]
  },
  {
   "cell_type": "markdown",
   "metadata": {},
   "source": [
    "#### Feature importance and discussion"
   ]
  },
  {
   "cell_type": "code",
   "execution_count": 38,
   "metadata": {},
   "outputs": [],
   "source": [
    "featimp=model.stages[-1].featureImportances.toArray()"
   ]
  },
  {
   "cell_type": "code",
   "execution_count": 40,
   "metadata": {},
   "outputs": [
    {
     "data": {
      "text/plain": [
       "array([ 0.05568427,  0.06748862,  0.12727115,  0.0515309 ,  0.05874978,\n",
       "        0.05186435,  0.05402104])"
      ]
     },
     "execution_count": 40,
     "metadata": {},
     "output_type": "execute_result"
    }
   ],
   "source": [
    "# top feature importances\n",
    "featimp[featimp>0.05]"
   ]
  },
  {
   "cell_type": "code",
   "execution_count": 44,
   "metadata": {},
   "outputs": [
    {
     "data": {
      "text/plain": [
       "array([[  0],\n",
       "       [  1],\n",
       "       [  3],\n",
       "       [  5],\n",
       "       [ 22],\n",
       "       [ 26],\n",
       "       [479]])"
      ]
     },
     "execution_count": 44,
     "metadata": {},
     "output_type": "execute_result"
    }
   ],
   "source": [
    "# the indices of the top feature importances\n",
    "import numpy as np\n",
    "np.argwhere(featimp>0.05)"
   ]
  },
  {
   "cell_type": "markdown",
   "metadata": {},
   "source": [
    "As an example of features that have importance greater than 0.05, we can see that there are 7 such features (column number and weight) shown above.\n",
    "\n",
    "As for determining the directionality of the features, the first idea that springs to mind is to train a logistic regression model and look at the signs of the coefficients. However, as training a new model can be expensive, and since logistic regression does not necessarily rely on the same decision boundaries as the RF model, we instead can examine the top features and determine where they are most represented, ie, if feature X has higher values in class 0 than class 1, this would indicate negative directionality. We would want to take multiple random subsets of the 0-class data again in order to make sure that both classes were well represented when making such an assessment. Additionally, we could use concepts like permutation importance or SHAP values to help us understand how our model quantifies contributions."
   ]
  },
  {
   "cell_type": "code",
   "execution_count": null,
   "metadata": {},
   "outputs": [],
   "source": []
  }
 ],
 "metadata": {
  "kernelspec": {
   "display_name": "Python 3",
   "language": "python",
   "name": "python3"
  },
  "language_info": {
   "codemirror_mode": {
    "name": "ipython",
    "version": 3
   },
   "file_extension": ".py",
   "mimetype": "text/x-python",
   "name": "python",
   "nbconvert_exporter": "python",
   "pygments_lexer": "ipython3",
   "version": "3.6.6"
  }
 },
 "nbformat": 4,
 "nbformat_minor": 2
}
